{
  "cells": [
    {
      "cell_type": "markdown",
      "metadata": {
        "id": "__H29OsRwgWS"
      },
      "source": [
        "**Future Note**"
      ]
    },
    {
      "cell_type": "markdown",
      "metadata": {
        "id": "3hZLpzjDwgWT"
      },
      "source": [
        "- Consider using ONNX for optimization when it comes to model inference"
      ]
    },
    {
      "cell_type": "markdown",
      "metadata": {
        "id": "E4Y6-q3hwgWU"
      },
      "source": [
        "## **Medical Computer Vision Model (EfficientNet) Fine Tuning & Training Pipeline**"
      ]
    },
    {
      "cell_type": "markdown",
      "metadata": {
        "id": "WSEanpb5wgWU"
      },
      "source": [
        "EfficientNet, introduced by Google in 2019, is a convolutional neural network architecture and scaling method. It achieves state-of-the-art accuracy while being up to 10 times more efficient in terms of size and speed. The graph below illustrate how EfficientNet outperforms other architectures in terms of accuracy (on ImageNet) and computing resources.\n",
        "\n",
        "![image.png](attachment:image.png)"
      ]
    },
    {
      "cell_type": "markdown",
      "metadata": {
        "id": "SbQnZtPfwgWU"
      },
      "source": [
        "EfficientNet consists of different versions from b0 to b7 which differs based on the number of model parameters. Higher numbers leads to greater accuracy but at the expense of high computational resources and longer training time.\n",
        "\n",
        "Hence, for this study, we will be using PyTorch implementation of EfficentNet, allowing the set up of EfficientNet-B5 architecture with Pre-Trained Weights. This version balances the accuracy and computational resource expense."
      ]
    },
    {
      "cell_type": "markdown",
      "metadata": {
        "id": "jKM2igS_wgWV"
      },
      "source": [
        "- Import necessary libraries"
      ]
    },
    {
      "cell_type": "code",
      "execution_count": null,
      "metadata": {
        "id": "vHoVSjNiwgWV"
      },
      "outputs": [],
      "source": [
        "import os\n",
        "from glob import glob\n",
        "import cv2\n",
        "import time\n",
        "import gc\n",
        "import pandas as pd\n",
        "import numpy as np\n",
        "import matplotlib.pyplot as plt\n",
        "import seaborn as sns\n",
        "from tqdm import tqdm\n",
        "from PIL import Image\n",
        "from google.colab import drive\n",
        "\n",
        "import torch\n",
        "import torch.nn as nn\n",
        "import torch.optim as optim\n",
        "from torch.cuda.amp import autocast, GradScaler\n",
        "from torch.utils.data import Dataset, DataLoader\n",
        "from torch.autograd import Variable\n",
        "import torchvision.models as models\n",
        "import torchvision.transforms as transforms\n",
        "import timm\n",
        "\n",
        "# sklearn libraries\n",
        "from sklearn.metrics import confusion_matrix, classification_report\n",
        "from sklearn.model_selection import train_test_split"
      ]
    },
    {
      "cell_type": "markdown",
      "source": [
        "**Mount Google Drive (Allow Content Access)**"
      ],
      "metadata": {
        "id": "bai42-pAH1_G"
      }
    },
    {
      "cell_type": "code",
      "source": [
        "drive.mount('/content/drive') #Mount content in my google drive"
      ],
      "metadata": {
        "colab": {
          "base_uri": "https://localhost:8080/"
        },
        "id": "_LfV92pVH9gA",
        "outputId": "cdb9c363-45fe-47ef-b3c8-b18368693024"
      },
      "execution_count": null,
      "outputs": [
        {
          "output_type": "stream",
          "name": "stdout",
          "text": [
            "Mounted at /content/drive\n"
          ]
        }
      ]
    },
    {
      "cell_type": "markdown",
      "metadata": {
        "id": "MTGYINUewgWV"
      },
      "source": [
        "**Configurable parameters**"
      ]
    },
    {
      "cell_type": "code",
      "execution_count": null,
      "metadata": {
        "id": "653zaFbFwgWV"
      },
      "outputs": [],
      "source": [
        "#Data Directory\n",
        "DATA_DIR = '/content/drive/MyDrive/ImageProcessing&CV_Assignment'\n",
        "\n",
        "#Data Loaders\n",
        "MIXED_PRECISION = True  # Use mixed precision training\n",
        "BATCH_SIZE = 128 # Using A100 GPU (Google Colab)\n",
        "PIN_MEMORY = True\n",
        "NUM_WORKERS = 8  # Adjust based on CPU cores\n",
        "\n",
        "#Model Training\n",
        "NUM_EPOCHS = 25\n",
        "LEARNING_RATE = 0.004 #Following rule of thumb: linear scaling rule (if batch size doubled, learning rate is also doubled)\n",
        "TRAIN_SPLIT = 0.8"
      ]
    },
    {
      "cell_type": "markdown",
      "metadata": {
        "id": "dmBu_y_zwgWW"
      },
      "source": [
        "**Device Configuration**"
      ]
    },
    {
      "cell_type": "code",
      "execution_count": null,
      "metadata": {
        "id": "AEj2UyycwgWW",
        "outputId": "728f00a0-970b-4d65-a5ab-1cabc6d4d293",
        "colab": {
          "base_uri": "https://localhost:8080/"
        }
      },
      "outputs": [
        {
          "output_type": "stream",
          "name": "stdout",
          "text": [
            "Sat Apr 26 14:06:09 2025       \n",
            "+-----------------------------------------------------------------------------------------+\n",
            "| NVIDIA-SMI 550.54.15              Driver Version: 550.54.15      CUDA Version: 12.4     |\n",
            "|-----------------------------------------+------------------------+----------------------+\n",
            "| GPU  Name                 Persistence-M | Bus-Id          Disp.A | Volatile Uncorr. ECC |\n",
            "| Fan  Temp   Perf          Pwr:Usage/Cap |           Memory-Usage | GPU-Util  Compute M. |\n",
            "|                                         |                        |               MIG M. |\n",
            "|=========================================+========================+======================|\n",
            "|   0  NVIDIA A100-SXM4-40GB          Off |   00000000:00:04.0 Off |                    0 |\n",
            "| N/A   31C    P0             44W /  400W |       0MiB /  40960MiB |      0%      Default |\n",
            "|                                         |                        |             Disabled |\n",
            "+-----------------------------------------+------------------------+----------------------+\n",
            "                                                                                         \n",
            "+-----------------------------------------------------------------------------------------+\n",
            "| Processes:                                                                              |\n",
            "|  GPU   GI   CI        PID   Type   Process name                              GPU Memory |\n",
            "|        ID   ID                                                               Usage      |\n",
            "|=========================================================================================|\n",
            "|  No running processes found                                                             |\n",
            "+-----------------------------------------------------------------------------------------+\n"
          ]
        }
      ],
      "source": [
        "!nvidia-smi"
      ]
    },
    {
      "cell_type": "code",
      "execution_count": null,
      "metadata": {
        "id": "2Xe_HDWYwgWW",
        "outputId": "db9a9aa4-8784-4e86-dc52-a96d83a5f265",
        "colab": {
          "base_uri": "https://localhost:8080/"
        }
      },
      "outputs": [
        {
          "output_type": "stream",
          "name": "stdout",
          "text": [
            "2.6.0+cu124\n",
            "1\n",
            "NVIDIA A100-SXM4-40GB\n",
            "using device: cuda\n"
          ]
        }
      ],
      "source": [
        "device = torch.device(\"cuda\" if torch.cuda.is_available() else \"cpu\")\n",
        "print(torch.__version__)  # Check PyTorch version\n",
        "print(torch.cuda.device_count())  # Should return 1 (or more)\n",
        "print(torch.cuda.get_device_name(0))  # Should show gpu name\n",
        "print(f\"using device: {device}\")"
      ]
    },
    {
      "cell_type": "markdown",
      "metadata": {
        "id": "u4gPkP9WwgWX"
      },
      "source": [
        "**1) Load and Explore Dataset**"
      ]
    },
    {
      "cell_type": "markdown",
      "metadata": {
        "id": "MzmCrQwGwgWX"
      },
      "source": [
        "**Data Exploration and Visualization (EDA)**"
      ]
    },
    {
      "cell_type": "markdown",
      "metadata": {
        "id": "Yp0Y_yy4wgWX"
      },
      "source": [
        "- Import dataset"
      ]
    },
    {
      "cell_type": "code",
      "execution_count": null,
      "metadata": {
        "id": "V2TZ8GzkwgWX",
        "colab": {
          "base_uri": "https://localhost:8080/"
        },
        "outputId": "580ea2df-26fc-4174-ed7f-2320915c0bd1"
      },
      "outputs": [
        {
          "output_type": "stream",
          "name": "stdout",
          "text": [
            "     lesion_id      image_id   dx dx_type   age   sex localization\n",
            "0  HAM_0000118  ISIC_0027419  bkl   histo  80.0  male        scalp\n",
            "1  HAM_0000118  ISIC_0025030  bkl   histo  80.0  male        scalp\n",
            "2  HAM_0002730  ISIC_0026769  bkl   histo  80.0  male        scalp\n",
            "3  HAM_0002730  ISIC_0025661  bkl   histo  80.0  male        scalp\n",
            "4  HAM_0001466  ISIC_0031633  bkl   histo  75.0  male          ear\n"
          ]
        }
      ],
      "source": [
        "#Load custom dataste with standard transformsd\n",
        "skin_df = pd.read_csv(DATA_DIR+'/HAM10000_metadata.csv')\n",
        "\n",
        "print(skin_df.head())"
      ]
    },
    {
      "cell_type": "markdown",
      "metadata": {
        "id": "iVNa7raXwgWX"
      },
      "source": [
        "- Dataset Info"
      ]
    },
    {
      "cell_type": "code",
      "execution_count": null,
      "metadata": {
        "id": "h0DbxEjvwgWX",
        "colab": {
          "base_uri": "https://localhost:8080/"
        },
        "outputId": "55d419ce-e528-4b6f-f8b8-cfda95458fa8"
      },
      "outputs": [
        {
          "output_type": "stream",
          "name": "stdout",
          "text": [
            "<class 'pandas.core.frame.DataFrame'>\n",
            "RangeIndex: 10015 entries, 0 to 10014\n",
            "Data columns (total 7 columns):\n",
            " #   Column        Non-Null Count  Dtype  \n",
            "---  ------        --------------  -----  \n",
            " 0   lesion_id     10015 non-null  object \n",
            " 1   image_id      10015 non-null  object \n",
            " 2   dx            10015 non-null  object \n",
            " 3   dx_type       10015 non-null  object \n",
            " 4   age           9958 non-null   float64\n",
            " 5   sex           10015 non-null  object \n",
            " 6   localization  10015 non-null  object \n",
            "dtypes: float64(1), object(6)\n",
            "memory usage: 547.8+ KB\n",
            "None\n"
          ]
        }
      ],
      "source": [
        "print(skin_df.info())"
      ]
    },
    {
      "cell_type": "markdown",
      "metadata": {
        "id": "LeyqdvrjwgWX"
      },
      "source": [
        "- Dataset row length"
      ]
    },
    {
      "cell_type": "code",
      "execution_count": null,
      "metadata": {
        "id": "aB1HytuAwgWY",
        "colab": {
          "base_uri": "https://localhost:8080/"
        },
        "outputId": "1280f101-085d-46e9-af24-26bd95bd8609"
      },
      "outputs": [
        {
          "output_type": "stream",
          "name": "stdout",
          "text": [
            "Dataset size: 10015 images\n"
          ]
        }
      ],
      "source": [
        "print(f\"Dataset size: {len(skin_df)} images\")"
      ]
    },
    {
      "cell_type": "markdown",
      "metadata": {
        "id": "BGTg0d3GwgWY"
      },
      "source": [
        "- Class Distribution"
      ]
    },
    {
      "cell_type": "code",
      "execution_count": null,
      "metadata": {
        "id": "tm6CVoMcwgWY",
        "colab": {
          "base_uri": "https://localhost:8080/",
          "height": 564
        },
        "outputId": "728c19eb-31d0-41df-b256-290cc19159be"
      },
      "outputs": [
        {
          "output_type": "display_data",
          "data": {
            "text/plain": [
              "<Figure size 1200x600 with 1 Axes>"
            ],
            "image/png": "[encoded data removed]"
          },
          "metadata": {}
        }
      ],
      "source": [
        "# Display class distribution with a bar chart\n",
        "class_counts = skin_df['dx'].value_counts().sort_index()\n",
        "plt.figure(figsize=(12, 6))\n",
        "bars = plt.bar(class_counts.index, class_counts.values)\n",
        "plt.title(\"Class Distribution in HAM10000 Dataset\")\n",
        "plt.xlabel(\"Class\")\n",
        "plt.ylabel(\"Count\")\n",
        "\n",
        "# Add count labels on top of each bar\n",
        "for bar in bars:\n",
        "    height = bar.get_height()\n",
        "    plt.text(bar.get_x() + bar.get_width()/2., height + 5,\n",
        "             f'{height} ({height/len(skin_df)*100:.1f}%)',\n",
        "             ha='center', va='bottom', rotation=0)\n",
        "\n",
        "plt.show()"
      ]
    },
    {
      "cell_type": "markdown",
      "metadata": {
        "id": "OFMDFTx9wgWY"
      },
      "source": [
        "The class distribution in a dataset like HAM10000 generally reflects the real-world prevalence of these conditions. Melanocytic nevi (moles) are typically much more common than some of the malignant or rarer lesion types (for example, melanoma or basal cell carcinoma). This imbalance is a known characteristic of many skin lesion datasets and is why later techniques like weighted sampling are used during training."
      ]
    },
    {
      "cell_type": "markdown",
      "source": [
        "- Lesion Image Patient Demographic"
      ],
      "metadata": {
        "id": "H2zzKFk-XUCM"
      }
    },
    {
      "cell_type": "code",
      "source": [
        "# Lesion location distribution\n",
        "location_counts = skin_df['localization'].value_counts()\n",
        "plt.figure(figsize=(12, 6))\n",
        "plt.bar(location_counts.index, location_counts.values)\n",
        "plt.title('Lesion Location Distribution')\n",
        "plt.xlabel('Location')\n",
        "plt.ylabel('Count')\n",
        "plt.xticks(rotation=45, ha='right')  # Rotate x-axis labels for better readability\n",
        "plt.show()\n",
        "\n",
        "# Correlation with diagnosis (example using a cross-tabulation)\n",
        "location_diagnosis_crosstab = pd.crosstab(skin_df['localization'], skin_df['dx'])\n",
        "print(location_diagnosis_crosstab)"
      ],
      "metadata": {
        "colab": {
          "base_uri": "https://localhost:8080/",
          "height": 934
        },
        "id": "EUHqRqmbXMv6",
        "outputId": "000662a5-e7ae-4892-da5b-e4ec3e1d8d8a"
      },
      "execution_count": null,
      "outputs": [
        {
          "output_type": "display_data",
          "data": {
            "text/plain": [
              "<Figure size 1200x600 with 1 Axes>"
            ],
            "image/png": "[encoded data removed]"
          },
          "metadata": {}
        },
        {
          "output_type": "stream",
          "name": "stdout",
          "text": [
            "dx               akiec  bcc  bkl  df  mel    nv  vasc\n",
            "localization                                         \n",
            "abdomen              5   18   42   4   66   860    27\n",
            "acral                0    0    0   0    0     7     0\n",
            "back                29  186  202   2  324  1427    22\n",
            "chest               12   47   74   0   68   200     6\n",
            "ear                  3    0    6   0   17    30     0\n",
            "face               113  101  319   0  104   100     8\n",
            "foot                 0    4    1   2   28   284     0\n",
            "genital              0    0    2   1    0    45     0\n",
            "hand                13    2   14   0    1    55     5\n",
            "lower extremity     65   58  174  82  192  1479    27\n",
            "neck                10   14   31   0   29    81     3\n",
            "scalp               14   19   34   0   14    45     2\n",
            "trunk                1   11   73   0   47  1241    31\n",
            "unknown              0    5   23   0   10   196     0\n",
            "upper extremity     62   49  104  24  213   655    11\n"
          ]
        }
      ]
    },
    {
      "cell_type": "markdown",
      "source": [
        "- Age and Gender"
      ],
      "metadata": {
        "id": "jc3Qs69MXY64"
      }
    },
    {
      "cell_type": "code",
      "source": [
        "# Age distribution\n",
        "plt.figure(figsize=(8, 6))\n",
        "plt.hist(skin_df['age'], bins=20)\n",
        "plt.title('Age Distribution')\n",
        "plt.xlabel('Age')\n",
        "plt.ylabel('Frequency')\n",
        "plt.show()\n",
        "\n",
        "# Gender distribution\n",
        "gender_counts = skin_df['sex'].value_counts()\n",
        "plt.figure(figsize=(6, 4))\n",
        "plt.bar(gender_counts.index, gender_counts.values)\n",
        "plt.title('Gender Distribution')\n",
        "plt.xlabel('Gender')\n",
        "plt.ylabel('Count')\n",
        "plt.show()\n",
        "\n",
        "# Diagnosis by age/gender (example using groupby and aggregation)\n",
        "diagnosis_by_age_gender = skin_df.groupby(['sex', 'dx'])['age'].mean()\n",
        "print(diagnosis_by_age_gender)"
      ],
      "metadata": {
        "colab": {
          "base_uri": "https://localhost:8080/",
          "height": 1000
        },
        "id": "l5I8vAwxXiOl",
        "outputId": "6c83b161-abb3-485d-b63b-9de5b49a391f"
      },
      "execution_count": null,
      "outputs": [
        {
          "output_type": "display_data",
          "data": {
            "text/plain": [
              "<Figure size 800x600 with 1 Axes>"
            ],
            "image/png": "[encoded data removed]"
          },
          "metadata": {}
        },
        {
          "output_type": "display_data",
          "data": {
            "text/plain": [
              "<Figure size 600x400 with 1 Axes>"
            ],
            "image/png": "[encoded data removed]"
          },
          "metadata": {}
        },
        {
          "output_type": "stream",
          "name": "stdout",
          "text": [
            "sex      dx   \n",
            "female   akiec    66.698113\n",
            "         bcc      65.228426\n",
            "         bkl      62.494600\n",
            "         df       49.326923\n",
            "         mel      56.391509\n",
            "         nv       44.104547\n",
            "         vasc     49.589041\n",
            "male     akiec    66.447964\n",
            "         bcc      67.823344\n",
            "         bkl      65.607029\n",
            "         df       56.111111\n",
            "         mel      63.326055\n",
            "         nv       48.748903\n",
            "         vasc     53.260870\n",
            "unknown  bkl            NaN\n",
            "         nv       37.500000\n",
            "Name: age, dtype: float64\n"
          ]
        }
      ]
    },
    {
      "cell_type": "markdown",
      "metadata": {
        "id": "IZey8J_LwgWY"
      },
      "source": [
        "**Data Pre-processing**"
      ]
    },
    {
      "cell_type": "markdown",
      "metadata": {
        "id": "pQdKIkbWwgWY"
      },
      "source": [
        "- Insert 3 columns for further assistance of Image and dataset loading"
      ]
    },
    {
      "cell_type": "code",
      "execution_count": null,
      "metadata": {
        "id": "xuftehqewgWY"
      },
      "outputs": [],
      "source": [
        "image_paths = glob(os.path.join(DATA_DIR, '*', '*.jpg')) # Get all image paths in the dataset directory\n",
        "imageid_path_dict = {os.path.splitext(os.path.basename(x))[0]: x for x in image_paths} # Create a dictionary mapping image IDs to their paths (image_paths from cell 6)\n",
        "lesion_type_dict = {\n",
        "    'nv': 'Melanocytic nevi',\n",
        "    'mel': 'Melanoma',\n",
        "    'bkl': 'Benign keratosis-like lesions ',\n",
        "    'bcc': 'Basal cell carcinoma',\n",
        "    'akiec': 'Actinic keratoses',\n",
        "    'vasc': 'Vascular lesions',\n",
        "    'df': 'Dermatofibroma'\n",
        "}"
      ]
    },
    {
      "cell_type": "markdown",
      "metadata": {
        "id": "7Sk5oO17wgWY"
      },
      "source": [
        "i) Column 1, '**path**': Path of the image matching with the image ID within CSV"
      ]
    },
    {
      "cell_type": "code",
      "execution_count": null,
      "metadata": {
        "id": "ZkDBNCvAwgWZ"
      },
      "outputs": [],
      "source": [
        "skin_df['path'] = skin_df['image_id'].map(imageid_path_dict.get)"
      ]
    },
    {
      "cell_type": "markdown",
      "metadata": {
        "id": "Xh1eCJA-wgWZ"
      },
      "source": [
        "ii) Column 2, '**cell_type**': Full name of '**dx**' label in CSV for clarification"
      ]
    },
    {
      "cell_type": "code",
      "execution_count": null,
      "metadata": {
        "id": "Akx-NeLBwgWZ"
      },
      "outputs": [],
      "source": [
        "skin_df['cell_type'] = skin_df['dx'].map(lesion_type_dict.get)"
      ]
    },
    {
      "cell_type": "markdown",
      "metadata": {
        "id": "y8KYSuixwgWZ"
      },
      "source": [
        "iii) Column 3, 'cell_type_idx': Corresponding index of cell type which will be used as the y category of image"
      ]
    },
    {
      "cell_type": "code",
      "execution_count": null,
      "metadata": {
        "id": "G4XMtLLzwgWZ"
      },
      "outputs": [],
      "source": [
        "skin_df['cell_type_idx'] = pd.Categorical(skin_df['cell_type']).codes"
      ]
    },
    {
      "cell_type": "code",
      "execution_count": null,
      "metadata": {
        "id": "UhtUn-FTwgWZ",
        "colab": {
          "base_uri": "https://localhost:8080/",
          "height": 293
        },
        "outputId": "9982594d-bc9d-48ce-b827-b0090f6e9a8b"
      },
      "outputs": [
        {
          "output_type": "execute_result",
          "data": {
            "text/plain": [
              "     lesion_id      image_id   dx dx_type   age   sex localization  \\\n",
              "0  HAM_0000118  ISIC_0027419  bkl   histo  80.0  male        scalp   \n",
              "1  HAM_0000118  ISIC_0025030  bkl   histo  80.0  male        scalp   \n",
              "2  HAM_0002730  ISIC_0026769  bkl   histo  80.0  male        scalp   \n",
              "3  HAM_0002730  ISIC_0025661  bkl   histo  80.0  male        scalp   \n",
              "4  HAM_0001466  ISIC_0031633  bkl   histo  75.0  male          ear   \n",
              "\n",
              "                                                path  \\\n",
              "0  /content/drive/MyDrive/ImageProcessing&CV_Assi...   \n",
              "1  /content/drive/MyDrive/ImageProcessing&CV_Assi...   \n",
              "2  /content/drive/MyDrive/ImageProcessing&CV_Assi...   \n",
              "3  /content/drive/MyDrive/ImageProcessing&CV_Assi...   \n",
              "4  /content/drive/MyDrive/ImageProcessing&CV_Assi...   \n",
              "\n",
              "                        cell_type  cell_type_idx  \n",
              "0  Benign keratosis-like lesions               2  \n",
              "1  Benign keratosis-like lesions               2  \n",
              "2  Benign keratosis-like lesions               2  \n",
              "3  Benign keratosis-like lesions               2  \n",
              "4  Benign keratosis-like lesions               2  "
            ],
            "text/html": [
              "\n",
              "  <div id=\"df-db652605-b1a2-4324-abd1-51c76ce4d04b\" class=\"colab-df-container\">\n",
              "    <div>\n",
              "<style scoped>\n",
              "    .dataframe tbody tr th:only-of-type {\n",
              "        vertical-align: middle;\n",
              "    }\n",
              "\n",
              "    .dataframe tbody tr th {\n",
              "        vertical-align: top;\n",
              "    }\n",
              "\n",
              "    .dataframe thead th {\n",
              "        text-align: right;\n",
              "    }\n",
              "</style>\n",
              "<table border=\"1\" class=\"dataframe\">\n",
              "  <thead>\n",
              "    <tr style=\"text-align: right;\">\n",
              "      <th></th>\n",
              "      <th>lesion_id</th>\n",
              "      <th>image_id</th>\n",
              "      <th>dx</th>\n",
              "      <th>dx_type</th>\n",
              "      <th>age</th>\n",
              "      <th>sex</th>\n",
              "      <th>localization</th>\n",
              "      <th>path</th>\n",
              "      <th>cell_type</th>\n",
              "      <th>cell_type_idx</th>\n",
              "    </tr>\n",
              "  </thead>\n",
              "  <tbody>\n",
              "    <tr>\n",
              "      <th>0</th>\n",
              "      <td>HAM_0000118</td>\n",
              "      <td>ISIC_0027419</td>\n",
              "      <td>bkl</td>\n",
              "      <td>histo</td>\n",
              "      <td>80.0</td>\n",
              "      <td>male</td>\n",
              "      <td>scalp</td>\n",
              "      <td>/content/drive/MyDrive/ImageProcessing&amp;CV_Assi...</td>\n",
              "      <td>Benign keratosis-like lesions</td>\n",
              "      <td>2</td>\n",
              "    </tr>\n",
              "    <tr>\n",
              "      <th>1</th>\n",
              "      <td>HAM_0000118</td>\n",
              "      <td>ISIC_0025030</td>\n",
              "      <td>bkl</td>\n",
              "      <td>histo</td>\n",
              "      <td>80.0</td>\n",
              "      <td>male</td>\n",
              "      <td>scalp</td>\n",
              "      <td>/content/drive/MyDrive/ImageProcessing&amp;CV_Assi...</td>\n",
              "      <td>Benign keratosis-like lesions</td>\n",
              "      <td>2</td>\n",
              "    </tr>\n",
              "    <tr>\n",
              "      <th>2</th>\n",
              "      <td>HAM_0002730</td>\n",
              "      <td>ISIC_0026769</td>\n",
              "      <td>bkl</td>\n",
              "      <td>histo</td>\n",
              "      <td>80.0</td>\n",
              "      <td>male</td>\n",
              "      <td>scalp</td>\n",
              "      <td>/content/drive/MyDrive/ImageProcessing&amp;CV_Assi...</td>\n",
              "      <td>Benign keratosis-like lesions</td>\n",
              "      <td>2</td>\n",
              "    </tr>\n",
              "    <tr>\n",
              "      <th>3</th>\n",
              "      <td>HAM_0002730</td>\n",
              "      <td>ISIC_0025661</td>\n",
              "      <td>bkl</td>\n",
              "      <td>histo</td>\n",
              "      <td>80.0</td>\n",
              "      <td>male</td>\n",
              "      <td>scalp</td>\n",
              "      <td>/content/drive/MyDrive/ImageProcessing&amp;CV_Assi...</td>\n",
              "      <td>Benign keratosis-like lesions</td>\n",
              "      <td>2</td>\n",
              "    </tr>\n",
              "    <tr>\n",
              "      <th>4</th>\n",
              "      <td>HAM_0001466</td>\n",
              "      <td>ISIC_0031633</td>\n",
              "      <td>bkl</td>\n",
              "      <td>histo</td>\n",
              "      <td>75.0</td>\n",
              "      <td>male</td>\n",
              "      <td>ear</td>\n",
              "      <td>/content/drive/MyDrive/ImageProcessing&amp;CV_Assi...</td>\n",
              "      <td>Benign keratosis-like lesions</td>\n",
              "      <td>2</td>\n",
              "    </tr>\n",
              "  </tbody>\n",
              "</table>\n",
              "</div>\n",
              "    <div class=\"colab-df-buttons\">\n",
              "\n",
              "  <div class=\"colab-df-container\">\n",
              "    <button class=\"colab-df-convert\" onclick=\"convertToInteractive('df-db652605-b1a2-4324-abd1-51c76ce4d04b')\"\n",
              "            title=\"Convert this dataframe to an interactive table.\"\n",
              "            style=\"display:none;\">\n",
              "\n",
              "  <svg xmlns=\"http://www.w3.org/2000/svg\" height=\"24px\" viewBox=\"0 -960 960 960\">\n",
              "    <path d=\"M120-120v-720h720v720H120Zm60-500h600v-160H180v160Zm220 220h160v-160H400v160Zm0 220h160v-160H400v160ZM180-400h160v-160H180v160Zm440 0h160v-160H620v160ZM180-180h160v-160H180v160Zm440 0h160v-160H620v160Z\"/>\n",
              "  </svg>\n",
              "    </button>\n",
              "\n",
              "  <style>\n",
              "    .colab-df-container {\n",
              "      display:flex;\n",
              "      gap: 12px;\n",
              "    }\n",
              "\n",
              "    .colab-df-convert {\n",
              "      background-color: #E8F0FE;\n",
              "      border: none;\n",
              "      border-radius: 50%;\n",
              "      cursor: pointer;\n",
              "      display: none;\n",
              "      fill: #1967D2;\n",
              "      height: 32px;\n",
              "      padding: 0 0 0 0;\n",
              "      width: 32px;\n",
              "    }\n",
              "\n",
              "    .colab-df-convert:hover {\n",
              "      background-color: #E2EBFA;\n",
              "      box-shadow: 0px 1px 2px rgba(60, 64, 67, 0.3), 0px 1px 3px 1px rgba(60, 64, 67, 0.15);\n",
              "      fill: #174EA6;\n",
              "    }\n",
              "\n",
              "    .colab-df-buttons div {\n",
              "      margin-bottom: 4px;\n",
              "    }\n",
              "\n",
              "    [theme=dark] .colab-df-convert {\n",
              "      background-color: #3B4455;\n",
              "      fill: #D2E3FC;\n",
              "    }\n",
              "\n",
              "    [theme=dark] .colab-df-convert:hover {\n",
              "      background-color: #434B5C;\n",
              "      box-shadow: 0px 1px 3px 1px rgba(0, 0, 0, 0.15);\n",
              "      filter: drop-shadow(0px 1px 2px rgba(0, 0, 0, 0.3));\n",
              "      fill: #FFFFFF;\n",
              "    }\n",
              "  </style>\n",
              "\n",
              "    <script>\n",
              "      const buttonEl =\n",
              "        document.querySelector('#df-db652605-b1a2-4324-abd1-51c76ce4d04b button.colab-df-convert');\n",
              "      buttonEl.style.display =\n",
              "        google.colab.kernel.accessAllowed ? 'block' : 'none';\n",
              "\n",
              "      async function convertToInteractive(key) {\n",
              "        const element = document.querySelector('#df-db652605-b1a2-4324-abd1-51c76ce4d04b');\n",
              "        const dataTable =\n",
              "          await google.colab.kernel.invokeFunction('convertToInteractive',\n",
              "                                                    [key], {});\n",
              "        if (!dataTable) return;\n",
              "\n",
              "        const docLinkHtml = 'Like what you see? Visit the ' +\n",
              "          '<a target=\"_blank\" href=https://colab.research.google.com/notebooks/data_table.ipynb>data table notebook</a>'\n",
              "          + ' to learn more about interactive tables.';\n",
              "        element.innerHTML = '';\n",
              "        dataTable['output_type'] = 'display_data';\n",
              "        await google.colab.output.renderOutput(dataTable, element);\n",
              "        const docLink = document.createElement('div');\n",
              "        docLink.innerHTML = docLinkHtml;\n",
              "        element.appendChild(docLink);\n",
              "      }\n",
              "    </script>\n",
              "  </div>\n",
              "\n",
              "\n",
              "    <div id=\"df-bed14cf1-f825-4275-9250-5293e0a73fe7\">\n",
              "      <button class=\"colab-df-quickchart\" onclick=\"quickchart('df-bed14cf1-f825-4275-9250-5293e0a73fe7')\"\n",
              "                title=\"Suggest charts\"\n",
              "                style=\"display:none;\">\n",
              "\n",
              "<svg xmlns=\"http://www.w3.org/2000/svg\" height=\"24px\"viewBox=\"0 0 24 24\"\n",
              "     width=\"24px\">\n",
              "    <g>\n",
              "        <path d=\"M19 3H5c-1.1 0-2 .9-2 2v14c0 1.1.9 2 2 2h14c1.1 0 2-.9 2-2V5c0-1.1-.9-2-2-2zM9 17H7v-7h2v7zm4 0h-2V7h2v10zm4 0h-2v-4h2v4z\"/>\n",
              "    </g>\n",
              "</svg>\n",
              "      </button>\n",
              "\n",
              "<style>\n",
              "  .colab-df-quickchart {\n",
              "      --bg-color: #E8F0FE;\n",
              "      --fill-color: #1967D2;\n",
              "      --hover-bg-color: #E2EBFA;\n",
              "      --hover-fill-color: #174EA6;\n",
              "      --disabled-fill-color: #AAA;\n",
              "      --disabled-bg-color: #DDD;\n",
              "  }\n",
              "\n",
              "  [theme=dark] .colab-df-quickchart {\n",
              "      --bg-color: #3B4455;\n",
              "      --fill-color: #D2E3FC;\n",
              "      --hover-bg-color: #434B5C;\n",
              "      --hover-fill-color: #FFFFFF;\n",
              "      --disabled-bg-color: #3B4455;\n",
              "      --disabled-fill-color: #666;\n",
              "  }\n",
              "\n",
              "  .colab-df-quickchart {\n",
              "    background-color: var(--bg-color);\n",
              "    border: none;\n",
              "    border-radius: 50%;\n",
              "    cursor: pointer;\n",
              "    display: none;\n",
              "    fill: var(--fill-color);\n",
              "    height: 32px;\n",
              "    padding: 0;\n",
              "    width: 32px;\n",
              "  }\n",
              "\n",
              "  .colab-df-quickchart:hover {\n",
              "    background-color: var(--hover-bg-color);\n",
              "    box-shadow: 0 1px 2px rgba(60, 64, 67, 0.3), 0 1px 3px 1px rgba(60, 64, 67, 0.15);\n",
              "    fill: var(--button-hover-fill-color);\n",
              "  }\n",
              "\n",
              "  .colab-df-quickchart-complete:disabled,\n",
              "  .colab-df-quickchart-complete:disabled:hover {\n",
              "    background-color: var(--disabled-bg-color);\n",
              "    fill: var(--disabled-fill-color);\n",
              "    box-shadow: none;\n",
              "  }\n",
              "\n",
              "  .colab-df-spinner {\n",
              "    border: 2px solid var(--fill-color);\n",
              "    border-color: transparent;\n",
              "    border-bottom-color: var(--fill-color);\n",
              "    animation:\n",
              "      spin 1s steps(1) infinite;\n",
              "  }\n",
              "\n",
              "  @keyframes spin {\n",
              "    0% {\n",
              "      border-color: transparent;\n",
              "      border-bottom-color: var(--fill-color);\n",
              "      border-left-color: var(--fill-color);\n",
              "    }\n",
              "    20% {\n",
              "      border-color: transparent;\n",
              "      border-left-color: var(--fill-color);\n",
              "      border-top-color: var(--fill-color);\n",
              "    }\n",
              "    30% {\n",
              "      border-color: transparent;\n",
              "      border-left-color: var(--fill-color);\n",
              "      border-top-color: var(--fill-color);\n",
              "      border-right-color: var(--fill-color);\n",
              "    }\n",
              "    40% {\n",
              "      border-color: transparent;\n",
              "      border-right-color: var(--fill-color);\n",
              "      border-top-color: var(--fill-color);\n",
              "    }\n",
              "    60% {\n",
              "      border-color: transparent;\n",
              "      border-right-color: var(--fill-color);\n",
              "    }\n",
              "    80% {\n",
              "      border-color: transparent;\n",
              "      border-right-color: var(--fill-color);\n",
              "      border-bottom-color: var(--fill-color);\n",
              "    }\n",
              "    90% {\n",
              "      border-color: transparent;\n",
              "      border-bottom-color: var(--fill-color);\n",
              "    }\n",
              "  }\n",
              "</style>\n",
              "\n",
              "      <script>\n",
              "        async function quickchart(key) {\n",
              "          const quickchartButtonEl =\n",
              "            document.querySelector('#' + key + ' button');\n",
              "          quickchartButtonEl.disabled = true;  // To prevent multiple clicks.\n",
              "          quickchartButtonEl.classList.add('colab-df-spinner');\n",
              "          try {\n",
              "            const charts = await google.colab.kernel.invokeFunction(\n",
              "                'suggestCharts', [key], {});\n",
              "          } catch (error) {\n",
              "            console.error('Error during call to suggestCharts:', error);\n",
              "          }\n",
              "          quickchartButtonEl.classList.remove('colab-df-spinner');\n",
              "          quickchartButtonEl.classList.add('colab-df-quickchart-complete');\n",
              "        }\n",
              "        (() => {\n",
              "          let quickchartButtonEl =\n",
              "            document.querySelector('#df-bed14cf1-f825-4275-9250-5293e0a73fe7 button');\n",
              "          quickchartButtonEl.style.display =\n",
              "            google.colab.kernel.accessAllowed ? 'block' : 'none';\n",
              "        })();\n",
              "      </script>\n",
              "    </div>\n",
              "\n",
              "    </div>\n",
              "  </div>\n"
            ],
            "application/vnd.google.colaboratory.intrinsic+json": {
              "type": "dataframe",
              "variable_name": "skin_df",
              "summary": "{\n  \"name\": \"skin_df\",\n  \"rows\": 10015,\n  \"fields\": [\n    {\n      \"column\": \"lesion_id\",\n      \"properties\": {\n        \"dtype\": \"string\",\n        \"num_unique_values\": 7470,\n        \"samples\": [\n          \"HAM_0002743\",\n          \"HAM_0004142\",\n          \"HAM_0003658\"\n        ],\n        \"semantic_type\": \"\",\n        \"description\": \"\"\n      }\n    },\n    {\n      \"column\": \"image_id\",\n      \"properties\": {\n        \"dtype\": \"string\",\n        \"num_unique_values\": 10015,\n        \"samples\": [\n          \"ISIC_0033272\",\n          \"ISIC_0031923\",\n          \"ISIC_0026652\"\n        ],\n        \"semantic_type\": \"\",\n        \"description\": \"\"\n      }\n    },\n    {\n      \"column\": \"dx\",\n      \"properties\": {\n        \"dtype\": \"category\",\n        \"num_unique_values\": 7,\n        \"samples\": [\n          \"bkl\",\n          \"nv\",\n          \"bcc\"\n        ],\n        \"semantic_type\": \"\",\n        \"description\": \"\"\n      }\n    },\n    {\n      \"column\": \"dx_type\",\n      \"properties\": {\n        \"dtype\": \"category\",\n        \"num_unique_values\": 4,\n        \"samples\": [\n          \"consensus\",\n          \"follow_up\",\n          \"histo\"\n        ],\n        \"semantic_type\": \"\",\n        \"description\": \"\"\n      }\n    },\n    {\n      \"column\": \"age\",\n      \"properties\": {\n        \"dtype\": \"number\",\n        \"std\": 16.96861369249538,\n        \"min\": 0.0,\n        \"max\": 85.0,\n        \"num_unique_values\": 18,\n        \"samples\": [\n          80.0,\n          75.0,\n          50.0\n        ],\n        \"semantic_type\": \"\",\n        \"description\": \"\"\n      }\n    },\n    {\n      \"column\": \"sex\",\n      \"properties\": {\n        \"dtype\": \"category\",\n        \"num_unique_values\": 3,\n        \"samples\": [\n          \"male\",\n          \"female\",\n          \"unknown\"\n        ],\n        \"semantic_type\": \"\",\n        \"description\": \"\"\n      }\n    },\n    {\n      \"column\": \"localization\",\n      \"properties\": {\n        \"dtype\": \"category\",\n        \"num_unique_values\": 15,\n        \"samples\": [\n          \"lower extremity\",\n          \"neck\",\n          \"scalp\"\n        ],\n        \"semantic_type\": \"\",\n        \"description\": \"\"\n      }\n    },\n    {\n      \"column\": \"path\",\n      \"properties\": {\n        \"dtype\": \"string\",\n        \"num_unique_values\": 10015,\n        \"samples\": [\n          \"/content/drive/MyDrive/ImageProcessing&CV_Assignment/HAM10000_images/ISIC_0033272.jpg\",\n          \"/content/drive/MyDrive/ImageProcessing&CV_Assignment/HAM10000_images/ISIC_0031923.jpg\",\n          \"/content/drive/MyDrive/ImageProcessing&CV_Assignment/HAM10000_images/ISIC_0026652.jpg\"\n        ],\n        \"semantic_type\": \"\",\n        \"description\": \"\"\n      }\n    },\n    {\n      \"column\": \"cell_type\",\n      \"properties\": {\n        \"dtype\": \"category\",\n        \"num_unique_values\": 7,\n        \"samples\": [\n          \"Benign keratosis-like lesions \",\n          \"Melanocytic nevi\",\n          \"Basal cell carcinoma\"\n        ],\n        \"semantic_type\": \"\",\n        \"description\": \"\"\n      }\n    },\n    {\n      \"column\": \"cell_type_idx\",\n      \"properties\": {\n        \"dtype\": \"int8\",\n        \"num_unique_values\": 7,\n        \"samples\": [\n          2,\n          4,\n          1\n        ],\n        \"semantic_type\": \"\",\n        \"description\": \"\"\n      }\n    }\n  ]\n}"
            }
          },
          "metadata": {},
          "execution_count": 16
        }
      ],
      "source": [
        "skin_df.head()"
      ]
    },
    {
      "cell_type": "markdown",
      "metadata": {
        "id": "HAvr92MIwgWZ"
      },
      "source": [
        "- Duplication and Missing Values handling"
      ]
    },
    {
      "cell_type": "code",
      "execution_count": null,
      "metadata": {
        "id": "ergl6ieqwgWa",
        "colab": {
          "base_uri": "https://localhost:8080/"
        },
        "outputId": "dd5031c9-e5a9-4cc1-bb00-18719cddf3f4"
      },
      "outputs": [
        {
          "output_type": "execute_result",
          "data": {
            "text/plain": [
              "np.int64(0)"
            ]
          },
          "metadata": {},
          "execution_count": 17
        }
      ],
      "source": [
        "#Duplication check\n",
        "skin_df.duplicated(subset=['image_id']).sum()"
      ]
    },
    {
      "cell_type": "code",
      "source": [
        "#Missing values check\n",
        "skin_df.isnull().sum()"
      ],
      "metadata": {
        "colab": {
          "base_uri": "https://localhost:8080/",
          "height": 398
        },
        "id": "NlZbLU5fPkrs",
        "outputId": "b91b55f5-418c-4081-8a61-c949254e8aeb"
      },
      "execution_count": null,
      "outputs": [
        {
          "output_type": "execute_result",
          "data": {
            "text/plain": [
              "lesion_id         0\n",
              "image_id          0\n",
              "dx                0\n",
              "dx_type           0\n",
              "age              57\n",
              "sex               0\n",
              "localization      0\n",
              "path              0\n",
              "cell_type         0\n",
              "cell_type_idx     0\n",
              "dtype: int64"
            ],
            "text/html": [
              "<div>\n",
              "<style scoped>\n",
              "    .dataframe tbody tr th:only-of-type {\n",
              "        vertical-align: middle;\n",
              "    }\n",
              "\n",
              "    .dataframe tbody tr th {\n",
              "        vertical-align: top;\n",
              "    }\n",
              "\n",
              "    .dataframe thead th {\n",
              "        text-align: right;\n",
              "    }\n",
              "</style>\n",
              "<table border=\"1\" class=\"dataframe\">\n",
              "  <thead>\n",
              "    <tr style=\"text-align: right;\">\n",
              "      <th></th>\n",
              "      <th>0</th>\n",
              "    </tr>\n",
              "  </thead>\n",
              "  <tbody>\n",
              "    <tr>\n",
              "      <th>lesion_id</th>\n",
              "      <td>0</td>\n",
              "    </tr>\n",
              "    <tr>\n",
              "      <th>image_id</th>\n",
              "      <td>0</td>\n",
              "    </tr>\n",
              "    <tr>\n",
              "      <th>dx</th>\n",
              "      <td>0</td>\n",
              "    </tr>\n",
              "    <tr>\n",
              "      <th>dx_type</th>\n",
              "      <td>0</td>\n",
              "    </tr>\n",
              "    <tr>\n",
              "      <th>age</th>\n",
              "      <td>57</td>\n",
              "    </tr>\n",
              "    <tr>\n",
              "      <th>sex</th>\n",
              "      <td>0</td>\n",
              "    </tr>\n",
              "    <tr>\n",
              "      <th>localization</th>\n",
              "      <td>0</td>\n",
              "    </tr>\n",
              "    <tr>\n",
              "      <th>path</th>\n",
              "      <td>0</td>\n",
              "    </tr>\n",
              "    <tr>\n",
              "      <th>cell_type</th>\n",
              "      <td>0</td>\n",
              "    </tr>\n",
              "    <tr>\n",
              "      <th>cell_type_idx</th>\n",
              "      <td>0</td>\n",
              "    </tr>\n",
              "  </tbody>\n",
              "</table>\n",
              "</div><br><label><b>dtype:</b> int64</label>"
            ]
          },
          "metadata": {},
          "execution_count": 18
        }
      ]
    },
    {
      "cell_type": "markdown",
      "metadata": {
        "id": "2JH7zDHbwgWk"
      },
      "source": [
        "Filling missing age values with mean"
      ]
    },
    {
      "cell_type": "code",
      "execution_count": null,
      "metadata": {
        "id": "VYxwY6QHwgWk",
        "colab": {
          "base_uri": "https://localhost:8080/",
          "height": 398
        },
        "outputId": "963922e3-658f-4796-cde9-0f4ddf16dca9"
      },
      "outputs": [
        {
          "output_type": "execute_result",
          "data": {
            "text/plain": [
              "lesion_id        0\n",
              "image_id         0\n",
              "dx               0\n",
              "dx_type          0\n",
              "age              0\n",
              "sex              0\n",
              "localization     0\n",
              "path             0\n",
              "cell_type        0\n",
              "cell_type_idx    0\n",
              "dtype: int64"
            ],
            "text/html": [
              "<div>\n",
              "<style scoped>\n",
              "    .dataframe tbody tr th:only-of-type {\n",
              "        vertical-align: middle;\n",
              "    }\n",
              "\n",
              "    .dataframe tbody tr th {\n",
              "        vertical-align: top;\n",
              "    }\n",
              "\n",
              "    .dataframe thead th {\n",
              "        text-align: right;\n",
              "    }\n",
              "</style>\n",
              "<table border=\"1\" class=\"dataframe\">\n",
              "  <thead>\n",
              "    <tr style=\"text-align: right;\">\n",
              "      <th></th>\n",
              "      <th>0</th>\n",
              "    </tr>\n",
              "  </thead>\n",
              "  <tbody>\n",
              "    <tr>\n",
              "      <th>lesion_id</th>\n",
              "      <td>0</td>\n",
              "    </tr>\n",
              "    <tr>\n",
              "      <th>image_id</th>\n",
              "      <td>0</td>\n",
              "    </tr>\n",
              "    <tr>\n",
              "      <th>dx</th>\n",
              "      <td>0</td>\n",
              "    </tr>\n",
              "    <tr>\n",
              "      <th>dx_type</th>\n",
              "      <td>0</td>\n",
              "    </tr>\n",
              "    <tr>\n",
              "      <th>age</th>\n",
              "      <td>0</td>\n",
              "    </tr>\n",
              "    <tr>\n",
              "      <th>sex</th>\n",
              "      <td>0</td>\n",
              "    </tr>\n",
              "    <tr>\n",
              "      <th>localization</th>\n",
              "      <td>0</td>\n",
              "    </tr>\n",
              "    <tr>\n",
              "      <th>path</th>\n",
              "      <td>0</td>\n",
              "    </tr>\n",
              "    <tr>\n",
              "      <th>cell_type</th>\n",
              "      <td>0</td>\n",
              "    </tr>\n",
              "    <tr>\n",
              "      <th>cell_type_idx</th>\n",
              "      <td>0</td>\n",
              "    </tr>\n",
              "  </tbody>\n",
              "</table>\n",
              "</div><br><label><b>dtype:</b> int64</label>"
            ]
          },
          "metadata": {},
          "execution_count": 19
        }
      ],
      "source": [
        "skin_df['age'] = skin_df['age'].fillna((skin_df['age'].mean())) # Fill missing age values with the mean age\n",
        "skin_df.isnull().sum()\n",
        "\n",
        "#Dont really matter in model training but just for the sake of cleaning the dataset possibly for future implementations"
      ]
    },
    {
      "cell_type": "markdown",
      "metadata": {
        "id": "GfrovAuTwgWl"
      },
      "source": [
        "**2) Split Dataset into Training and Validation Set**"
      ]
    },
    {
      "cell_type": "code",
      "execution_count": null,
      "metadata": {
        "id": "UwIXo3mzwgWl",
        "colab": {
          "base_uri": "https://localhost:8080/"
        },
        "outputId": "93a248ac-d01c-4e94-cd71-67ccd13e1077"
      },
      "outputs": [
        {
          "output_type": "stream",
          "name": "stdout",
          "text": [
            "\n",
            "Performing stratified train-validation split...\n",
            "Training samples: 8012\n",
            "Validation samples: 2003\n"
          ]
        }
      ],
      "source": [
        "all_labels = skin_df['cell_type_idx'].values\n",
        "\n",
        "# Perform stratified split\n",
        "print(\"\\nPerforming stratified train-validation split...\")\n",
        "train_indices, val_indices = train_test_split(\n",
        "    np.arange(len(skin_df)),\n",
        "    test_size=1-TRAIN_SPLIT,\n",
        "    random_state=42,\n",
        "    stratify=all_labels\n",
        ")\n",
        "\n",
        "print(f\"Training samples: {len(train_indices)}\")\n",
        "print(f\"Validation samples: {len(val_indices)}\")"
      ]
    },
    {
      "cell_type": "markdown",
      "metadata": {
        "id": "rP7giveuwgWl"
      },
      "source": [
        "**3) Create and Initialize Model**"
      ]
    },
    {
      "cell_type": "code",
      "execution_count": null,
      "metadata": {
        "id": "oTaCqJJQwgWl",
        "colab": {
          "base_uri": "https://localhost:8080/",
          "height": 225,
          "referenced_widgets": [
            "6d3ef0f12a144324b82f494476ff2cc8",
            "a7b110be5ac84a06953c827729fd0389",
            "6466638416284b0e8ff01c11209a6e21",
            "9c02835a85e543bdbd90de2df1cf2bfa",
            "503c9408d0a7479a86435eca1f810947",
            "b9f2ac4eff854788b23ae78509d9bdb8",
            "c7a6ddcc6d3a423e903da15dbf8faf4e",
            "bf7ed546e9dd4ec0a65e0f301b0353c0",
            "27386cb8df5443fc8c4db2d6ceb68ce1",
            "c3fafc678c034d969d7802c54fb59dfc",
            "7931771cf253498e97bf6a7c82a5707b"
          ]
        },
        "outputId": "5ef365ba-b81d-41f0-b9ad-0da27f076357"
      },
      "outputs": [
        {
          "output_type": "stream",
          "name": "stdout",
          "text": [
            "\n",
            "Creating model...\n"
          ]
        },
        {
          "output_type": "stream",
          "name": "stderr",
          "text": [
            "/usr/local/lib/python3.11/dist-packages/huggingface_hub/utils/_auth.py:94: UserWarning: \n",
            "The secret `HF_TOKEN` does not exist in your Colab secrets.\n",
            "To authenticate with the Hugging Face Hub, create a token in your settings tab (https://huggingface.co/settings/tokens), set it as secret in your Google Colab and restart your session.\n",
            "You will be able to reuse this secret in all of your notebooks.\n",
            "Please note that authentication is recommended but still optional to access public models or datasets.\n",
            "  warnings.warn(\n"
          ]
        },
        {
          "output_type": "display_data",
          "data": {
            "text/plain": [
              "model.safetensors:   0%|          | 0.00/21.4M [00:00<?, ?B/s]"
            ],
            "application/vnd.jupyter.widget-view+json": {
              "version_major": 2,
              "version_minor": 0,
              "model_id": "6d3ef0f12a144324b82f494476ff2cc8"
            }
          },
          "metadata": {}
        },
        {
          "output_type": "stream",
          "name": "stdout",
          "text": [
            "Created efficientnet_b0 with 7 output classes\n"
          ]
        }
      ],
      "source": [
        "print(\"\\nCreating model...\")\n",
        "model_name = 'efficientnet_b0'\n",
        "num_classes = 7\n",
        "model = timm.create_model(model_name, pretrained=True, num_classes=num_classes)\n",
        "\n",
        "input_size = 224\n",
        "\n",
        "# Move model to device\n",
        "model = model.to(device)\n",
        "print(f\"Created {model_name} with {num_classes} output classes\")"
      ]
    },
    {
      "cell_type": "markdown",
      "metadata": {
        "id": "PqPG8QLawgWl"
      },
      "source": [
        "**4) Data (Image) Transformation Definition**"
      ]
    },
    {
      "cell_type": "code",
      "execution_count": null,
      "metadata": {
        "id": "cqZiaddfwgWl",
        "colab": {
          "base_uri": "https://localhost:8080/"
        },
        "outputId": "b566c7d0-f9cb-48e5-f586-41e34bb45b25"
      },
      "outputs": [
        {
          "output_type": "stream",
          "name": "stdout",
          "text": [
            "Found 10025 images for computing normalization.\n"
          ]
        }
      ],
      "source": [
        "# Get all image paths from the HAM10000 images folder\n",
        "IMG_DIR = DATA_DIR+'/HAM10000_images'\n",
        "image_paths = glob(os.path.join(IMG_DIR, '*.jpg'))\n",
        "print(f\"Found {len(image_paths)} images for computing normalization.\")"
      ]
    },
    {
      "cell_type": "markdown",
      "metadata": {
        "id": "pdX5uf-gwgWm"
      },
      "source": [
        "- Compute normalization values from the dataset images"
      ]
    },
    {
      "cell_type": "code",
      "execution_count": null,
      "metadata": {
        "id": "vo5iJpG6wgWm"
      },
      "outputs": [],
      "source": [
        "def compute_img_mean_std(image_paths):\n",
        "    \"\"\"\n",
        "    Compute the channel-wise mean and std for a list of image paths.\n",
        "    Images are resized to 224x224 and converted from BGR to RGB when reversing order.\n",
        "    \"\"\"\n",
        "    img_h, img_w = 224, 224\n",
        "    imgs = []\n",
        "\n",
        "    for path in tqdm(image_paths, desc=\"Computing mean & std\"):\n",
        "        img = cv2.imread(path)\n",
        "        if img is None:\n",
        "            continue\n",
        "        img = cv2.resize(img, (img_h, img_w))\n",
        "        imgs.append(img)\n",
        "\n",
        "    # Stack images along a new axis (result: H x W x Channels x N)\n",
        "    imgs = np.stack(imgs, axis=3)\n",
        "    imgs = imgs.astype(np.float32) / 255.0  # scale pixels to [0,1]\n",
        "\n",
        "    means, stdevs = [], []\n",
        "    # Compute mean and std for each channel\n",
        "    for i in range(3):\n",
        "        pixels = imgs[:, :, i, :].ravel()\n",
        "        means.append(np.mean(pixels))\n",
        "        stdevs.append(np.std(pixels))\n",
        "\n",
        "    # Reverse the order to go from BGR (OpenCV) to RGB\n",
        "    means.reverse()\n",
        "    stdevs.reverse()\n",
        "\n",
        "    print(\"Computed normMean =\", means)\n",
        "    print(\"Computed normStd  =\", stdevs)\n",
        "    return means, stdevs"
      ]
    },
    {
      "cell_type": "code",
      "execution_count": null,
      "metadata": {
        "id": "mpAirDK3wgWm",
        "colab": {
          "base_uri": "https://localhost:8080/"
        },
        "outputId": "b35dd22c-33e3-4319-819a-e0cb7d5546f9"
      },
      "outputs": [
        {
          "output_type": "stream",
          "name": "stdout",
          "text": [
            "computed_means:[0.7630331, 0.5456457, 0.5700467], computer standard deviation:[0.1409281, 0.15261227, 0.16997086]\n"
          ]
        }
      ],
      "source": [
        "# Compute normalization values (Mean and standard deviation of RGB channels); these will be used in transform.Normalize()\n",
        "# computed_means, computed_stds = compute_img_mean_std(image_paths)\n",
        "\n",
        "# Computed mean and standard deviation values is manually initialized here from vs code due to google colab unable to process because of RAM limitations\n",
        "\n",
        "computed_means = [0.7630331, 0.5456457, 0.5700467]\n",
        "computed_stds = [0.1409281, 0.15261227, 0.16997086]\n",
        "\n",
        "print(f\"computed_means:{computed_means}, computer standard deviation:{computed_stds}\")"
      ]
    },
    {
      "cell_type": "markdown",
      "metadata": {
        "id": "pCHFDGuDwgWm"
      },
      "source": [
        "**Image Transformation**\n",
        "- Transform input image function for loading testing or future input images in consistent form (resized, cropped, normalized) onto the EfficientNet Model for a more accurate output classification.\n",
        "\n",
        "- Augmentation transform of training image function with random image processing (Horizontal flip, vertical flip, rotation, color jitter, gaussian blur) to introduce variability and improve generalization (prevent overfitting) of images from dataset along with image normalization."
      ]
    },
    {
      "cell_type": "markdown",
      "source": [],
      "metadata": {
        "id": "OO5tJvi4AV8Y"
      }
    },
    {
      "cell_type": "code",
      "execution_count": null,
      "metadata": {
        "id": "sqKnG0xtwgWm"
      },
      "outputs": [],
      "source": [
        "def get_standard_transform(input_size, computed_means, computed_stds):\n",
        "    # Standard transformation for testing, validation, test and input\n",
        "    return transforms.Compose([\n",
        "        transforms.Resize((input_size,input_size)),\n",
        "        transforms.CenterCrop(224),\n",
        "        transforms.ToTensor(),\n",
        "        transforms.Normalize(mean=computed_means, std=computed_stds)\n",
        "    ])\n",
        "\n",
        "#Augmentation transformation are applied only to the training dataset after splitting\n",
        "def get_augmentation_transform(input_size, computed_means, computed_stds):\n",
        "        return transforms.Compose([\n",
        "            transforms.Resize((input_size,input_size)),\n",
        "            transforms.CenterCrop(224),\n",
        "            transforms.ToTensor(),\n",
        "            transforms.Normalize(mean=computed_means, std=computed_stds),\n",
        "            transforms.RandomHorizontalFlip(p=0.5),\n",
        "            transforms.RandomVerticalFlip(p=0.5),\n",
        "            transforms.RandomRotation(degrees=45),\n",
        "            transforms.RandomApply([\n",
        "                transforms.RandomChoice([\n",
        "                    transforms.ColorJitter(brightness=0.2, contrast=0.2, saturation=0.2, hue=0.1),\n",
        "                    transforms.GaussianBlur(3)\n",
        "                ]),\n",
        "            ], p=0.1)\n",
        "        ])"
      ]
    },
    {
      "cell_type": "markdown",
      "metadata": {
        "id": "VjlhXQLpwgWn"
      },
      "source": [
        "**5) HAM10000 Custom Dataset**"
      ]
    },
    {
      "cell_type": "markdown",
      "metadata": {
        "id": "lBLPwZ8bwgWn"
      },
      "source": [
        "- **Custom dataset** for loading images and labels while applying transformations and augmentations"
      ]
    },
    {
      "cell_type": "code",
      "execution_count": null,
      "metadata": {
        "id": "wQBXczxiwgWn"
      },
      "outputs": [],
      "source": [
        "class HAM10000Dataset(Dataset):\n",
        "    def __init__(self, df, transform=None):\n",
        "        \"\"\"Optimized dataset class for HAM10000\"\"\"\n",
        "        self.metadata = df.reset_index(drop=True)\n",
        "        self.transform = transform\n",
        "\n",
        "    def __len__(self):\n",
        "        return len(self.metadata)\n",
        "\n",
        "    def __getitem__(self, idx):\n",
        "        # Load data and get label\n",
        "        X = Image.open(self.metadata['path'][idx]) #Load image\n",
        "        y = torch.tensor(int(self.metadata['cell_type_idx'][idx])) #Load label\n",
        "\n",
        "        if self.transform:\n",
        "            X = self.transform(X) #Apply transformation to the loaded image if transform is provided\n",
        "\n",
        "        return X, y #Return the transformed image and label"
      ]
    },
    {
      "cell_type": "markdown",
      "metadata": {
        "id": "CWEmALf1wgWn"
      },
      "source": [
        "**6) Create Training and Validation Datasets**"
      ]
    },
    {
      "cell_type": "code",
      "execution_count": null,
      "metadata": {
        "id": "hSjZ_5ynwgWn",
        "colab": {
          "base_uri": "https://localhost:8080/"
        },
        "outputId": "db072898-5a77-4f5c-9291-7d3fbc0b3e2f"
      },
      "outputs": [
        {
          "output_type": "stream",
          "name": "stdout",
          "text": [
            "Training dataset size: 8012\n",
            "Validation dataset size: 2003\n"
          ]
        }
      ],
      "source": [
        "# Training dataset with augmentation\n",
        "train_dataset = HAM10000Dataset(\n",
        "    df = skin_df.iloc[train_indices],\n",
        "    transform=get_augmentation_transform(input_size, computed_means, computed_stds)\n",
        ")\n",
        "\n",
        "print(f\"Training dataset size: {len(train_dataset)}\")\n",
        "\n",
        "# Validation dataset\n",
        "val_dataset = HAM10000Dataset(\n",
        "    df = skin_df.iloc[val_indices],\n",
        "    transform=get_standard_transform(input_size, computed_means, computed_stds)\n",
        ")\n",
        "\n",
        "print(f\"Validation dataset size: {len(val_dataset)}\")"
      ]
    },
    {
      "cell_type": "markdown",
      "metadata": {
        "id": "YP4hu8mZwgWn"
      },
      "source": [
        "****Additional: Handle Class Imbalance with Weighted Sampling**"
      ]
    },
    {
      "cell_type": "markdown",
      "metadata": {
        "id": "D3_AmMlowgWn"
      },
      "source": [
        "Weighted sampling, also known as class weighting, is a good technique for addressing class imbalance in machine learning, as it helps the model pay more attention to the minority class by assigning higher weights to its samples during training."
      ]
    },
    {
      "cell_type": "code",
      "execution_count": null,
      "metadata": {
        "id": "TKxxPDLHwgWo"
      },
      "outputs": [],
      "source": [
        "# Calculate class distribution in training set\n",
        "train_labels = skin_df['cell_type_idx'].iloc[train_indices].values # Extract labels using train_indices\n",
        "class_counts = np.bincount(train_labels)\n",
        "#Add a check to further ensure all classes are represented\n",
        "if len(class_counts) < num_classes:\n",
        "    class_counts = np.pad(class_counts, (0, num_classes - len(class_counts)), 'constant')\n",
        "\n",
        "# Create weighted sampler\n",
        "weights = 1. / class_counts\n",
        "samples_weights = weights[train_labels]\n",
        "samples_weights = torch.from_numpy(samples_weights).float()\n",
        "\n",
        "sampler = torch.utils.data.WeightedRandomSampler(\n",
        "    weights=samples_weights,\n",
        "    num_samples=len(train_indices),\n",
        "    replacement=True\n",
        ")"
      ]
    },
    {
      "cell_type": "markdown",
      "metadata": {
        "id": "2mYOxaVGwgWo"
      },
      "source": [
        "**7) Create Data Loaders**"
      ]
    },
    {
      "cell_type": "code",
      "execution_count": null,
      "metadata": {
        "id": "m1AkvsGKwgWo"
      },
      "outputs": [],
      "source": [
        "train_loader = DataLoader(\n",
        "    train_dataset,\n",
        "    batch_size=BATCH_SIZE,\n",
        "    sampler=sampler,  # Use the weighted sampler\n",
        "    num_workers=NUM_WORKERS,\n",
        "    pin_memory=PIN_MEMORY, #or faster GPU transfer\n",
        ")\n",
        "\n",
        "val_loader = DataLoader(\n",
        "    val_dataset,\n",
        "    batch_size=BATCH_SIZE * 2,  # Larger validation batches\n",
        "    num_workers=NUM_WORKERS,\n",
        "    pin_memory=PIN_MEMORY,\n",
        ")"
      ]
    },
    {
      "cell_type": "markdown",
      "metadata": {
        "id": "X6g3Tx1SwgWo"
      },
      "source": [
        "**8) Define Loss Function, Optimizer, Scheduler and Scaler**"
      ]
    },
    {
      "cell_type": "code",
      "execution_count": null,
      "metadata": {
        "id": "dOYDxCT1wgWo",
        "colab": {
          "base_uri": "https://localhost:8080/"
        },
        "outputId": "36e9995d-4f6c-469e-f8b7-e9772e31792c"
      },
      "outputs": [
        {
          "output_type": "stream",
          "name": "stderr",
          "text": [
            "/usr/local/lib/python3.11/dist-packages/torch/optim/lr_scheduler.py:62: UserWarning: The verbose parameter is deprecated. Please use get_last_lr() to access the learning rate.\n",
            "  warnings.warn(\n",
            "<ipython-input-30-22f7be75def7>:12: FutureWarning: `torch.cuda.amp.GradScaler(args...)` is deprecated. Please use `torch.amp.GradScaler('cuda', args...)` instead.\n",
            "  scaler = torch.cuda.amp.GradScaler(enabled=MIXED_PRECISION)\n"
          ]
        }
      ],
      "source": [
        "# Optimizer and loss function\n",
        "criterion = nn.CrossEntropyLoss().to(device)\n",
        "optimizer = optim.AdamW(model.parameters(), lr=LEARNING_RATE, weight_decay=1e-5)\n",
        "\n",
        "# Learning rate scheduler implemented due to large batch size and learning rate\n",
        "scheduler = torch.optim.lr_scheduler.ReduceLROnPlateau(\n",
        "    #ReduceLROnPlateau helps to prevent overfitting\n",
        "    optimizer, mode='min', factor=0.1, patience=3, verbose=True\n",
        ")\n",
        "\n",
        "#Gradient scaler with Mixed precision for faster training\n",
        "scaler = torch.cuda.amp.GradScaler(enabled=MIXED_PRECISION)"
      ]
    },
    {
      "cell_type": "markdown",
      "metadata": {
        "id": "W4zIFs-RwgWo"
      },
      "source": [
        "**9) Model Training**"
      ]
    },
    {
      "cell_type": "markdown",
      "metadata": {
        "id": "m2h7yBVNwgWo"
      },
      "source": [
        "Average Meter function used for training process to calculate loss and accuracy"
      ]
    },
    {
      "cell_type": "code",
      "execution_count": null,
      "metadata": {
        "id": "K5LzHqKgwgWp"
      },
      "outputs": [],
      "source": [
        "class AverageMeter(object):\n",
        "    def __init__(self):\n",
        "        self.reset()\n",
        "\n",
        "    def reset(self):\n",
        "        self.val = 0\n",
        "        self.avg = 0\n",
        "        self.sum = 0\n",
        "        self.count = 0\n",
        "\n",
        "    def update(self, val, n=1):\n",
        "        self.val = val\n",
        "        self.sum += val * n\n",
        "        self.count += n\n",
        "        self.avg = self.sum / self.count"
      ]
    },
    {
      "cell_type": "markdown",
      "metadata": {
        "id": "ab14G7gOwgWp"
      },
      "source": [
        "- Training and validation loop for Phase 1 (Backbone Freeze) & Phase 2 (Backbone Unfreeze)"
      ]
    },
    {
      "cell_type": "code",
      "execution_count": null,
      "metadata": {
        "id": "kzF8RU6dwgWp"
      },
      "outputs": [],
      "source": [
        "# Initialize history dictionary to track metrics across both phases\n",
        "history = {\n",
        "    'train_loss': [],\n",
        "    'train_acc': [],\n",
        "    'val_loss': [],\n",
        "    'val_acc': [],\n",
        "    'phase': []  # Track which phase each epoch belongs to\n",
        "}"
      ]
    },
    {
      "cell_type": "code",
      "execution_count": null,
      "metadata": {
        "id": "lEj2mzhBwgWp"
      },
      "outputs": [],
      "source": [
        "#Function that runs one training epoch with evaluation\n",
        "def train_epoch(model, train_loader, val_loader, criterion, optimizer, scaler, scheduler, epoch, phase):\n",
        "    print(f\"\\n{'='*20} EPOCH {epoch} [ {phase} ] {'='*20}\")\n",
        "\n",
        "    #TRAINING PHASE\n",
        "    model.train()\n",
        "    train_loss = AverageMeter()\n",
        "    train_acc = AverageMeter()\n",
        "\n",
        "    for i, (images, labels) in enumerate(train_loader):\n",
        "        images = images.to(device, non_blocking=True)\n",
        "        labels = labels.to(device, non_blocking=True)\n",
        "\n",
        "        optimizer.zero_grad() # To Zero the gradients\n",
        "\n",
        "        #EfficientNet loves mixed precision training (float16). Without this method, memory and compute costs are higher\n",
        "        with torch.cuda.amp.autocast(enabled=MIXED_PRECISION): # Change device_type='cuda' to enabled=MIXED_PRECISION\n",
        "            outputs = model(images)\n",
        "            loss = criterion(outputs, labels)\n",
        "\n",
        "        scaler.scale(loss).backward()\n",
        "        scaler.step(optimizer)\n",
        "        scaler.update()\n",
        "\n",
        "        _, predicted = torch.max(outputs.data, 1)\n",
        "        correct = (predicted == labels).sum().item()\n",
        "        acc = correct / labels.size(0)\n",
        "\n",
        "        train_loss.update(loss.item(), labels.size(0))\n",
        "        train_acc.update(acc, labels.size(0))\n",
        "\n",
        "    #VALIDATION PHASE\n",
        "    model.eval()\n",
        "    val_loss = AverageMeter()\n",
        "    val_acc = AverageMeter()\n",
        "\n",
        "    #Obtain latest models predictions on validation loader/dataset and corresponding true labels for those data points\n",
        "    all_predictions = []\n",
        "    all_targets = []\n",
        "\n",
        "    with torch.no_grad(): #Disable gradient calculations\n",
        "        for i, (images, labels) in enumerate(val_loader): #Use validation loader or test loader\n",
        "            images = images.to(device, non_blocking=True)\n",
        "            labels = labels.to(device, non_blocking=True)\n",
        "\n",
        "            outputs = model(images)\n",
        "            loss = criterion(outputs, labels)\n",
        "\n",
        "            #Get predicted class indices\n",
        "            _, predicted = torch.max(outputs.data, 1)\n",
        "            #For Val_acc, check whether the predicted equates to the actual label\n",
        "            correct = (predicted == labels).sum().item()\n",
        "            acc = correct / labels.size(0)\n",
        "\n",
        "            #For confusion matrix, which obtains total number value for every 7 prediction and label\n",
        "            all_predictions.extend(predicted.cpu().numpy()) #Move predictions to CPU\n",
        "            all_targets.extend(labels.cpu().numpy()) #Move labels to CPU\n",
        "\n",
        "            val_loss.update(loss.item(), labels.size(0))\n",
        "            val_acc.update(acc, labels.size(0))\n",
        "\n",
        "    #Update learning rate scheduler based on the validation loss\n",
        "    scheduler.step(val_loss.avg)\n",
        "\n",
        "    # Append the metrics for this epoch to the global history dictionary\n",
        "    history['train_loss'].append(train_loss.avg)\n",
        "    history['train_acc'].append(train_acc.avg)\n",
        "    history['val_loss'].append(val_loss.avg)\n",
        "    history['val_acc'].append(val_acc.avg)\n",
        "    history['phase'].append(phase)\n",
        "\n",
        "    print(f\"Epoch {epoch} [{phase}] Summary:\")\n",
        "    print(f\"  Train Loss: {train_loss.avg:.4f}, Train Acc: {train_acc.avg:.4f}\")\n",
        "    print(f\"  Val Loss:   {val_loss.avg:.4f}, Val Acc:   {val_acc.avg:.4f}\")\n",
        "\n",
        "    return train_loss.avg, train_acc.avg, val_loss.avg, val_acc.avg, all_predictions, all_targets"
      ]
    },
    {
      "cell_type": "markdown",
      "metadata": {
        "id": "B14cul81wgWq"
      },
      "source": [
        "\n",
        "The benefits of this approach by freezing and unfreezing backbone layers include\n",
        "\n",
        "Much Faster Initial Training:\n",
        "- Phase 1 should complete in minutes instead of hours\n",
        "- Get a reasonable model very quickly\n",
        "\n",
        "Better Optimization:\n",
        "- The classifier adapts first to the new task\n",
        "- Then the backbone adapts while keeping its pretrained knowledge\n",
        "\n",
        "Early Results:\n",
        "- Can evaluate model performance after phase 1\n",
        "- Decide if phase 2 is necessary based on phase 1 results\n",
        "\n",
        "Resource Efficiency:\n",
        "- Can test multiple hyperparameter configurations quickly in phase 1\n",
        "- Only invest time in phase 2 for promising configurations\n"
      ]
    },
    {
      "cell_type": "markdown",
      "metadata": {
        "id": "us7VMECGwgWp"
      },
      "source": [
        "- Phase 1: Classifier only (frozen backbone)"
      ]
    },
    {
      "cell_type": "markdown",
      "metadata": {
        "id": "hbw3oZUWwgWp"
      },
      "source": [
        "Basically only the parameters of last layer are updated, while others remain fixed"
      ]
    },
    {
      "cell_type": "code",
      "execution_count": null,
      "metadata": {
        "id": "MK_tQx8QwgWq",
        "colab": {
          "base_uri": "https://localhost:8080/"
        },
        "outputId": "0773d102-3573-4331-ada9-64c050551969"
      },
      "outputs": [
        {
          "output_type": "stream",
          "name": "stdout",
          "text": [
            "\n",
            "==================================================\n",
            "PHASE 1: Training classifier only (backbone frozen)\n",
            "==================================================\n",
            "Trainable parameters: 8,967 (0.22% of total)\n",
            "\n",
            "==================== EPOCH 1 [ phase 1 ] ====================\n"
          ]
        },
        {
          "output_type": "stream",
          "name": "stderr",
          "text": [
            "<ipython-input-33-dfd6180338e3>:17: FutureWarning: `torch.cuda.amp.autocast(args...)` is deprecated. Please use `torch.amp.autocast('cuda', args...)` instead.\n",
            "  with torch.cuda.amp.autocast(enabled=MIXED_PRECISION): # Change device_type='cuda' to enabled=MIXED_PRECISION\n"
          ]
        },
        {
          "output_type": "stream",
          "name": "stdout",
          "text": [
            "Epoch 1 [phase 1] Summary:\n",
            "  Train Loss: 3.0594, Train Acc: 0.2233\n",
            "  Val Loss:   2.7012, Val Acc:   0.2931\n",
            "New best model saved! Val Acc: 0.2931\n",
            "\n",
            "==================== EPOCH 2 [ phase 1 ] ====================\n",
            "Epoch 2 [phase 1] Summary:\n",
            "  Train Loss: 2.2244, Train Acc: 0.3643\n",
            "  Val Loss:   2.2667, Val Acc:   0.3894\n",
            "New best model saved! Val Acc: 0.3894\n",
            "\n",
            "==================== EPOCH 3 [ phase 1 ] ====================\n",
            "Epoch 3 [phase 1] Summary:\n",
            "  Train Loss: 1.9203, Train Acc: 0.4346\n",
            "  Val Loss:   2.1437, Val Acc:   0.4169\n",
            "New best model saved! Val Acc: 0.4169\n",
            "\n",
            "==================== EPOCH 4 [ phase 1 ] ====================\n",
            "Epoch 4 [phase 1] Summary:\n",
            "  Train Loss: 1.7261, Train Acc: 0.4765\n",
            "  Val Loss:   1.9056, Val Acc:   0.4553\n",
            "New best model saved! Val Acc: 0.4553\n",
            "\n",
            "==================== EPOCH 5 [ phase 1 ] ====================\n",
            "Epoch 5 [phase 1] Summary:\n",
            "  Train Loss: 1.5818, Train Acc: 0.5131\n",
            "  Val Loss:   1.7444, Val Acc:   0.4883\n",
            "New best model saved! Val Acc: 0.4883\n",
            "\n",
            "==================== EPOCH 6 [ phase 1 ] ====================\n",
            "Epoch 6 [phase 1] Summary:\n",
            "  Train Loss: 1.4910, Train Acc: 0.5320\n",
            "  Val Loss:   1.7261, Val Acc:   0.4988\n",
            "New best model saved! Val Acc: 0.4988\n",
            "\n",
            "==================== EPOCH 7 [ phase 1 ] ====================\n",
            "Epoch 7 [phase 1] Summary:\n",
            "  Train Loss: 1.3857, Train Acc: 0.5570\n",
            "  Val Loss:   1.6913, Val Acc:   0.5012\n",
            "New best model saved! Val Acc: 0.5012\n",
            "\n",
            "==================== EPOCH 8 [ phase 1 ] ====================\n",
            "Epoch 8 [phase 1] Summary:\n",
            "  Train Loss: 1.3665, Train Acc: 0.5572\n",
            "  Val Loss:   1.6346, Val Acc:   0.5112\n",
            "New best model saved! Val Acc: 0.5112\n",
            "\n",
            "==================== EPOCH 9 [ phase 1 ] ====================\n",
            "Epoch 9 [phase 1] Summary:\n",
            "  Train Loss: 1.2794, Train Acc: 0.5842\n",
            "  Val Loss:   1.5339, Val Acc:   0.5392\n",
            "New best model saved! Val Acc: 0.5392\n",
            "\n",
            "==================== EPOCH 10 [ phase 1 ] ====================\n",
            "Epoch 10 [phase 1] Summary:\n",
            "  Train Loss: 1.2721, Train Acc: 0.5872\n",
            "  Val Loss:   1.6236, Val Acc:   0.5177\n",
            "\n",
            "==================== EPOCH 11 [ phase 1 ] ====================\n",
            "Epoch 11 [phase 1] Summary:\n",
            "  Train Loss: 1.1837, Train Acc: 0.6111\n",
            "  Val Loss:   1.4306, Val Acc:   0.5467\n",
            "New best model saved! Val Acc: 0.5467\n",
            "\n",
            "==================== EPOCH 12 [ phase 1 ] ====================\n",
            "Epoch 12 [phase 1] Summary:\n",
            "  Train Loss: 1.1455, Train Acc: 0.6103\n",
            "  Val Loss:   1.4159, Val Acc:   0.5647\n",
            "New best model saved! Val Acc: 0.5647\n",
            "\n",
            "==================== EPOCH 13 [ phase 1 ] ====================\n",
            "Epoch 13 [phase 1] Summary:\n",
            "  Train Loss: 1.1363, Train Acc: 0.6178\n",
            "  Val Loss:   1.3981, Val Acc:   0.5597\n",
            "\n",
            "==================== EPOCH 14 [ phase 1 ] ====================\n",
            "Epoch 14 [phase 1] Summary:\n",
            "  Train Loss: 1.1361, Train Acc: 0.6162\n",
            "  Val Loss:   1.3727, Val Acc:   0.5691\n",
            "New best model saved! Val Acc: 0.5691\n",
            "\n",
            "==================== EPOCH 15 [ phase 1 ] ====================\n",
            "Epoch 15 [phase 1] Summary:\n",
            "  Train Loss: 1.0554, Train Acc: 0.6360\n",
            "  Val Loss:   1.3770, Val Acc:   0.5652\n",
            "\n",
            "==================== EPOCH 16 [ phase 1 ] ====================\n",
            "Epoch 16 [phase 1] Summary:\n",
            "  Train Loss: 1.0436, Train Acc: 0.6428\n",
            "  Val Loss:   1.3761, Val Acc:   0.5676\n",
            "\n",
            "==================== EPOCH 17 [ phase 1 ] ====================\n",
            "Epoch 17 [phase 1] Summary:\n",
            "  Train Loss: 1.0356, Train Acc: 0.6377\n",
            "  Val Loss:   1.3396, Val Acc:   0.5731\n",
            "New best model saved! Val Acc: 0.5731\n",
            "\n",
            "==================== EPOCH 18 [ phase 1 ] ====================\n",
            "Epoch 18 [phase 1] Summary:\n",
            "  Train Loss: 1.0111, Train Acc: 0.6485\n",
            "  Val Loss:   1.3715, Val Acc:   0.5637\n",
            "\n",
            "==================== EPOCH 19 [ phase 1 ] ====================\n",
            "Epoch 19 [phase 1] Summary:\n",
            "  Train Loss: 1.0063, Train Acc: 0.6543\n",
            "  Val Loss:   1.2240, Val Acc:   0.5966\n",
            "New best model saved! Val Acc: 0.5966\n",
            "\n",
            "==================== EPOCH 20 [ phase 1 ] ====================\n",
            "Epoch 20 [phase 1] Summary:\n",
            "  Train Loss: 0.9902, Train Acc: 0.6538\n",
            "  Val Loss:   1.2649, Val Acc:   0.5851\n"
          ]
        }
      ],
      "source": [
        "print(\"\\n\" + \"=\"*50)\n",
        "print(\"PHASE 1: Training classifier only (backbone frozen)\")\n",
        "print(\"=\"*50)\n",
        "\n",
        "# feature_extract is a boolean that defines if we are finetuning or feature extracting.\n",
        "# If feature_extract = False, the model is finetuned and all model parameters are updated.\n",
        "# If feature_extract = True, only the last layer parameters are updated, the others remain fixed.\n",
        "\n",
        "# Freeze backbone\n",
        "for name, param in model.named_parameters():\n",
        "    if 'classifier' not in name:  # For EfficientNet\n",
        "        param.requires_grad = False\n",
        "\n",
        "trainable_params = sum(p.numel() for p in model.parameters() if p.requires_grad)\n",
        "total_params = sum(p.numel() for p in model.parameters())\n",
        "print(f\"Trainable parameters: {trainable_params:,} ({trainable_params/total_params:.2%} of total)\")\n",
        "\n",
        "# Higher learning rate for classifier-only training\n",
        "optimizer_phase1 = optim.Adam(filter(lambda p: p.requires_grad, model.parameters()), lr=1e-3)\n",
        "\n",
        "# Phase 1 training\n",
        "phase = \"phase 1\"\n",
        "phase1_epochs = 20\n",
        "best_val_acc_p1 = 0\n",
        "\n",
        "for epoch in range(1, phase1_epochs + 1):\n",
        "    # Call the same training function\n",
        "    train_loss, train_acc, val_loss, val_acc, _ , _  = train_epoch(\n",
        "        model, train_loader, val_loader, criterion, optimizer_phase1, scaler, scheduler, epoch, phase=\"phase 1\")\n",
        "\n",
        "    # Save the best model from phase 1\n",
        "    if val_acc > best_val_acc_p1:\n",
        "        best_val_acc_p1 = val_acc\n",
        "        torch.save({\n",
        "            'epoch': epoch,\n",
        "            'model_state_dict': model.state_dict(),\n",
        "            'optimizer_state_dict': optimizer_phase1.state_dict(),\n",
        "            'val_acc': val_acc,\n",
        "        }, DATA_DIR + \"/trained_model/phase1_best.pth\")\n",
        "        print(f\"New best model saved! Val Acc: {val_acc:.4f}\")"
      ]
    },
    {
      "cell_type": "markdown",
      "metadata": {
        "id": "3x8R0CMRwgWq"
      },
      "source": [
        "- Phase 2: Fine-tuning (full model)"
      ]
    },
    {
      "cell_type": "code",
      "execution_count": null,
      "metadata": {
        "id": "1c7cV-newgWq",
        "colab": {
          "base_uri": "https://localhost:8080/"
        },
        "outputId": "405ef387-b9fc-4a9a-aa6c-b38856ddb696"
      },
      "outputs": [
        {
          "output_type": "stream",
          "name": "stdout",
          "text": [
            "\n",
            "==================================================\n",
            "PHASE 2: Fine-tuning entire model\n",
            "==================================================\n",
            "Trainable parameters: 4,016,515 (100% of total)\n",
            "\n",
            "==================== EPOCH 1 [ Phase 2 ] ====================\n"
          ]
        },
        {
          "output_type": "stream",
          "name": "stderr",
          "text": [
            "<ipython-input-33-dfd6180338e3>:17: FutureWarning: `torch.cuda.amp.autocast(args...)` is deprecated. Please use `torch.amp.autocast('cuda', args...)` instead.\n",
            "  with torch.cuda.amp.autocast(enabled=MIXED_PRECISION): # Change device_type='cuda' to enabled=MIXED_PRECISION\n"
          ]
        },
        {
          "output_type": "stream",
          "name": "stdout",
          "text": [
            "Epoch 1 [Phase 2] Summary:\n",
            "  Train Loss: 0.9471, Train Acc: 0.6629\n",
            "  Val Loss:   1.2080, Val Acc:   0.6081\n",
            "New best model saved! Val Acc: 0.6081\n",
            "\n",
            "==================== EPOCH 2 [ Phase 2 ] ====================\n",
            "Epoch 2 [Phase 2] Summary:\n",
            "  Train Loss: 0.8605, Train Acc: 0.6956\n",
            "  Val Loss:   1.1346, Val Acc:   0.6266\n",
            "New best model saved! Val Acc: 0.6266\n",
            "\n",
            "==================== EPOCH 3 [ Phase 2 ] ====================\n",
            "Epoch 3 [Phase 2] Summary:\n",
            "  Train Loss: 0.8288, Train Acc: 0.7103\n",
            "  Val Loss:   1.0689, Val Acc:   0.6505\n",
            "New best model saved! Val Acc: 0.6505\n",
            "\n",
            "==================== EPOCH 4 [ Phase 2 ] ====================\n",
            "Epoch 4 [Phase 2] Summary:\n",
            "  Train Loss: 0.7557, Train Acc: 0.7329\n",
            "  Val Loss:   1.0726, Val Acc:   0.6500\n",
            "\n",
            "==================== EPOCH 5 [ Phase 2 ] ====================\n",
            "Epoch 5 [Phase 2] Summary:\n",
            "  Train Loss: 0.7374, Train Acc: 0.7403\n",
            "  Val Loss:   1.0349, Val Acc:   0.6605\n",
            "New best model saved! Val Acc: 0.6605\n",
            "\n",
            "==================== EPOCH 6 [ Phase 2 ] ====================\n",
            "Epoch 6 [Phase 2] Summary:\n",
            "  Train Loss: 0.7007, Train Acc: 0.7546\n",
            "  Val Loss:   0.9687, Val Acc:   0.6790\n",
            "New best model saved! Val Acc: 0.6790\n",
            "\n",
            "==================== EPOCH 7 [ Phase 2 ] ====================\n",
            "Epoch 7 [Phase 2] Summary:\n",
            "  Train Loss: 0.6953, Train Acc: 0.7559\n",
            "  Val Loss:   0.9714, Val Acc:   0.6815\n",
            "New best model saved! Val Acc: 0.6815\n",
            "\n",
            "==================== EPOCH 8 [ Phase 2 ] ====================\n",
            "Epoch 8 [Phase 2] Summary:\n",
            "  Train Loss: 0.6556, Train Acc: 0.7666\n",
            "  Val Loss:   0.9438, Val Acc:   0.6795\n",
            "\n",
            "==================== EPOCH 9 [ Phase 2 ] ====================\n",
            "Epoch 9 [Phase 2] Summary:\n",
            "  Train Loss: 0.6592, Train Acc: 0.7641\n",
            "  Val Loss:   0.9557, Val Acc:   0.6800\n",
            "\n",
            "==================== EPOCH 10 [ Phase 2 ] ====================\n",
            "Epoch 10 [Phase 2] Summary:\n",
            "  Train Loss: 0.6059, Train Acc: 0.7821\n",
            "  Val Loss:   0.9330, Val Acc:   0.6860\n",
            "New best model saved! Val Acc: 0.6860\n",
            "\n",
            "==================== EPOCH 11 [ Phase 2 ] ====================\n",
            "Epoch 11 [Phase 2] Summary:\n",
            "  Train Loss: 0.6020, Train Acc: 0.7879\n",
            "  Val Loss:   0.9036, Val Acc:   0.6995\n",
            "New best model saved! Val Acc: 0.6995\n",
            "\n",
            "==================== EPOCH 12 [ Phase 2 ] ====================\n",
            "Epoch 12 [Phase 2] Summary:\n",
            "  Train Loss: 0.5815, Train Acc: 0.7928\n",
            "  Val Loss:   0.8698, Val Acc:   0.7089\n",
            "New best model saved! Val Acc: 0.7089\n",
            "\n",
            "==================== EPOCH 13 [ Phase 2 ] ====================\n",
            "Epoch 13 [Phase 2] Summary:\n",
            "  Train Loss: 0.5576, Train Acc: 0.7956\n",
            "  Val Loss:   0.8704, Val Acc:   0.7059\n",
            "\n",
            "==================== EPOCH 14 [ Phase 2 ] ====================\n",
            "Epoch 14 [Phase 2] Summary:\n",
            "  Train Loss: 0.5385, Train Acc: 0.8075\n",
            "  Val Loss:   0.8503, Val Acc:   0.7104\n",
            "New best model saved! Val Acc: 0.7104\n",
            "\n",
            "==================== EPOCH 15 [ Phase 2 ] ====================\n",
            "Epoch 15 [Phase 2] Summary:\n",
            "  Train Loss: 0.5290, Train Acc: 0.8144\n",
            "  Val Loss:   0.8459, Val Acc:   0.7109\n",
            "New best model saved! Val Acc: 0.7109\n",
            "\n",
            "==================== EPOCH 16 [ Phase 2 ] ====================\n",
            "Epoch 16 [Phase 2] Summary:\n",
            "  Train Loss: 0.5100, Train Acc: 0.8175\n",
            "  Val Loss:   0.8080, Val Acc:   0.7239\n",
            "New best model saved! Val Acc: 0.7239\n",
            "\n",
            "==================== EPOCH 17 [ Phase 2 ] ====================\n",
            "Epoch 17 [Phase 2] Summary:\n",
            "  Train Loss: 0.4915, Train Acc: 0.8214\n",
            "  Val Loss:   0.8020, Val Acc:   0.7284\n",
            "New best model saved! Val Acc: 0.7284\n",
            "\n",
            "==================== EPOCH 18 [ Phase 2 ] ====================\n",
            "Epoch 18 [Phase 2] Summary:\n",
            "  Train Loss: 0.4929, Train Acc: 0.8201\n",
            "  Val Loss:   0.8092, Val Acc:   0.7264\n",
            "\n",
            "==================== EPOCH 19 [ Phase 2 ] ====================\n",
            "Epoch 19 [Phase 2] Summary:\n",
            "  Train Loss: 0.4722, Train Acc: 0.8286\n",
            "  Val Loss:   0.7824, Val Acc:   0.7334\n",
            "New best model saved! Val Acc: 0.7334\n",
            "\n",
            "==================== EPOCH 20 [ Phase 2 ] ====================\n",
            "Epoch 20 [Phase 2] Summary:\n",
            "  Train Loss: 0.4593, Train Acc: 0.8319\n",
            "  Val Loss:   0.7850, Val Acc:   0.7364\n",
            "New best model saved! Val Acc: 0.7364\n",
            "\n",
            "==================== EPOCH 21 [ Phase 2 ] ====================\n",
            "Epoch 21 [Phase 2] Summary:\n",
            "  Train Loss: 0.4462, Train Acc: 0.8387\n",
            "  Val Loss:   0.7687, Val Acc:   0.7419\n",
            "New best model saved! Val Acc: 0.7419\n",
            "\n",
            "==================== EPOCH 22 [ Phase 2 ] ====================\n",
            "Epoch 22 [Phase 2] Summary:\n",
            "  Train Loss: 0.4461, Train Acc: 0.8444\n",
            "  Val Loss:   0.7736, Val Acc:   0.7404\n",
            "\n",
            "==================== EPOCH 23 [ Phase 2 ] ====================\n",
            "Epoch 23 [Phase 2] Summary:\n",
            "  Train Loss: 0.4345, Train Acc: 0.8417\n",
            "  Val Loss:   0.7592, Val Acc:   0.7449\n",
            "New best model saved! Val Acc: 0.7449\n",
            "\n",
            "==================== EPOCH 24 [ Phase 2 ] ====================\n",
            "Epoch 24 [Phase 2] Summary:\n",
            "  Train Loss: 0.3991, Train Acc: 0.8583\n",
            "  Val Loss:   0.7538, Val Acc:   0.7394\n",
            "\n",
            "==================== EPOCH 25 [ Phase 2 ] ====================\n",
            "Epoch 25 [Phase 2] Summary:\n",
            "  Train Loss: 0.3891, Train Acc: 0.8593\n",
            "  Val Loss:   0.7638, Val Acc:   0.7424\n",
            "\n",
            "==================== EPOCH 26 [ Phase 2 ] ====================\n",
            "Epoch 26 [Phase 2] Summary:\n",
            "  Train Loss: 0.3962, Train Acc: 0.8553\n",
            "  Val Loss:   0.7436, Val Acc:   0.7419\n",
            "\n",
            "==================== EPOCH 27 [ Phase 2 ] ====================\n",
            "Epoch 27 [Phase 2] Summary:\n",
            "  Train Loss: 0.3847, Train Acc: 0.8626\n",
            "  Val Loss:   0.7339, Val Acc:   0.7409\n",
            "\n",
            "==================== EPOCH 28 [ Phase 2 ] ====================\n",
            "Epoch 28 [Phase 2] Summary:\n",
            "  Train Loss: 0.3639, Train Acc: 0.8687\n",
            "  Val Loss:   0.7037, Val Acc:   0.7569\n",
            "New best model saved! Val Acc: 0.7569\n",
            "\n",
            "==================== EPOCH 29 [ Phase 2 ] ====================\n",
            "Epoch 29 [Phase 2] Summary:\n",
            "  Train Loss: 0.3658, Train Acc: 0.8697\n",
            "  Val Loss:   0.7102, Val Acc:   0.7569\n",
            "\n",
            "==================== EPOCH 30 [ Phase 2 ] ====================\n",
            "Epoch 30 [Phase 2] Summary:\n",
            "  Train Loss: 0.3818, Train Acc: 0.8662\n",
            "  Val Loss:   0.7040, Val Acc:   0.7549\n",
            "\n",
            "==================== EPOCH 31 [ Phase 2 ] ====================\n",
            "Epoch 31 [Phase 2] Summary:\n",
            "  Train Loss: 0.3527, Train Acc: 0.8727\n",
            "  Val Loss:   0.6994, Val Acc:   0.7574\n",
            "New best model saved! Val Acc: 0.7574\n",
            "\n",
            "==================== EPOCH 32 [ Phase 2 ] ====================\n",
            "Epoch 32 [Phase 2] Summary:\n",
            "  Train Loss: 0.3427, Train Acc: 0.8762\n",
            "  Val Loss:   0.7012, Val Acc:   0.7589\n",
            "New best model saved! Val Acc: 0.7589\n",
            "\n",
            "==================== EPOCH 33 [ Phase 2 ] ====================\n",
            "Epoch 33 [Phase 2] Summary:\n",
            "  Train Loss: 0.3320, Train Acc: 0.8806\n",
            "  Val Loss:   0.6656, Val Acc:   0.7698\n",
            "New best model saved! Val Acc: 0.7698\n",
            "\n",
            "==================== EPOCH 34 [ Phase 2 ] ====================\n",
            "Epoch 34 [Phase 2] Summary:\n",
            "  Train Loss: 0.3295, Train Acc: 0.8801\n",
            "  Val Loss:   0.6817, Val Acc:   0.7708\n",
            "New best model saved! Val Acc: 0.7708\n",
            "\n",
            "==================== EPOCH 35 [ Phase 2 ] ====================\n",
            "Epoch 35 [Phase 2] Summary:\n",
            "  Train Loss: 0.3175, Train Acc: 0.8885\n",
            "  Val Loss:   0.6847, Val Acc:   0.7664\n",
            "\n",
            "==================== EPOCH 36 [ Phase 2 ] ====================\n",
            "Epoch 36 [Phase 2] Summary:\n",
            "  Train Loss: 0.3133, Train Acc: 0.8897\n",
            "  Val Loss:   0.6950, Val Acc:   0.7579\n",
            "\n",
            "==================== EPOCH 37 [ Phase 2 ] ====================\n",
            "Epoch 37 [Phase 2] Summary:\n",
            "  Train Loss: 0.3022, Train Acc: 0.8903\n",
            "  Val Loss:   0.6721, Val Acc:   0.7668\n",
            "\n",
            "==================== EPOCH 38 [ Phase 2 ] ====================\n",
            "Epoch 38 [Phase 2] Summary:\n",
            "  Train Loss: 0.3101, Train Acc: 0.8894\n",
            "  Val Loss:   0.6662, Val Acc:   0.7713\n",
            "New best model saved! Val Acc: 0.7713\n",
            "\n",
            "==================== EPOCH 39 [ Phase 2 ] ====================\n",
            "Epoch 39 [Phase 2] Summary:\n",
            "  Train Loss: 0.2931, Train Acc: 0.8962\n",
            "  Val Loss:   0.6265, Val Acc:   0.7818\n",
            "New best model saved! Val Acc: 0.7818\n",
            "\n",
            "==================== EPOCH 40 [ Phase 2 ] ====================\n",
            "Epoch 40 [Phase 2] Summary:\n",
            "  Train Loss: 0.2930, Train Acc: 0.8954\n",
            "  Val Loss:   0.6187, Val Acc:   0.7818\n",
            "\n",
            "==================== EPOCH 41 [ Phase 2 ] ====================\n",
            "Epoch 41 [Phase 2] Summary:\n",
            "  Train Loss: 0.2894, Train Acc: 0.8962\n",
            "  Val Loss:   0.6392, Val Acc:   0.7748\n",
            "\n",
            "==================== EPOCH 42 [ Phase 2 ] ====================\n",
            "Epoch 42 [Phase 2] Summary:\n",
            "  Train Loss: 0.2800, Train Acc: 0.8998\n",
            "  Val Loss:   0.6356, Val Acc:   0.7813\n",
            "\n",
            "==================== EPOCH 43 [ Phase 2 ] ====================\n",
            "Epoch 43 [Phase 2] Summary:\n",
            "  Train Loss: 0.2696, Train Acc: 0.9059\n",
            "  Val Loss:   0.6054, Val Acc:   0.7858\n",
            "New best model saved! Val Acc: 0.7858\n",
            "\n",
            "==================== EPOCH 44 [ Phase 2 ] ====================\n",
            "Epoch 44 [Phase 2] Summary:\n",
            "  Train Loss: 0.2682, Train Acc: 0.9028\n",
            "  Val Loss:   0.6130, Val Acc:   0.7828\n",
            "\n",
            "==================== EPOCH 45 [ Phase 2 ] ====================\n",
            "Epoch 45 [Phase 2] Summary:\n",
            "  Train Loss: 0.2682, Train Acc: 0.9048\n",
            "  Val Loss:   0.6213, Val Acc:   0.7873\n",
            "New best model saved! Val Acc: 0.7873\n",
            "\n",
            "==================== EPOCH 46 [ Phase 2 ] ====================\n",
            "Epoch 46 [Phase 2] Summary:\n",
            "  Train Loss: 0.2617, Train Acc: 0.9096\n",
            "  Val Loss:   0.6155, Val Acc:   0.7818\n",
            "\n",
            "==================== EPOCH 47 [ Phase 2 ] ====================\n",
            "Epoch 47 [Phase 2] Summary:\n",
            "  Train Loss: 0.2503, Train Acc: 0.9119\n",
            "  Val Loss:   0.5941, Val Acc:   0.7908\n",
            "New best model saved! Val Acc: 0.7908\n",
            "\n",
            "==================== EPOCH 48 [ Phase 2 ] ====================\n",
            "Epoch 48 [Phase 2] Summary:\n",
            "  Train Loss: 0.2521, Train Acc: 0.9098\n",
            "  Val Loss:   0.5748, Val Acc:   0.7988\n",
            "New best model saved! Val Acc: 0.7988\n",
            "\n",
            "==================== EPOCH 49 [ Phase 2 ] ====================\n",
            "Epoch 49 [Phase 2] Summary:\n",
            "  Train Loss: 0.2423, Train Acc: 0.9118\n",
            "  Val Loss:   0.5771, Val Acc:   0.7928\n",
            "\n",
            "==================== EPOCH 50 [ Phase 2 ] ====================\n",
            "Epoch 50 [Phase 2] Summary:\n",
            "  Train Loss: 0.2340, Train Acc: 0.9192\n",
            "  Val Loss:   0.5864, Val Acc:   0.7953\n",
            "\n",
            "==================== EPOCH 51 [ Phase 2 ] ====================\n",
            "Epoch 51 [Phase 2] Summary:\n",
            "  Train Loss: 0.2384, Train Acc: 0.9150\n",
            "  Val Loss:   0.5908, Val Acc:   0.7958\n",
            "\n",
            "==================== EPOCH 52 [ Phase 2 ] ====================\n",
            "Epoch 52 [Phase 2] Summary:\n",
            "  Train Loss: 0.2263, Train Acc: 0.9212\n",
            "  Val Loss:   0.5831, Val Acc:   0.8008\n",
            "New best model saved! Val Acc: 0.8008\n",
            "\n",
            "==================== EPOCH 53 [ Phase 2 ] ====================\n",
            "Epoch 53 [Phase 2] Summary:\n",
            "  Train Loss: 0.2224, Train Acc: 0.9247\n",
            "  Val Loss:   0.5890, Val Acc:   0.7948\n",
            "\n",
            "==================== EPOCH 54 [ Phase 2 ] ====================\n",
            "Epoch 54 [Phase 2] Summary:\n",
            "  Train Loss: 0.2275, Train Acc: 0.9219\n",
            "  Val Loss:   0.5638, Val Acc:   0.8063\n",
            "New best model saved! Val Acc: 0.8063\n",
            "\n",
            "==================== EPOCH 55 [ Phase 2 ] ====================\n",
            "Epoch 55 [Phase 2] Summary:\n",
            "  Train Loss: 0.2209, Train Acc: 0.9251\n",
            "  Val Loss:   0.5540, Val Acc:   0.8073\n",
            "New best model saved! Val Acc: 0.8073\n",
            "\n",
            "==================== EPOCH 56 [ Phase 2 ] ====================\n",
            "Epoch 56 [Phase 2] Summary:\n",
            "  Train Loss: 0.2115, Train Acc: 0.9286\n",
            "  Val Loss:   0.5728, Val Acc:   0.7993\n",
            "\n",
            "==================== EPOCH 57 [ Phase 2 ] ====================\n",
            "Epoch 57 [Phase 2] Summary:\n",
            "  Train Loss: 0.2100, Train Acc: 0.9261\n",
            "  Val Loss:   0.5627, Val Acc:   0.8073\n",
            "\n",
            "==================== EPOCH 58 [ Phase 2 ] ====================\n",
            "Epoch 58 [Phase 2] Summary:\n",
            "  Train Loss: 0.2173, Train Acc: 0.9264\n",
            "  Val Loss:   0.5577, Val Acc:   0.8058\n",
            "\n",
            "==================== EPOCH 59 [ Phase 2 ] ====================\n",
            "Epoch 59 [Phase 2] Summary:\n",
            "  Train Loss: 0.2022, Train Acc: 0.9287\n",
            "  Val Loss:   0.5501, Val Acc:   0.8068\n",
            "\n",
            "==================== EPOCH 60 [ Phase 2 ] ====================\n",
            "Epoch 60 [Phase 2] Summary:\n",
            "  Train Loss: 0.2007, Train Acc: 0.9350\n",
            "  Val Loss:   0.5448, Val Acc:   0.8138\n",
            "New best model saved! Val Acc: 0.8138\n",
            "\n",
            "==================== EPOCH 61 [ Phase 2 ] ====================\n",
            "Epoch 61 [Phase 2] Summary:\n",
            "  Train Loss: 0.1910, Train Acc: 0.9358\n",
            "  Val Loss:   0.5531, Val Acc:   0.8033\n",
            "\n",
            "==================== EPOCH 62 [ Phase 2 ] ====================\n",
            "Epoch 62 [Phase 2] Summary:\n",
            "  Train Loss: 0.1904, Train Acc: 0.9335\n",
            "  Val Loss:   0.5285, Val Acc:   0.8158\n",
            "New best model saved! Val Acc: 0.8158\n",
            "\n",
            "==================== EPOCH 63 [ Phase 2 ] ====================\n",
            "Epoch 63 [Phase 2] Summary:\n",
            "  Train Loss: 0.1780, Train Acc: 0.9415\n",
            "  Val Loss:   0.5419, Val Acc:   0.8133\n",
            "\n",
            "==================== EPOCH 64 [ Phase 2 ] ====================\n",
            "Epoch 64 [Phase 2] Summary:\n",
            "  Train Loss: 0.1912, Train Acc: 0.9346\n",
            "  Val Loss:   0.5504, Val Acc:   0.8073\n",
            "\n",
            "==================== EPOCH 65 [ Phase 2 ] ====================\n",
            "Epoch 65 [Phase 2] Summary:\n",
            "  Train Loss: 0.1856, Train Acc: 0.9387\n",
            "  Val Loss:   0.5345, Val Acc:   0.8118\n",
            "\n",
            "==================== EPOCH 66 [ Phase 2 ] ====================\n",
            "Epoch 66 [Phase 2] Summary:\n",
            "  Train Loss: 0.1801, Train Acc: 0.9385\n",
            "  Val Loss:   0.5115, Val Acc:   0.8228\n",
            "New best model saved! Val Acc: 0.8228\n",
            "\n",
            "==================== EPOCH 67 [ Phase 2 ] ====================\n",
            "Epoch 67 [Phase 2] Summary:\n",
            "  Train Loss: 0.1717, Train Acc: 0.9408\n",
            "  Val Loss:   0.5127, Val Acc:   0.8263\n",
            "New best model saved! Val Acc: 0.8263\n",
            "\n",
            "==================== EPOCH 68 [ Phase 2 ] ====================\n",
            "Epoch 68 [Phase 2] Summary:\n",
            "  Train Loss: 0.1832, Train Acc: 0.9367\n",
            "  Val Loss:   0.5335, Val Acc:   0.8148\n",
            "\n",
            "==================== EPOCH 69 [ Phase 2 ] ====================\n",
            "Epoch 69 [Phase 2] Summary:\n",
            "  Train Loss: 0.1668, Train Acc: 0.9438\n",
            "  Val Loss:   0.5170, Val Acc:   0.8203\n",
            "\n",
            "==================== EPOCH 70 [ Phase 2 ] ====================\n",
            "Epoch 70 [Phase 2] Summary:\n",
            "  Train Loss: 0.1754, Train Acc: 0.9413\n",
            "  Val Loss:   0.5287, Val Acc:   0.8163\n",
            "\n",
            "==================== EPOCH 71 [ Phase 2 ] ====================\n",
            "Epoch 71 [Phase 2] Summary:\n",
            "  Train Loss: 0.1719, Train Acc: 0.9441\n",
            "  Val Loss:   0.5127, Val Acc:   0.8258\n",
            "\n",
            "==================== EPOCH 72 [ Phase 2 ] ====================\n",
            "Epoch 72 [Phase 2] Summary:\n",
            "  Train Loss: 0.1584, Train Acc: 0.9470\n",
            "  Val Loss:   0.5165, Val Acc:   0.8253\n",
            "\n",
            "==================== EPOCH 73 [ Phase 2 ] ====================\n",
            "Epoch 73 [Phase 2] Summary:\n",
            "  Train Loss: 0.1583, Train Acc: 0.9455\n",
            "  Val Loss:   0.5206, Val Acc:   0.8243\n",
            "\n",
            "==================== EPOCH 74 [ Phase 2 ] ====================\n",
            "Epoch 74 [Phase 2] Summary:\n",
            "  Train Loss: 0.1580, Train Acc: 0.9466\n",
            "  Val Loss:   0.5021, Val Acc:   0.8313\n",
            "New best model saved! Val Acc: 0.8313\n",
            "\n",
            "==================== EPOCH 75 [ Phase 2 ] ====================\n",
            "Epoch 75 [Phase 2] Summary:\n",
            "  Train Loss: 0.1608, Train Acc: 0.9446\n",
            "  Val Loss:   0.5197, Val Acc:   0.8233\n",
            "\n",
            "==================== EPOCH 76 [ Phase 2 ] ====================\n",
            "Epoch 76 [Phase 2] Summary:\n",
            "  Train Loss: 0.1506, Train Acc: 0.9487\n",
            "  Val Loss:   0.5105, Val Acc:   0.8248\n",
            "\n",
            "==================== EPOCH 77 [ Phase 2 ] ====================\n",
            "Epoch 77 [Phase 2] Summary:\n",
            "  Train Loss: 0.1534, Train Acc: 0.9502\n",
            "  Val Loss:   0.5084, Val Acc:   0.8263\n",
            "\n",
            "==================== EPOCH 78 [ Phase 2 ] ====================\n",
            "Epoch 78 [Phase 2] Summary:\n",
            "  Train Loss: 0.1452, Train Acc: 0.9517\n",
            "  Val Loss:   0.4928, Val Acc:   0.8362\n",
            "New best model saved! Val Acc: 0.8362\n",
            "\n",
            "==================== EPOCH 79 [ Phase 2 ] ====================\n",
            "Epoch 79 [Phase 2] Summary:\n",
            "  Train Loss: 0.1425, Train Acc: 0.9526\n",
            "  Val Loss:   0.4969, Val Acc:   0.8313\n",
            "\n",
            "==================== EPOCH 80 [ Phase 2 ] ====================\n",
            "Epoch 80 [Phase 2] Summary:\n",
            "  Train Loss: 0.1448, Train Acc: 0.9523\n",
            "  Val Loss:   0.4772, Val Acc:   0.8372\n",
            "New best model saved! Val Acc: 0.8372\n",
            "\n",
            "==================== EPOCH 81 [ Phase 2 ] ====================\n",
            "Epoch 81 [Phase 2] Summary:\n",
            "  Train Loss: 0.1455, Train Acc: 0.9538\n",
            "  Val Loss:   0.4861, Val Acc:   0.8387\n",
            "New best model saved! Val Acc: 0.8387\n",
            "\n",
            "==================== EPOCH 82 [ Phase 2 ] ====================\n",
            "Epoch 82 [Phase 2] Summary:\n",
            "  Train Loss: 0.1372, Train Acc: 0.9559\n",
            "  Val Loss:   0.4866, Val Acc:   0.8367\n",
            "\n",
            "==================== EPOCH 83 [ Phase 2 ] ====================\n",
            "Epoch 83 [Phase 2] Summary:\n",
            "  Train Loss: 0.1326, Train Acc: 0.9557\n",
            "  Val Loss:   0.4838, Val Acc:   0.8417\n",
            "New best model saved! Val Acc: 0.8417\n",
            "\n",
            "==================== EPOCH 84 [ Phase 2 ] ====================\n",
            "Epoch 84 [Phase 2] Summary:\n",
            "  Train Loss: 0.1317, Train Acc: 0.9559\n",
            "  Val Loss:   0.4952, Val Acc:   0.8337\n",
            "\n",
            "==================== EPOCH 85 [ Phase 2 ] ====================\n",
            "Epoch 85 [Phase 2] Summary:\n",
            "  Train Loss: 0.1343, Train Acc: 0.9568\n",
            "  Val Loss:   0.4759, Val Acc:   0.8392\n",
            "\n",
            "==================== EPOCH 86 [ Phase 2 ] ====================\n",
            "Epoch 86 [Phase 2] Summary:\n",
            "  Train Loss: 0.1332, Train Acc: 0.9547\n",
            "  Val Loss:   0.4842, Val Acc:   0.8367\n",
            "\n",
            "==================== EPOCH 87 [ Phase 2 ] ====================\n",
            "Epoch 87 [Phase 2] Summary:\n",
            "  Train Loss: 0.1287, Train Acc: 0.9577\n",
            "  Val Loss:   0.4844, Val Acc:   0.8372\n",
            "\n",
            "==================== EPOCH 88 [ Phase 2 ] ====================\n",
            "Epoch 88 [Phase 2] Summary:\n",
            "  Train Loss: 0.1231, Train Acc: 0.9607\n",
            "  Val Loss:   0.4663, Val Acc:   0.8477\n",
            "New best model saved! Val Acc: 0.8477\n",
            "\n",
            "==================== EPOCH 89 [ Phase 2 ] ====================\n",
            "Epoch 89 [Phase 2] Summary:\n",
            "  Train Loss: 0.1270, Train Acc: 0.9583\n",
            "  Val Loss:   0.4747, Val Acc:   0.8427\n",
            "\n",
            "==================== EPOCH 90 [ Phase 2 ] ====================\n",
            "Epoch 90 [Phase 2] Summary:\n",
            "  Train Loss: 0.1227, Train Acc: 0.9619\n",
            "  Val Loss:   0.4691, Val Acc:   0.8412\n",
            "\n",
            "==================== EPOCH 91 [ Phase 2 ] ====================\n",
            "Epoch 91 [Phase 2] Summary:\n",
            "  Train Loss: 0.1228, Train Acc: 0.9583\n",
            "  Val Loss:   0.4693, Val Acc:   0.8427\n",
            "\n",
            "==================== EPOCH 92 [ Phase 2 ] ====================\n",
            "Epoch 92 [Phase 2] Summary:\n",
            "  Train Loss: 0.1221, Train Acc: 0.9602\n",
            "  Val Loss:   0.4765, Val Acc:   0.8402\n",
            "\n",
            "==================== EPOCH 93 [ Phase 2 ] ====================\n",
            "Epoch 93 [Phase 2] Summary:\n",
            "  Train Loss: 0.1205, Train Acc: 0.9631\n",
            "  Val Loss:   0.4640, Val Acc:   0.8407\n",
            "\n",
            "==================== EPOCH 94 [ Phase 2 ] ====================\n",
            "Epoch 94 [Phase 2] Summary:\n",
            "  Train Loss: 0.1194, Train Acc: 0.9586\n",
            "  Val Loss:   0.4689, Val Acc:   0.8397\n",
            "\n",
            "==================== EPOCH 95 [ Phase 2 ] ====================\n",
            "Epoch 95 [Phase 2] Summary:\n",
            "  Train Loss: 0.1129, Train Acc: 0.9639\n",
            "  Val Loss:   0.4629, Val Acc:   0.8412\n",
            "\n",
            "==================== EPOCH 96 [ Phase 2 ] ====================\n",
            "Epoch 96 [Phase 2] Summary:\n",
            "  Train Loss: 0.1101, Train Acc: 0.9649\n",
            "  Val Loss:   0.4661, Val Acc:   0.8452\n",
            "\n",
            "==================== EPOCH 97 [ Phase 2 ] ====================\n",
            "Epoch 97 [Phase 2] Summary:\n",
            "  Train Loss: 0.1080, Train Acc: 0.9644\n",
            "  Val Loss:   0.4651, Val Acc:   0.8437\n",
            "\n",
            "==================== EPOCH 98 [ Phase 2 ] ====================\n",
            "Epoch 98 [Phase 2] Summary:\n",
            "  Train Loss: 0.1145, Train Acc: 0.9627\n",
            "  Val Loss:   0.4618, Val Acc:   0.8482\n",
            "New best model saved! Val Acc: 0.8482\n",
            "\n",
            "==================== EPOCH 99 [ Phase 2 ] ====================\n",
            "Epoch 99 [Phase 2] Summary:\n",
            "  Train Loss: 0.1086, Train Acc: 0.9658\n",
            "  Val Loss:   0.4763, Val Acc:   0.8432\n",
            "\n",
            "==================== EPOCH 100 [ Phase 2 ] ====================\n",
            "Epoch 100 [Phase 2] Summary:\n",
            "  Train Loss: 0.1108, Train Acc: 0.9636\n",
            "  Val Loss:   0.4624, Val Acc:   0.8447\n",
            "\n",
            "==================== EPOCH 101 [ Phase 2 ] ====================\n",
            "Epoch 101 [Phase 2] Summary:\n",
            "  Train Loss: 0.0990, Train Acc: 0.9678\n",
            "  Val Loss:   0.4678, Val Acc:   0.8467\n",
            "\n",
            "==================== EPOCH 102 [ Phase 2 ] ====================\n",
            "Epoch 102 [Phase 2] Summary:\n",
            "  Train Loss: 0.1040, Train Acc: 0.9659\n",
            "  Val Loss:   0.4625, Val Acc:   0.8477\n",
            "\n",
            "==================== EPOCH 103 [ Phase 2 ] ====================\n",
            "Epoch 103 [Phase 2] Summary:\n",
            "  Train Loss: 0.1065, Train Acc: 0.9644\n",
            "  Val Loss:   0.4574, Val Acc:   0.8477\n",
            "\n",
            "==================== EPOCH 104 [ Phase 2 ] ====================\n",
            "Epoch 104 [Phase 2] Summary:\n",
            "  Train Loss: 0.1014, Train Acc: 0.9693\n",
            "  Val Loss:   0.4617, Val Acc:   0.8452\n",
            "\n",
            "==================== EPOCH 105 [ Phase 2 ] ====================\n",
            "Epoch 105 [Phase 2] Summary:\n",
            "  Train Loss: 0.1017, Train Acc: 0.9678\n",
            "  Val Loss:   0.4532, Val Acc:   0.8492\n",
            "New best model saved! Val Acc: 0.8492\n",
            "\n",
            "==================== EPOCH 106 [ Phase 2 ] ====================\n",
            "Epoch 106 [Phase 2] Summary:\n",
            "  Train Loss: 0.1030, Train Acc: 0.9685\n",
            "  Val Loss:   0.4584, Val Acc:   0.8527\n",
            "New best model saved! Val Acc: 0.8527\n",
            "\n",
            "==================== EPOCH 107 [ Phase 2 ] ====================\n",
            "Epoch 107 [Phase 2] Summary:\n",
            "  Train Loss: 0.0990, Train Acc: 0.9687\n",
            "  Val Loss:   0.4530, Val Acc:   0.8477\n",
            "\n",
            "==================== EPOCH 108 [ Phase 2 ] ====================\n",
            "Epoch 108 [Phase 2] Summary:\n",
            "  Train Loss: 0.0964, Train Acc: 0.9690\n",
            "  Val Loss:   0.4620, Val Acc:   0.8447\n",
            "\n",
            "==================== EPOCH 109 [ Phase 2 ] ====================\n",
            "Epoch 109 [Phase 2] Summary:\n",
            "  Train Loss: 0.0956, Train Acc: 0.9695\n",
            "  Val Loss:   0.4560, Val Acc:   0.8552\n",
            "New best model saved! Val Acc: 0.8552\n",
            "\n",
            "==================== EPOCH 110 [ Phase 2 ] ====================\n",
            "Epoch 110 [Phase 2] Summary:\n",
            "  Train Loss: 0.0876, Train Acc: 0.9747\n",
            "  Val Loss:   0.4605, Val Acc:   0.8522\n",
            "\n",
            "==================== EPOCH 111 [ Phase 2 ] ====================\n",
            "Epoch 111 [Phase 2] Summary:\n",
            "  Train Loss: 0.0943, Train Acc: 0.9692\n",
            "  Val Loss:   0.4598, Val Acc:   0.8497\n",
            "\n",
            "==================== EPOCH 112 [ Phase 2 ] ====================\n",
            "Epoch 112 [Phase 2] Summary:\n",
            "  Train Loss: 0.0913, Train Acc: 0.9699\n",
            "  Val Loss:   0.4549, Val Acc:   0.8537\n",
            "\n",
            "==================== EPOCH 113 [ Phase 2 ] ====================\n",
            "Epoch 113 [Phase 2] Summary:\n",
            "  Train Loss: 0.0824, Train Acc: 0.9728\n",
            "  Val Loss:   0.4517, Val Acc:   0.8542\n",
            "\n",
            "==================== EPOCH 114 [ Phase 2 ] ====================\n",
            "Epoch 114 [Phase 2] Summary:\n",
            "  Train Loss: 0.0857, Train Acc: 0.9713\n",
            "  Val Loss:   0.4612, Val Acc:   0.8502\n",
            "\n",
            "==================== EPOCH 115 [ Phase 2 ] ====================\n",
            "Epoch 115 [Phase 2] Summary:\n",
            "  Train Loss: 0.0904, Train Acc: 0.9699\n",
            "  Val Loss:   0.4548, Val Acc:   0.8577\n",
            "New best model saved! Val Acc: 0.8577\n",
            "\n",
            "==================== EPOCH 116 [ Phase 2 ] ====================\n",
            "Epoch 116 [Phase 2] Summary:\n",
            "  Train Loss: 0.0869, Train Acc: 0.9725\n",
            "  Val Loss:   0.4564, Val Acc:   0.8577\n",
            "\n",
            "==================== EPOCH 117 [ Phase 2 ] ====================\n",
            "Epoch 117 [Phase 2] Summary:\n",
            "  Train Loss: 0.0907, Train Acc: 0.9704\n",
            "  Val Loss:   0.4503, Val Acc:   0.8587\n",
            "New best model saved! Val Acc: 0.8587\n",
            "\n",
            "==================== EPOCH 118 [ Phase 2 ] ====================\n",
            "Epoch 118 [Phase 2] Summary:\n",
            "  Train Loss: 0.0875, Train Acc: 0.9724\n",
            "  Val Loss:   0.4584, Val Acc:   0.8577\n",
            "\n",
            "==================== EPOCH 119 [ Phase 2 ] ====================\n",
            "Epoch 119 [Phase 2] Summary:\n",
            "  Train Loss: 0.0848, Train Acc: 0.9722\n",
            "  Val Loss:   0.4592, Val Acc:   0.8587\n",
            "\n",
            "==================== EPOCH 120 [ Phase 2 ] ====================\n",
            "Epoch 120 [Phase 2] Summary:\n",
            "  Train Loss: 0.0767, Train Acc: 0.9762\n",
            "  Val Loss:   0.4523, Val Acc:   0.8562\n",
            "\n",
            "==================== EPOCH 121 [ Phase 2 ] ====================\n",
            "Epoch 121 [Phase 2] Summary:\n",
            "  Train Loss: 0.0927, Train Acc: 0.9692\n",
            "  Val Loss:   0.4571, Val Acc:   0.8557\n",
            "\n",
            "==================== EPOCH 122 [ Phase 2 ] ====================\n",
            "Epoch 122 [Phase 2] Summary:\n",
            "  Train Loss: 0.0843, Train Acc: 0.9704\n",
            "  Val Loss:   0.4553, Val Acc:   0.8607\n",
            "New best model saved! Val Acc: 0.8607\n",
            "\n",
            "==================== EPOCH 123 [ Phase 2 ] ====================\n",
            "Epoch 123 [Phase 2] Summary:\n",
            "  Train Loss: 0.0831, Train Acc: 0.9732\n",
            "  Val Loss:   0.4535, Val Acc:   0.8562\n",
            "\n",
            "==================== EPOCH 124 [ Phase 2 ] ====================\n",
            "Epoch 124 [Phase 2] Summary:\n",
            "  Train Loss: 0.0827, Train Acc: 0.9739\n",
            "  Val Loss:   0.4495, Val Acc:   0.8577\n",
            "\n",
            "==================== EPOCH 125 [ Phase 2 ] ====================\n",
            "Epoch 125 [Phase 2] Summary:\n",
            "  Train Loss: 0.0858, Train Acc: 0.9727\n",
            "  Val Loss:   0.4460, Val Acc:   0.8602\n",
            "\n",
            "==================== EPOCH 126 [ Phase 2 ] ====================\n",
            "Epoch 126 [Phase 2] Summary:\n",
            "  Train Loss: 0.0775, Train Acc: 0.9739\n",
            "  Val Loss:   0.4553, Val Acc:   0.8542\n",
            "\n",
            "==================== EPOCH 127 [ Phase 2 ] ====================\n",
            "Epoch 127 [Phase 2] Summary:\n",
            "  Train Loss: 0.0812, Train Acc: 0.9722\n",
            "  Val Loss:   0.4486, Val Acc:   0.8567\n",
            "\n",
            "==================== EPOCH 128 [ Phase 2 ] ====================\n",
            "Epoch 128 [Phase 2] Summary:\n",
            "  Train Loss: 0.0839, Train Acc: 0.9725\n",
            "  Val Loss:   0.4527, Val Acc:   0.8602\n",
            "\n",
            "==================== EPOCH 129 [ Phase 2 ] ====================\n",
            "Epoch 129 [Phase 2] Summary:\n",
            "  Train Loss: 0.0796, Train Acc: 0.9747\n",
            "  Val Loss:   0.4529, Val Acc:   0.8647\n",
            "New best model saved! Val Acc: 0.8647\n",
            "\n",
            "==================== EPOCH 130 [ Phase 2 ] ====================\n",
            "Epoch 130 [Phase 2] Summary:\n",
            "  Train Loss: 0.0735, Train Acc: 0.9767\n",
            "  Val Loss:   0.4528, Val Acc:   0.8607\n",
            "\n",
            "==================== EPOCH 131 [ Phase 2 ] ====================\n",
            "Epoch 131 [Phase 2] Summary:\n",
            "  Train Loss: 0.0727, Train Acc: 0.9764\n",
            "  Val Loss:   0.4543, Val Acc:   0.8602\n",
            "\n",
            "==================== EPOCH 132 [ Phase 2 ] ====================\n",
            "Epoch 132 [Phase 2] Summary:\n",
            "  Train Loss: 0.0801, Train Acc: 0.9750\n",
            "  Val Loss:   0.4613, Val Acc:   0.8577\n",
            "\n",
            "==================== EPOCH 133 [ Phase 2 ] ====================\n",
            "Epoch 133 [Phase 2] Summary:\n",
            "  Train Loss: 0.0743, Train Acc: 0.9743\n",
            "  Val Loss:   0.4540, Val Acc:   0.8572\n",
            "\n",
            "==================== EPOCH 134 [ Phase 2 ] ====================\n",
            "Epoch 134 [Phase 2] Summary:\n",
            "  Train Loss: 0.0698, Train Acc: 0.9768\n",
            "  Val Loss:   0.4497, Val Acc:   0.8622\n",
            "\n",
            "==================== EPOCH 135 [ Phase 2 ] ====================\n",
            "Epoch 135 [Phase 2] Summary:\n",
            "  Train Loss: 0.0690, Train Acc: 0.9774\n",
            "  Val Loss:   0.4545, Val Acc:   0.8622\n",
            "\n",
            "==================== EPOCH 136 [ Phase 2 ] ====================\n",
            "Epoch 136 [Phase 2] Summary:\n",
            "  Train Loss: 0.0720, Train Acc: 0.9780\n",
            "  Val Loss:   0.4590, Val Acc:   0.8592\n",
            "\n",
            "==================== EPOCH 137 [ Phase 2 ] ====================\n",
            "Epoch 137 [Phase 2] Summary:\n",
            "  Train Loss: 0.0740, Train Acc: 0.9768\n",
            "  Val Loss:   0.4538, Val Acc:   0.8612\n",
            "\n",
            "==================== EPOCH 138 [ Phase 2 ] ====================\n",
            "Epoch 138 [Phase 2] Summary:\n",
            "  Train Loss: 0.0713, Train Acc: 0.9792\n",
            "  Val Loss:   0.4583, Val Acc:   0.8602\n",
            "\n",
            "==================== EPOCH 139 [ Phase 2 ] ====================\n",
            "Epoch 139 [Phase 2] Summary:\n",
            "  Train Loss: 0.0699, Train Acc: 0.9784\n",
            "  Val Loss:   0.4493, Val Acc:   0.8642\n",
            "\n",
            "==================== EPOCH 140 [ Phase 2 ] ====================\n",
            "Epoch 140 [Phase 2] Summary:\n",
            "  Train Loss: 0.0728, Train Acc: 0.9754\n",
            "  Val Loss:   0.4503, Val Acc:   0.8672\n",
            "New best model saved! Val Acc: 0.8672\n",
            "\n",
            "==================== EPOCH 141 [ Phase 2 ] ====================\n",
            "Epoch 141 [Phase 2] Summary:\n",
            "  Train Loss: 0.0647, Train Acc: 0.9795\n",
            "  Val Loss:   0.4524, Val Acc:   0.8647\n",
            "\n",
            "==================== EPOCH 142 [ Phase 2 ] ====================\n",
            "Epoch 142 [Phase 2] Summary:\n",
            "  Train Loss: 0.0721, Train Acc: 0.9750\n",
            "  Val Loss:   0.4561, Val Acc:   0.8612\n",
            "\n",
            "==================== EPOCH 143 [ Phase 2 ] ====================\n",
            "Epoch 143 [Phase 2] Summary:\n",
            "  Train Loss: 0.0609, Train Acc: 0.9819\n",
            "  Val Loss:   0.4509, Val Acc:   0.8652\n",
            "\n",
            "==================== EPOCH 144 [ Phase 2 ] ====================\n",
            "Epoch 144 [Phase 2] Summary:\n",
            "  Train Loss: 0.0714, Train Acc: 0.9760\n",
            "  Val Loss:   0.4464, Val Acc:   0.8662\n",
            "\n",
            "==================== EPOCH 145 [ Phase 2 ] ====================\n",
            "Epoch 145 [Phase 2] Summary:\n",
            "  Train Loss: 0.0651, Train Acc: 0.9792\n",
            "  Val Loss:   0.4598, Val Acc:   0.8637\n",
            "\n",
            "==================== EPOCH 146 [ Phase 2 ] ====================\n",
            "Epoch 146 [Phase 2] Summary:\n",
            "  Train Loss: 0.0664, Train Acc: 0.9784\n",
            "  Val Loss:   0.4563, Val Acc:   0.8637\n",
            "\n",
            "==================== EPOCH 147 [ Phase 2 ] ====================\n",
            "Epoch 147 [Phase 2] Summary:\n",
            "  Train Loss: 0.0642, Train Acc: 0.9790\n",
            "  Val Loss:   0.4571, Val Acc:   0.8622\n",
            "\n",
            "==================== EPOCH 148 [ Phase 2 ] ====================\n",
            "Epoch 148 [Phase 2] Summary:\n",
            "  Train Loss: 0.0639, Train Acc: 0.9780\n",
            "  Val Loss:   0.4564, Val Acc:   0.8602\n",
            "\n",
            "==================== EPOCH 149 [ Phase 2 ] ====================\n",
            "Epoch 149 [Phase 2] Summary:\n",
            "  Train Loss: 0.0610, Train Acc: 0.9798\n",
            "  Val Loss:   0.4588, Val Acc:   0.8622\n",
            "\n",
            "==================== EPOCH 150 [ Phase 2 ] ====================\n",
            "Epoch 150 [Phase 2] Summary:\n",
            "  Train Loss: 0.0588, Train Acc: 0.9818\n",
            "  Val Loss:   0.4551, Val Acc:   0.8667\n"
          ]
        }
      ],
      "source": [
        "print(\"\\n\" + \"=\"*50)\n",
        "print(\"PHASE 2: Fine-tuning entire model\")\n",
        "print(\"=\"*50)\n",
        "\n",
        "#Unfreeze all layers\n",
        "for param in model.parameters():\n",
        "    param.requires_grad = True\n",
        "\n",
        "trainable_params = sum(p.numel() for p in model.parameters() if p.requires_grad)\n",
        "print(f\"Trainable parameters: {trainable_params:,} (100% of total)\")\n",
        "\n",
        "# Lower learning rate for fine-tuning\n",
        "optimizer_phase2 = optim.Adam(model.parameters(), lr=1e-5)\n",
        "\n",
        "# Early stopping parameters\n",
        "patience = 12 #Number of epochs to wait for improvement\n",
        "best_val_loss = float('inf') #Initialize with a very large value\n",
        "epochs_without_improvement = 0\n",
        "\n",
        "# Phase 2 training\n",
        "phase2_epochs = 150\n",
        "training_counter = 0\n",
        "best_val_acc_p2 = best_val_acc_p1 #Start from the best accuracy from phase 1\n",
        "\n",
        "for epoch in range(1, phase2_epochs + 1):\n",
        "    training_counter += 1\n",
        "\n",
        "    # Call the same training function again\n",
        "    train_loss, train_acc, val_loss, val_acc, predictions, targets = train_epoch(\n",
        "        model, train_loader, val_loader, criterion, optimizer_phase2, scaler, scheduler, epoch, phase='Phase 2')\n",
        "\n",
        "    # Save the best model from phase 2 ONLY after early stopping, based on accuracy\n",
        "    if val_acc > best_val_acc_p2:  # Change condition to check for accuracy improvement\n",
        "        best_val_acc_p2 = val_acc\n",
        "        epochs_without_improvement = 0\n",
        "\n",
        "        all_predictions, all_targets = predictions, targets\n",
        "\n",
        "        #Save the model here since it's the best so far\n",
        "        torch.save({\n",
        "            'epoch': epoch,\n",
        "            'model_state_dict': model.state_dict(),\n",
        "            'optimizer_state_dict': optimizer_phase2.state_dict(),\n",
        "            'val_acc': val_acc,\n",
        "        }, DATA_DIR + \"/trained_model/phase2_best.pth\")\n",
        "        print(f\"New best model saved! Val Acc: {val_acc:.4f}\")\n",
        "    else:\n",
        "        epochs_without_improvement += 1\n",
        "        if epochs_without_improvement >= patience:\n",
        "            print(f\"Early stopping triggered! No improvement in {patience} epochs.\")\n",
        "            break # Exit training loop"
      ]
    },
    {
      "cell_type": "markdown",
      "metadata": {
        "id": "jsJ0jxklwgWq"
      },
      "source": [
        "- Overall Phase 1 and 2 Accuracy Results"
      ]
    },
    {
      "cell_type": "code",
      "execution_count": null,
      "metadata": {
        "id": "F00yJIaKwgWq",
        "colab": {
          "base_uri": "https://localhost:8080/"
        },
        "outputId": "d976e291-525a-46f6-9c9f-85775ac79c71"
      },
      "outputs": [
        {
          "output_type": "stream",
          "name": "stdout",
          "text": [
            "\n",
            "Training complete!\n",
            "Phase 1 best val accuracy: 0.5966\n",
            "Phase 2 best val accuracy: 0.8672\n",
            "Improvement: 0.2706\n"
          ]
        }
      ],
      "source": [
        "print(\"\\nTraining complete!\")\n",
        "print(f\"Phase 1 best val accuracy: {best_val_acc_p1:.4f}\")\n",
        "print(f\"Phase 2 best val accuracy: {best_val_acc_p2:.4f}\")\n",
        "print(f\"Improvement: {best_val_acc_p2 - best_val_acc_p1:.4f}\")"
      ]
    },
    {
      "cell_type": "markdown",
      "metadata": {
        "id": "tijeOBnkwgWr"
      },
      "source": [
        "**13) Model Evaluation**"
      ]
    },
    {
      "cell_type": "code",
      "execution_count": null,
      "metadata": {
        "id": "2khVg5tCwgWr",
        "colab": {
          "base_uri": "https://localhost:8080/",
          "height": 397
        },
        "outputId": "e522975a-1d5f-4756-bba3-9ad0b33bef67"
      },
      "outputs": [
        {
          "output_type": "display_data",
          "data": {
            "text/plain": [
              "<Figure size 1500x500 with 2 Axes>"
            ],
            "image/png": "[encoded data removed]"
          },
          "metadata": {}
        }
      ],
      "source": [
        "plt.figure(figsize=(15, 5))\n",
        "\n",
        "# Plot training and validation loss\n",
        "plt.subplot(1, 2, 1)\n",
        "plt.plot(history['train_loss'], label='Train Loss')\n",
        "plt.plot(history['val_loss'], label='Val Loss')\n",
        "plt.xlabel('Epoch')\n",
        "plt.ylabel('Loss')\n",
        "plt.legend()\n",
        "plt.title('Loss Curves')\n",
        "\n",
        "# Plot training and validation accuracy\n",
        "plt.subplot(1, 2, 2)\n",
        "plt.plot(history['train_acc'], label='Train Acc')\n",
        "plt.plot(history['val_acc'], label='Val Acc')\n",
        "plt.xlabel('Epoch')\n",
        "plt.ylabel('Accuracy')\n",
        "plt.legend()\n",
        "plt.title('Accuracy Curves')\n",
        "\n",
        "plt.tight_layout()\n",
        "plt.show()"
      ]
    },
    {
      "cell_type": "markdown",
      "metadata": {
        "id": "diYObGDTwgWr"
      },
      "source": [
        "**14) Generate Final Evaluation Metrics: Confusion Matrix**"
      ]
    },
    {
      "cell_type": "code",
      "execution_count": null,
      "metadata": {
        "id": "lAaGDRo3wgWr",
        "colab": {
          "base_uri": "https://localhost:8080/",
          "height": 1000
        },
        "outputId": "d3d96b7f-b3ce-4335-9257-63fb4c234a8d"
      },
      "outputs": [
        {
          "output_type": "display_data",
          "data": {
            "text/plain": [
              "<Figure size 1000x800 with 2 Axes>"
            ],
            "image/png": "[encoded data removed]"
          },
          "metadata": {}
        },
        {
          "output_type": "stream",
          "name": "stdout",
          "text": [
            "\n",
            "Classification Report:\n",
            "                                precision    recall  f1-score   support\n",
            "\n",
            "             Actinic keratoses       0.63      0.69      0.66        65\n",
            "          Basal cell carcinoma       0.74      0.84      0.79       103\n",
            "Benign keratosis-like lesions        0.82      0.70      0.76       220\n",
            "                Dermatofibroma       0.95      0.83      0.88        23\n",
            "              Melanocytic nevi       0.92      0.94      0.93      1341\n",
            "                      Melanoma       0.68      0.64      0.66       223\n",
            "              Vascular lesions       0.86      0.89      0.88        28\n",
            "\n",
            "                      accuracy                           0.87      2003\n",
            "                     macro avg       0.80      0.79      0.79      2003\n",
            "                  weighted avg       0.87      0.87      0.87      2003\n",
            "\n"
          ]
        }
      ],
      "source": [
        "# Create confusion matrix from sklearn\n",
        "cm = confusion_matrix(all_targets, all_predictions)\n",
        "\n",
        "# Find class name, \"cell_type\" that corresponds from cell_type_idx which is the label (y) in HAM10000Dataset\n",
        "# Get the categories (cell_type names) in the order of cell_type_idx\n",
        "class_names = list(pd.Categorical(skin_df['cell_type']).categories)\n",
        "\n",
        "plt.figure(figsize=(10, 8))\n",
        "sns.heatmap(cm, annot=True, fmt='d', cmap='Blues', xticklabels=class_names, yticklabels=class_names)\n",
        "plt.xlabel('Predicted')\n",
        "plt.ylabel('Actual')\n",
        "plt.title('Confusion Matrix')\n",
        "plt.tight_layout()\n",
        "plt.show()\n",
        "\n",
        "# Print classification report\n",
        "print(\"\\nClassification Report:\")\n",
        "print(classification_report(all_targets, all_predictions, target_names=class_names))"
      ]
    }
  ],
  "metadata": {
    "accelerator": "GPU",
    "colab": {
      "gpuType": "A100",
      "provenance": []
    },
    "kernelspec": {
      "display_name": "Python 3",
      "name": "python3"
    },
    "language_info": {
      "codemirror_mode": {
        "name": "ipython",
        "version": 3
      },
      "file_extension": ".py",
      "mimetype": "text/x-python",
      "name": "python",
      "nbconvert_exporter": "python",
      "pygments_lexer": "ipython3",
      "version": "3.11.5"
    },
    "widgets": {
      "application/vnd.jupyter.widget-state+json": {
        "6d3ef0f12a144324b82f494476ff2cc8": {
          "model_module": "@jupyter-widgets/controls",
          "model_name": "HBoxModel",
          "model_module_version": "1.5.0",
          "state": {
            "_dom_classes": [],
            "_model_module": "@jupyter-widgets/controls",
            "_model_module_version": "1.5.0",
            "_model_name": "HBoxModel",
            "_view_count": null,
            "_view_module": "@jupyter-widgets/controls",
            "_view_module_version": "1.5.0",
            "_view_name": "HBoxView",
            "box_style": "",
            "children": [
              "IPY_MODEL_a7b110be5ac84a06953c827729fd0389",
              "IPY_MODEL_6466638416284b0e8ff01c11209a6e21",
              "IPY_MODEL_9c02835a85e543bdbd90de2df1cf2bfa"
            ],
            "layout": "IPY_MODEL_503c9408d0a7479a86435eca1f810947"
          }
        },
        "a7b110be5ac84a06953c827729fd0389": {
          "model_module": "@jupyter-widgets/controls",
          "model_name": "HTMLModel",
          "model_module_version": "1.5.0",
          "state": {
            "_dom_classes": [],
            "_model_module": "@jupyter-widgets/controls",
            "_model_module_version": "1.5.0",
            "_model_name": "HTMLModel",
            "_view_count": null,
            "_view_module": "@jupyter-widgets/controls",
            "_view_module_version": "1.5.0",
            "_view_name": "HTMLView",
            "description": "",
            "description_tooltip": null,
            "layout": "IPY_MODEL_b9f2ac4eff854788b23ae78509d9bdb8",
            "placeholder": "​",
            "style": "IPY_MODEL_c7a6ddcc6d3a423e903da15dbf8faf4e",
            "value": "model.safetensors: 100%"
          }
        },
        "6466638416284b0e8ff01c11209a6e21": {
          "model_module": "@jupyter-widgets/controls",
          "model_name": "FloatProgressModel",
          "model_module_version": "1.5.0",
          "state": {
            "_dom_classes": [],
            "_model_module": "@jupyter-widgets/controls",
            "_model_module_version": "1.5.0",
            "_model_name": "FloatProgressModel",
            "_view_count": null,
            "_view_module": "@jupyter-widgets/controls",
            "_view_module_version": "1.5.0",
            "_view_name": "ProgressView",
            "bar_style": "success",
            "description": "",
            "description_tooltip": null,
            "layout": "IPY_MODEL_bf7ed546e9dd4ec0a65e0f301b0353c0",
            "max": 21355344,
            "min": 0,
            "orientation": "horizontal",
            "style": "IPY_MODEL_27386cb8df5443fc8c4db2d6ceb68ce1",
            "value": 21355344
          }
        },
        "9c02835a85e543bdbd90de2df1cf2bfa": {
          "model_module": "@jupyter-widgets/controls",
          "model_name": "HTMLModel",
          "model_module_version": "1.5.0",
          "state": {
            "_dom_classes": [],
            "_model_module": "@jupyter-widgets/controls",
            "_model_module_version": "1.5.0",
            "_model_name": "HTMLModel",
            "_view_count": null,
            "_view_module": "@jupyter-widgets/controls",
            "_view_module_version": "1.5.0",
            "_view_name": "HTMLView",
            "description": "",
            "description_tooltip": null,
            "layout": "IPY_MODEL_c3fafc678c034d969d7802c54fb59dfc",
            "placeholder": "​",
            "style": "IPY_MODEL_7931771cf253498e97bf6a7c82a5707b",
            "value": " 21.4M/21.4M [00:00&lt;00:00, 137MB/s]"
          }
        },
        "503c9408d0a7479a86435eca1f810947": {
          "model_module": "@jupyter-widgets/base",
          "model_name": "LayoutModel",
          "model_module_version": "1.2.0",
          "state": {
            "_model_module": "@jupyter-widgets/base",
            "_model_module_version": "1.2.0",
            "_model_name": "LayoutModel",
            "_view_count": null,
            "_view_module": "@jupyter-widgets/base",
            "_view_module_version": "1.2.0",
            "_view_name": "LayoutView",
            "align_content": null,
            "align_items": null,
            "align_self": null,
            "border": null,
            "bottom": null,
            "display": null,
            "flex": null,
            "flex_flow": null,
            "grid_area": null,
            "grid_auto_columns": null,
            "grid_auto_flow": null,
            "grid_auto_rows": null,
            "grid_column": null,
            "grid_gap": null,
            "grid_row": null,
            "grid_template_areas": null,
            "grid_template_columns": null,
            "grid_template_rows": null,
            "height": null,
            "justify_content": null,
            "justify_items": null,
            "left": null,
            "margin": null,
            "max_height": null,
            "max_width": null,
            "min_height": null,
            "min_width": null,
            "object_fit": null,
            "object_position": null,
            "order": null,
            "overflow": null,
            "overflow_x": null,
            "overflow_y": null,
            "padding": null,
            "right": null,
            "top": null,
            "visibility": null,
            "width": null
          }
        },
        "b9f2ac4eff854788b23ae78509d9bdb8": {
          "model_module": "@jupyter-widgets/base",
          "model_name": "LayoutModel",
          "model_module_version": "1.2.0",
          "state": {
            "_model_module": "@jupyter-widgets/base",
            "_model_module_version": "1.2.0",
            "_model_name": "LayoutModel",
            "_view_count": null,
            "_view_module": "@jupyter-widgets/base",
            "_view_module_version": "1.2.0",
            "_view_name": "LayoutView",
            "align_content": null,
            "align_items": null,
            "align_self": null,
            "border": null,
            "bottom": null,
            "display": null,
            "flex": null,
            "flex_flow": null,
            "grid_area": null,
            "grid_auto_columns": null,
            "grid_auto_flow": null,
            "grid_auto_rows": null,
            "grid_column": null,
            "grid_gap": null,
            "grid_row": null,
            "grid_template_areas": null,
            "grid_template_columns": null,
            "grid_template_rows": null,
            "height": null,
            "justify_content": null,
            "justify_items": null,
            "left": null,
            "margin": null,
            "max_height": null,
            "max_width": null,
            "min_height": null,
            "min_width": null,
            "object_fit": null,
            "object_position": null,
            "order": null,
            "overflow": null,
            "overflow_x": null,
            "overflow_y": null,
            "padding": null,
            "right": null,
            "top": null,
            "visibility": null,
            "width": null
          }
        },
        "c7a6ddcc6d3a423e903da15dbf8faf4e": {
          "model_module": "@jupyter-widgets/controls",
          "model_name": "DescriptionStyleModel",
          "model_module_version": "1.5.0",
          "state": {
            "_model_module": "@jupyter-widgets/controls",
            "_model_module_version": "1.5.0",
            "_model_name": "DescriptionStyleModel",
            "_view_count": null,
            "_view_module": "@jupyter-widgets/base",
            "_view_module_version": "1.2.0",
            "_view_name": "StyleView",
            "description_width": ""
          }
        },
        "bf7ed546e9dd4ec0a65e0f301b0353c0": {
          "model_module": "@jupyter-widgets/base",
          "model_name": "LayoutModel",
          "model_module_version": "1.2.0",
          "state": {
            "_model_module": "@jupyter-widgets/base",
            "_model_module_version": "1.2.0",
            "_model_name": "LayoutModel",
            "_view_count": null,
            "_view_module": "@jupyter-widgets/base",
            "_view_module_version": "1.2.0",
            "_view_name": "LayoutView",
            "align_content": null,
            "align_items": null,
            "align_self": null,
            "border": null,
            "bottom": null,
            "display": null,
            "flex": null,
            "flex_flow": null,
            "grid_area": null,
            "grid_auto_columns": null,
            "grid_auto_flow": null,
            "grid_auto_rows": null,
            "grid_column": null,
            "grid_gap": null,
            "grid_row": null,
            "grid_template_areas": null,
            "grid_template_columns": null,
            "grid_template_rows": null,
            "height": null,
            "justify_content": null,
            "justify_items": null,
            "left": null,
            "margin": null,
            "max_height": null,
            "max_width": null,
            "min_height": null,
            "min_width": null,
            "object_fit": null,
            "object_position": null,
            "order": null,
            "overflow": null,
            "overflow_x": null,
            "overflow_y": null,
            "padding": null,
            "right": null,
            "top": null,
            "visibility": null,
            "width": null
          }
        },
        "27386cb8df5443fc8c4db2d6ceb68ce1": {
          "model_module": "@jupyter-widgets/controls",
          "model_name": "ProgressStyleModel",
          "model_module_version": "1.5.0",
          "state": {
            "_model_module": "@jupyter-widgets/controls",
            "_model_module_version": "1.5.0",
            "_model_name": "ProgressStyleModel",
            "_view_count": null,
            "_view_module": "@jupyter-widgets/base",
            "_view_module_version": "1.2.0",
            "_view_name": "StyleView",
            "bar_color": null,
            "description_width": ""
          }
        },
        "c3fafc678c034d969d7802c54fb59dfc": {
          "model_module": "@jupyter-widgets/base",
          "model_name": "LayoutModel",
          "model_module_version": "1.2.0",
          "state": {
            "_model_module": "@jupyter-widgets/base",
            "_model_module_version": "1.2.0",
            "_model_name": "LayoutModel",
            "_view_count": null,
            "_view_module": "@jupyter-widgets/base",
            "_view_module_version": "1.2.0",
            "_view_name": "LayoutView",
            "align_content": null,
            "align_items": null,
            "align_self": null,
            "border": null,
            "bottom": null,
            "display": null,
            "flex": null,
            "flex_flow": null,
            "grid_area": null,
            "grid_auto_columns": null,
            "grid_auto_flow": null,
            "grid_auto_rows": null,
            "grid_column": null,
            "grid_gap": null,
            "grid_row": null,
            "grid_template_areas": null,
            "grid_template_columns": null,
            "grid_template_rows": null,
            "height": null,
            "justify_content": null,
            "justify_items": null,
            "left": null,
            "margin": null,
            "max_height": null,
            "max_width": null,
            "min_height": null,
            "min_width": null,
            "object_fit": null,
            "object_position": null,
            "order": null,
            "overflow": null,
            "overflow_x": null,
            "overflow_y": null,
            "padding": null,
            "right": null,
            "top": null,
            "visibility": null,
            "width": null
          }
        },
        "7931771cf253498e97bf6a7c82a5707b": {
          "model_module": "@jupyter-widgets/controls",
          "model_name": "DescriptionStyleModel",
          "model_module_version": "1.5.0",
          "state": {
            "_model_module": "@jupyter-widgets/controls",
            "_model_module_version": "1.5.0",
            "_model_name": "DescriptionStyleModel",
            "_view_count": null,
            "_view_module": "@jupyter-widgets/base",
            "_view_module_version": "1.2.0",
            "_view_name": "StyleView",
            "description_width": ""
          }
        }
      }
    }
  },
  "nbformat": 4,
  "nbformat_minor": 0
}