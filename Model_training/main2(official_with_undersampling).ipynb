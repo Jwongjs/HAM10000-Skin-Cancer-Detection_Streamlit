{
  "cells": [
    {
      "cell_type": "markdown",
      "metadata": {
        "id": "__H29OsRwgWS"
      },
      "source": [
        "**Future Note**"
      ]
    },
    {
      "cell_type": "markdown",
      "metadata": {
        "id": "3hZLpzjDwgWT"
      },
      "source": [
        "- Consider using ONNX for optimization when it comes to model inference"
      ]
    },
    {
      "cell_type": "markdown",
      "metadata": {
        "id": "E4Y6-q3hwgWU"
      },
      "source": [
        "## **Medical Computer Vision Model (EfficientNet) Fine Tuning & Training Pipeline**"
      ]
    },
    {
      "cell_type": "markdown",
      "metadata": {
        "id": "WSEanpb5wgWU"
      },
      "source": [
        "EfficientNet, introduced by Google in 2019, is a convolutional neural network architecture and scaling method. It achieves state-of-the-art accuracy while being up to 10 times more efficient in terms of size and speed. The graph below illustrate how EfficientNet outperforms other architectures in terms of accuracy (on ImageNet) and computing resources.\n",
        "\n",
        "![image.png](attachment:image.png)"
      ]
    },
    {
      "cell_type": "markdown",
      "metadata": {
        "id": "SbQnZtPfwgWU"
      },
      "source": [
        "EfficientNet consists of different versions from b0 to b7 which differs based on the number of model parameters. Higher numbers leads to greater accuracy but at the expense of high computational resources and longer training time.\n",
        "\n",
        "Hence, for this study, we will be using PyTorch implementation of EfficentNet, allowing the set up of EfficientNet-B5 architecture with Pre-Trained Weights. This version balances the accuracy and computational resource expense."
      ]
    },
    {
      "cell_type": "markdown",
      "metadata": {
        "id": "jKM2igS_wgWV"
      },
      "source": [
        "- Import necessary libraries"
      ]
    },
    {
      "cell_type": "code",
      "execution_count": null,
      "metadata": {
        "id": "vHoVSjNiwgWV"
      },
      "outputs": [],
      "source": [
        "import os\n",
        "from glob import glob\n",
        "import cv2\n",
        "import time\n",
        "import gc\n",
        "import random\n",
        "from collections import Counter\n",
        "import pandas as pd\n",
        "import numpy as np\n",
        "import matplotlib.pyplot as plt\n",
        "import seaborn as sns\n",
        "from tqdm import tqdm\n",
        "from PIL import Image\n",
        "from google.colab import drive\n",
        "\n",
        "import torch\n",
        "import torch.nn as nn\n",
        "import torch.optim as optim\n",
        "from torch.cuda.amp import autocast, GradScaler\n",
        "from torch.utils.data import Dataset, DataLoader\n",
        "from torch.autograd import Variable\n",
        "import torchvision.models as models\n",
        "import torchvision.transforms as transforms\n",
        "import timm\n",
        "\n",
        "# sklearn libraries\n",
        "from sklearn.metrics import confusion_matrix, classification_report\n",
        "from sklearn.model_selection import train_test_split"
      ]
    },
    {
      "cell_type": "markdown",
      "source": [
        "**Mount Google Drive (Allow Content Access)**"
      ],
      "metadata": {
        "id": "bai42-pAH1_G"
      }
    },
    {
      "cell_type": "code",
      "source": [
        "drive.mount('/content/drive') #Mount content in my google drive"
      ],
      "metadata": {
        "colab": {
          "base_uri": "https://localhost:8080/"
        },
        "id": "_LfV92pVH9gA",
        "outputId": "2f02af53-f8af-4bca-c855-88bf6877f264"
      },
      "execution_count": null,
      "outputs": [
        {
          "output_type": "stream",
          "name": "stdout",
          "text": [
            "Drive already mounted at /content/drive; to attempt to forcibly remount, call drive.mount(\"/content/drive\", force_remount=True).\n"
          ]
        }
      ]
    },
    {
      "cell_type": "markdown",
      "metadata": {
        "id": "MTGYINUewgWV"
      },
      "source": [
        "**Configurable parameters**"
      ]
    },
    {
      "cell_type": "code",
      "execution_count": null,
      "metadata": {
        "id": "653zaFbFwgWV"
      },
      "outputs": [],
      "source": [
        "#Data Directory\n",
        "DATA_DIR = '/content/drive/MyDrive/ImageProcessing&CV_Assignment'\n",
        "\n",
        "#Data Loaders\n",
        "MIXED_PRECISION = True  # Use mixed precision training\n",
        "BATCH_SIZE = 128 # Using A100 GPU (Google Colab)\n",
        "PIN_MEMORY = True\n",
        "NUM_WORKERS = 8  #Adjust based on CPU cores\n",
        "\n",
        "#Model Training\n",
        "LEARNING_RATE = 0.004 #Following rule of thumb: linear scaling rule (if batch size doubled, learning rate is also doubled)\n",
        "TRAIN_SPLIT = 0.8"
      ]
    },
    {
      "cell_type": "markdown",
      "metadata": {
        "id": "dmBu_y_zwgWW"
      },
      "source": [
        "**Device Configuration**"
      ]
    },
    {
      "cell_type": "code",
      "execution_count": null,
      "metadata": {
        "id": "AEj2UyycwgWW",
        "outputId": "87d76d5e-d306-45dc-ccf8-1891e2e98951",
        "colab": {
          "base_uri": "https://localhost:8080/"
        }
      },
      "outputs": [
        {
          "output_type": "stream",
          "name": "stdout",
          "text": [
            "Sat Apr 26 14:07:20 2025       \n",
            "+-----------------------------------------------------------------------------------------+\n",
            "| NVIDIA-SMI 550.54.15              Driver Version: 550.54.15      CUDA Version: 12.4     |\n",
            "|-----------------------------------------+------------------------+----------------------+\n",
            "| GPU  Name                 Persistence-M | Bus-Id          Disp.A | Volatile Uncorr. ECC |\n",
            "| Fan  Temp   Perf          Pwr:Usage/Cap |           Memory-Usage | GPU-Util  Compute M. |\n",
            "|                                         |                        |               MIG M. |\n",
            "|=========================================+========================+======================|\n",
            "|   0  NVIDIA A100-SXM4-40GB          Off |   00000000:00:04.0 Off |                    0 |\n",
            "| N/A   35C    P0             55W /  400W |    6411MiB /  40960MiB |      0%      Default |\n",
            "|                                         |                        |             Disabled |\n",
            "+-----------------------------------------+------------------------+----------------------+\n",
            "                                                                                         \n",
            "+-----------------------------------------------------------------------------------------+\n",
            "| Processes:                                                                              |\n",
            "|  GPU   GI   CI        PID   Type   Process name                              GPU Memory |\n",
            "|        ID   ID                                                               Usage      |\n",
            "|=========================================================================================|\n",
            "+-----------------------------------------------------------------------------------------+\n"
          ]
        }
      ],
      "source": [
        "!nvidia-smi"
      ]
    },
    {
      "cell_type": "code",
      "execution_count": null,
      "metadata": {
        "id": "2Xe_HDWYwgWW",
        "outputId": "58765adc-dba3-40c3-9d44-ea88da33b9bd",
        "colab": {
          "base_uri": "https://localhost:8080/"
        }
      },
      "outputs": [
        {
          "output_type": "stream",
          "name": "stdout",
          "text": [
            "2.6.0+cu124\n",
            "1\n",
            "NVIDIA A100-SXM4-40GB\n",
            "using device: cuda\n"
          ]
        }
      ],
      "source": [
        "device = torch.device(\"cuda\" if torch.cuda.is_available() else \"cpu\")\n",
        "print(torch.__version__)  # Check PyTorch version\n",
        "print(torch.cuda.device_count())  # Should return 1 (or more)\n",
        "print(torch.cuda.get_device_name(0))  # Should show gpu name\n",
        "print(f\"using device: {device}\")"
      ]
    },
    {
      "cell_type": "markdown",
      "metadata": {
        "id": "u4gPkP9WwgWX"
      },
      "source": [
        "**1) Load and Explore Dataset**"
      ]
    },
    {
      "cell_type": "markdown",
      "metadata": {
        "id": "MzmCrQwGwgWX"
      },
      "source": [
        "**Data Exploration and Visualization**"
      ]
    },
    {
      "cell_type": "markdown",
      "metadata": {
        "id": "Yp0Y_yy4wgWX"
      },
      "source": [
        "- Import dataset"
      ]
    },
    {
      "cell_type": "code",
      "execution_count": null,
      "metadata": {
        "id": "V2TZ8GzkwgWX",
        "colab": {
          "base_uri": "https://localhost:8080/"
        },
        "outputId": "3de38d24-4fce-469a-dda5-09d59152f315"
      },
      "outputs": [
        {
          "output_type": "stream",
          "name": "stdout",
          "text": [
            "     lesion_id      image_id   dx dx_type   age   sex localization\n",
            "0  HAM_0000118  ISIC_0027419  bkl   histo  80.0  male        scalp\n",
            "1  HAM_0000118  ISIC_0025030  bkl   histo  80.0  male        scalp\n",
            "2  HAM_0002730  ISIC_0026769  bkl   histo  80.0  male        scalp\n",
            "3  HAM_0002730  ISIC_0025661  bkl   histo  80.0  male        scalp\n",
            "4  HAM_0001466  ISIC_0031633  bkl   histo  75.0  male          ear\n"
          ]
        }
      ],
      "source": [
        "#Load custom dataste with standard transformsd\n",
        "skin_df = pd.read_csv(DATA_DIR+'/HAM10000_metadata.csv')\n",
        "\n",
        "print(skin_df.head())"
      ]
    },
    {
      "cell_type": "markdown",
      "metadata": {
        "id": "iVNa7raXwgWX"
      },
      "source": [
        "- Dataset Info"
      ]
    },
    {
      "cell_type": "code",
      "execution_count": null,
      "metadata": {
        "id": "h0DbxEjvwgWX",
        "colab": {
          "base_uri": "https://localhost:8080/"
        },
        "outputId": "649bd031-e73e-428b-8082-bec7f1bbf7b2"
      },
      "outputs": [
        {
          "output_type": "stream",
          "name": "stdout",
          "text": [
            "<class 'pandas.core.frame.DataFrame'>\n",
            "RangeIndex: 10015 entries, 0 to 10014\n",
            "Data columns (total 7 columns):\n",
            " #   Column        Non-Null Count  Dtype  \n",
            "---  ------        --------------  -----  \n",
            " 0   lesion_id     10015 non-null  object \n",
            " 1   image_id      10015 non-null  object \n",
            " 2   dx            10015 non-null  object \n",
            " 3   dx_type       10015 non-null  object \n",
            " 4   age           9958 non-null   float64\n",
            " 5   sex           10015 non-null  object \n",
            " 6   localization  10015 non-null  object \n",
            "dtypes: float64(1), object(6)\n",
            "memory usage: 547.8+ KB\n",
            "None\n"
          ]
        }
      ],
      "source": [
        "print(skin_df.info())"
      ]
    },
    {
      "cell_type": "markdown",
      "metadata": {
        "id": "LeyqdvrjwgWX"
      },
      "source": [
        "- Dataset row length"
      ]
    },
    {
      "cell_type": "code",
      "execution_count": null,
      "metadata": {
        "id": "aB1HytuAwgWY",
        "colab": {
          "base_uri": "https://localhost:8080/"
        },
        "outputId": "20fef0d1-65b7-4820-c89e-ea4bb0cea4ce"
      },
      "outputs": [
        {
          "output_type": "stream",
          "name": "stdout",
          "text": [
            "Dataset size: 10015 images\n"
          ]
        }
      ],
      "source": [
        "print(f\"Dataset size: {len(skin_df)} images\")"
      ]
    },
    {
      "cell_type": "markdown",
      "metadata": {
        "id": "BGTg0d3GwgWY"
      },
      "source": [
        "- Class Distribution"
      ]
    },
    {
      "cell_type": "code",
      "execution_count": null,
      "metadata": {
        "id": "tm6CVoMcwgWY",
        "colab": {
          "base_uri": "https://localhost:8080/",
          "height": 564
        },
        "outputId": "33c5b28e-f3e6-49e3-8d74-9efea4439205"
      },
      "outputs": [
        {
          "output_type": "display_data",
          "data": {
            "text/plain": [
              "<Figure size 1200x600 with 1 Axes>"
            ],
            "image/png": "[encoded data removed]"
          },
          "metadata": {}
        }
      ],
      "source": [
        "# Display class distribution with a bar chart\n",
        "class_counts = skin_df['dx'].value_counts().sort_index()\n",
        "plt.figure(figsize=(12, 6))\n",
        "bars = plt.bar(class_counts.index, class_counts.values)\n",
        "plt.title(\"Class Distribution in HAM10000 Dataset\")\n",
        "plt.xlabel(\"Class\")\n",
        "plt.ylabel(\"Count\")\n",
        "\n",
        "# Add count labels on top of each bar\n",
        "for bar in bars:\n",
        "    height = bar.get_height()\n",
        "    plt.text(bar.get_x() + bar.get_width()/2., height + 5,\n",
        "             f'{height} ({height/len(skin_df)*100:.1f}%)',\n",
        "             ha='center', va='bottom', rotation=0)\n",
        "\n",
        "plt.show()"
      ]
    },
    {
      "cell_type": "markdown",
      "metadata": {
        "id": "OFMDFTx9wgWY"
      },
      "source": [
        "The class distribution in a dataset like HAM10000 generally reflects the real-world prevalence of these conditions. Melanocytic nevi (moles) are typically much more common than some of the malignant or rarer lesion types (for example, melanoma or basal cell carcinoma). This imbalance is a known characteristic of many skin lesion datasets and is why later techniques like weighted sampling are used during training."
      ]
    },
    {
      "cell_type": "markdown",
      "source": [
        "- Lesion Image Patient Demographic"
      ],
      "metadata": {
        "id": "G5cNHeO1Z_5u"
      }
    },
    {
      "cell_type": "code",
      "source": [
        "# Lesion location distribution\n",
        "location_counts = skin_df['localization'].value_counts()\n",
        "plt.figure(figsize=(12, 6))\n",
        "plt.bar(location_counts.index, location_counts.values)\n",
        "plt.title('Lesion Location Distribution')\n",
        "plt.xlabel('Location')\n",
        "plt.ylabel('Count')\n",
        "plt.xticks(rotation=45, ha='right')  # Rotate x-axis labels for better readability\n",
        "plt.show()\n",
        "\n",
        "# Correlation with diagnosis (example using a cross-tabulation)\n",
        "location_diagnosis_crosstab = pd.crosstab(skin_df['localization'], skin_df['dx'])\n",
        "print(location_diagnosis_crosstab)"
      ],
      "metadata": {
        "colab": {
          "base_uri": "https://localhost:8080/",
          "height": 934
        },
        "id": "XKirAeLQaDHj",
        "outputId": "edfb3836-ea0b-44ac-d151-394b08d391a8"
      },
      "execution_count": null,
      "outputs": [
        {
          "output_type": "display_data",
          "data": {
            "text/plain": [
              "<Figure size 1200x600 with 1 Axes>"
            ],
            "image/png": "[encoded data removed]"
          },
          "metadata": {}
        },
        {
          "output_type": "stream",
          "name": "stdout",
          "text": [
            "dx               akiec  bcc  bkl  df  mel    nv  vasc\n",
            "localization                                         \n",
            "abdomen              5   18   42   4   66   860    27\n",
            "acral                0    0    0   0    0     7     0\n",
            "back                29  186  202   2  324  1427    22\n",
            "chest               12   47   74   0   68   200     6\n",
            "ear                  3    0    6   0   17    30     0\n",
            "face               113  101  319   0  104   100     8\n",
            "foot                 0    4    1   2   28   284     0\n",
            "genital              0    0    2   1    0    45     0\n",
            "hand                13    2   14   0    1    55     5\n",
            "lower extremity     65   58  174  82  192  1479    27\n",
            "neck                10   14   31   0   29    81     3\n",
            "scalp               14   19   34   0   14    45     2\n",
            "trunk                1   11   73   0   47  1241    31\n",
            "unknown              0    5   23   0   10   196     0\n",
            "upper extremity     62   49  104  24  213   655    11\n"
          ]
        }
      ]
    },
    {
      "cell_type": "markdown",
      "source": [
        "- Age and Gender"
      ],
      "metadata": {
        "id": "MNKnorflaFGM"
      }
    },
    {
      "cell_type": "code",
      "source": [
        "# Age distribution\n",
        "plt.figure(figsize=(8, 6))\n",
        "plt.hist(skin_df['age'], bins=20)\n",
        "plt.title('Age Distribution')\n",
        "plt.xlabel('Age')\n",
        "plt.ylabel('Frequency')\n",
        "plt.show()\n",
        "\n",
        "# Gender distribution\n",
        "gender_counts = skin_df['sex'].value_counts()\n",
        "plt.figure(figsize=(6, 4))\n",
        "plt.bar(gender_counts.index, gender_counts.values)\n",
        "plt.title('Gender Distribution')\n",
        "plt.xlabel('Gender')\n",
        "plt.ylabel('Count')\n",
        "plt.show()\n",
        "\n",
        "# Diagnosis by age/gender (example using groupby and aggregation)\n",
        "diagnosis_by_age_gender = skin_df.groupby(['sex', 'dx'])['age'].mean()\n",
        "print(diagnosis_by_age_gender)"
      ],
      "metadata": {
        "colab": {
          "base_uri": "https://localhost:8080/",
          "height": 1000
        },
        "id": "_Yul93NyaHDh",
        "outputId": "6692610d-da8c-400c-c125-1da2109a64b2"
      },
      "execution_count": null,
      "outputs": [
        {
          "output_type": "display_data",
          "data": {
            "text/plain": [
              "<Figure size 800x600 with 1 Axes>"
            ],
            "image/png": "[encoded data removed]"
          },
          "metadata": {}
        },
        {
          "output_type": "display_data",
          "data": {
            "text/plain": [
              "<Figure size 600x400 with 1 Axes>"
            ],
            "image/png": "[encoded data removed]"
          },
          "metadata": {}
        },
        {
          "output_type": "stream",
          "name": "stdout",
          "text": [
            "sex      dx   \n",
            "female   akiec    66.698113\n",
            "         bcc      65.228426\n",
            "         bkl      62.494600\n",
            "         df       49.326923\n",
            "         mel      56.391509\n",
            "         nv       44.104547\n",
            "         vasc     49.589041\n",
            "male     akiec    66.447964\n",
            "         bcc      67.823344\n",
            "         bkl      65.607029\n",
            "         df       56.111111\n",
            "         mel      63.326055\n",
            "         nv       48.748903\n",
            "         vasc     53.260870\n",
            "unknown  bkl            NaN\n",
            "         nv       37.500000\n",
            "Name: age, dtype: float64\n"
          ]
        }
      ]
    },
    {
      "cell_type": "markdown",
      "metadata": {
        "id": "IZey8J_LwgWY"
      },
      "source": [
        "**Data Pre-processing**"
      ]
    },
    {
      "cell_type": "markdown",
      "metadata": {
        "id": "pQdKIkbWwgWY"
      },
      "source": [
        "- Insert 3 columns for further assistance of Image and dataset loading"
      ]
    },
    {
      "cell_type": "code",
      "execution_count": null,
      "metadata": {
        "id": "xuftehqewgWY"
      },
      "outputs": [],
      "source": [
        "image_paths = glob(os.path.join(DATA_DIR, '*', '*.jpg')) # Get all image paths in the dataset directory\n",
        "imageid_path_dict = {os.path.splitext(os.path.basename(x))[0]: x for x in image_paths} # Create a dictionary mapping image IDs to their paths (image_paths from cell 6)\n",
        "lesion_type_dict = {\n",
        "    'nv': 'Melanocytic nevi',\n",
        "    'mel': 'Melanoma',\n",
        "    'bkl': 'Benign keratosis-like lesions ',\n",
        "    'bcc': 'Basal cell carcinoma',\n",
        "    'akiec': 'Actinic keratoses',\n",
        "    'vasc': 'Vascular lesions',\n",
        "    'df': 'Dermatofibroma'\n",
        "}"
      ]
    },
    {
      "cell_type": "markdown",
      "metadata": {
        "id": "7Sk5oO17wgWY"
      },
      "source": [
        "i) Column 1, '**path**': Path of the image matching with the image ID within CSV"
      ]
    },
    {
      "cell_type": "code",
      "execution_count": null,
      "metadata": {
        "id": "ZkDBNCvAwgWZ"
      },
      "outputs": [],
      "source": [
        "skin_df['path'] = skin_df['image_id'].map(imageid_path_dict.get)"
      ]
    },
    {
      "cell_type": "markdown",
      "metadata": {
        "id": "Xh1eCJA-wgWZ"
      },
      "source": [
        "ii) Column 2, '**cell_type**': Full name of '**dx**' label in CSV for clarification"
      ]
    },
    {
      "cell_type": "code",
      "execution_count": null,
      "metadata": {
        "id": "Akx-NeLBwgWZ"
      },
      "outputs": [],
      "source": [
        "skin_df['cell_type'] = skin_df['dx'].map(lesion_type_dict.get)"
      ]
    },
    {
      "cell_type": "markdown",
      "metadata": {
        "id": "y8KYSuixwgWZ"
      },
      "source": [
        "iii) Column 3, 'cell_type_idx': Corresponding index of cell type which will be used as the y category of image"
      ]
    },
    {
      "cell_type": "code",
      "execution_count": null,
      "metadata": {
        "id": "G4XMtLLzwgWZ"
      },
      "outputs": [],
      "source": [
        "skin_df['cell_type_idx'] = pd.Categorical(skin_df['cell_type']).codes"
      ]
    },
    {
      "cell_type": "code",
      "execution_count": null,
      "metadata": {
        "id": "UhtUn-FTwgWZ",
        "colab": {
          "base_uri": "https://localhost:8080/",
          "height": 293
        },
        "outputId": "38c6d942-2169-4bd8-f8da-0775aaa2ebc4"
      },
      "outputs": [
        {
          "output_type": "execute_result",
          "data": {
            "text/plain": [
              "     lesion_id      image_id   dx dx_type   age   sex localization  \\\n",
              "0  HAM_0000118  ISIC_0027419  bkl   histo  80.0  male        scalp   \n",
              "1  HAM_0000118  ISIC_0025030  bkl   histo  80.0  male        scalp   \n",
              "2  HAM_0002730  ISIC_0026769  bkl   histo  80.0  male        scalp   \n",
              "3  HAM_0002730  ISIC_0025661  bkl   histo  80.0  male        scalp   \n",
              "4  HAM_0001466  ISIC_0031633  bkl   histo  75.0  male          ear   \n",
              "\n",
              "                                                path  \\\n",
              "0  /content/drive/MyDrive/ImageProcessing&CV_Assi...   \n",
              "1  /content/drive/MyDrive/ImageProcessing&CV_Assi...   \n",
              "2  /content/drive/MyDrive/ImageProcessing&CV_Assi...   \n",
              "3  /content/drive/MyDrive/ImageProcessing&CV_Assi...   \n",
              "4  /content/drive/MyDrive/ImageProcessing&CV_Assi...   \n",
              "\n",
              "                        cell_type  cell_type_idx  \n",
              "0  Benign keratosis-like lesions               2  \n",
              "1  Benign keratosis-like lesions               2  \n",
              "2  Benign keratosis-like lesions               2  \n",
              "3  Benign keratosis-like lesions               2  \n",
              "4  Benign keratosis-like lesions               2  "
            ],
            "text/html": [
              "\n",
              "  <div id=\"df-0e2451a9-1917-4282-8907-3443d236fcc4\" class=\"colab-df-container\">\n",
              "    <div>\n",
              "<style scoped>\n",
              "    .dataframe tbody tr th:only-of-type {\n",
              "        vertical-align: middle;\n",
              "    }\n",
              "\n",
              "    .dataframe tbody tr th {\n",
              "        vertical-align: top;\n",
              "    }\n",
              "\n",
              "    .dataframe thead th {\n",
              "        text-align: right;\n",
              "    }\n",
              "</style>\n",
              "<table border=\"1\" class=\"dataframe\">\n",
              "  <thead>\n",
              "    <tr style=\"text-align: right;\">\n",
              "      <th></th>\n",
              "      <th>lesion_id</th>\n",
              "      <th>image_id</th>\n",
              "      <th>dx</th>\n",
              "      <th>dx_type</th>\n",
              "      <th>age</th>\n",
              "      <th>sex</th>\n",
              "      <th>localization</th>\n",
              "      <th>path</th>\n",
              "      <th>cell_type</th>\n",
              "      <th>cell_type_idx</th>\n",
              "    </tr>\n",
              "  </thead>\n",
              "  <tbody>\n",
              "    <tr>\n",
              "      <th>0</th>\n",
              "      <td>HAM_0000118</td>\n",
              "      <td>ISIC_0027419</td>\n",
              "      <td>bkl</td>\n",
              "      <td>histo</td>\n",
              "      <td>80.0</td>\n",
              "      <td>male</td>\n",
              "      <td>scalp</td>\n",
              "      <td>/content/drive/MyDrive/ImageProcessing&amp;CV_Assi...</td>\n",
              "      <td>Benign keratosis-like lesions</td>\n",
              "      <td>2</td>\n",
              "    </tr>\n",
              "    <tr>\n",
              "      <th>1</th>\n",
              "      <td>HAM_0000118</td>\n",
              "      <td>ISIC_0025030</td>\n",
              "      <td>bkl</td>\n",
              "      <td>histo</td>\n",
              "      <td>80.0</td>\n",
              "      <td>male</td>\n",
              "      <td>scalp</td>\n",
              "      <td>/content/drive/MyDrive/ImageProcessing&amp;CV_Assi...</td>\n",
              "      <td>Benign keratosis-like lesions</td>\n",
              "      <td>2</td>\n",
              "    </tr>\n",
              "    <tr>\n",
              "      <th>2</th>\n",
              "      <td>HAM_0002730</td>\n",
              "      <td>ISIC_0026769</td>\n",
              "      <td>bkl</td>\n",
              "      <td>histo</td>\n",
              "      <td>80.0</td>\n",
              "      <td>male</td>\n",
              "      <td>scalp</td>\n",
              "      <td>/content/drive/MyDrive/ImageProcessing&amp;CV_Assi...</td>\n",
              "      <td>Benign keratosis-like lesions</td>\n",
              "      <td>2</td>\n",
              "    </tr>\n",
              "    <tr>\n",
              "      <th>3</th>\n",
              "      <td>HAM_0002730</td>\n",
              "      <td>ISIC_0025661</td>\n",
              "      <td>bkl</td>\n",
              "      <td>histo</td>\n",
              "      <td>80.0</td>\n",
              "      <td>male</td>\n",
              "      <td>scalp</td>\n",
              "      <td>/content/drive/MyDrive/ImageProcessing&amp;CV_Assi...</td>\n",
              "      <td>Benign keratosis-like lesions</td>\n",
              "      <td>2</td>\n",
              "    </tr>\n",
              "    <tr>\n",
              "      <th>4</th>\n",
              "      <td>HAM_0001466</td>\n",
              "      <td>ISIC_0031633</td>\n",
              "      <td>bkl</td>\n",
              "      <td>histo</td>\n",
              "      <td>75.0</td>\n",
              "      <td>male</td>\n",
              "      <td>ear</td>\n",
              "      <td>/content/drive/MyDrive/ImageProcessing&amp;CV_Assi...</td>\n",
              "      <td>Benign keratosis-like lesions</td>\n",
              "      <td>2</td>\n",
              "    </tr>\n",
              "  </tbody>\n",
              "</table>\n",
              "</div>\n",
              "    <div class=\"colab-df-buttons\">\n",
              "\n",
              "  <div class=\"colab-df-container\">\n",
              "    <button class=\"colab-df-convert\" onclick=\"convertToInteractive('df-0e2451a9-1917-4282-8907-3443d236fcc4')\"\n",
              "            title=\"Convert this dataframe to an interactive table.\"\n",
              "            style=\"display:none;\">\n",
              "\n",
              "  <svg xmlns=\"http://www.w3.org/2000/svg\" height=\"24px\" viewBox=\"0 -960 960 960\">\n",
              "    <path d=\"M120-120v-720h720v720H120Zm60-500h600v-160H180v160Zm220 220h160v-160H400v160Zm0 220h160v-160H400v160ZM180-400h160v-160H180v160Zm440 0h160v-160H620v160ZM180-180h160v-160H180v160Zm440 0h160v-160H620v160Z\"/>\n",
              "  </svg>\n",
              "    </button>\n",
              "\n",
              "  <style>\n",
              "    .colab-df-container {\n",
              "      display:flex;\n",
              "      gap: 12px;\n",
              "    }\n",
              "\n",
              "    .colab-df-convert {\n",
              "      background-color: #E8F0FE;\n",
              "      border: none;\n",
              "      border-radius: 50%;\n",
              "      cursor: pointer;\n",
              "      display: none;\n",
              "      fill: #1967D2;\n",
              "      height: 32px;\n",
              "      padding: 0 0 0 0;\n",
              "      width: 32px;\n",
              "    }\n",
              "\n",
              "    .colab-df-convert:hover {\n",
              "      background-color: #E2EBFA;\n",
              "      box-shadow: 0px 1px 2px rgba(60, 64, 67, 0.3), 0px 1px 3px 1px rgba(60, 64, 67, 0.15);\n",
              "      fill: #174EA6;\n",
              "    }\n",
              "\n",
              "    .colab-df-buttons div {\n",
              "      margin-bottom: 4px;\n",
              "    }\n",
              "\n",
              "    [theme=dark] .colab-df-convert {\n",
              "      background-color: #3B4455;\n",
              "      fill: #D2E3FC;\n",
              "    }\n",
              "\n",
              "    [theme=dark] .colab-df-convert:hover {\n",
              "      background-color: #434B5C;\n",
              "      box-shadow: 0px 1px 3px 1px rgba(0, 0, 0, 0.15);\n",
              "      filter: drop-shadow(0px 1px 2px rgba(0, 0, 0, 0.3));\n",
              "      fill: #FFFFFF;\n",
              "    }\n",
              "  </style>\n",
              "\n",
              "    <script>\n",
              "      const buttonEl =\n",
              "        document.querySelector('#df-0e2451a9-1917-4282-8907-3443d236fcc4 button.colab-df-convert');\n",
              "      buttonEl.style.display =\n",
              "        google.colab.kernel.accessAllowed ? 'block' : 'none';\n",
              "\n",
              "      async function convertToInteractive(key) {\n",
              "        const element = document.querySelector('#df-0e2451a9-1917-4282-8907-3443d236fcc4');\n",
              "        const dataTable =\n",
              "          await google.colab.kernel.invokeFunction('convertToInteractive',\n",
              "                                                    [key], {});\n",
              "        if (!dataTable) return;\n",
              "\n",
              "        const docLinkHtml = 'Like what you see? Visit the ' +\n",
              "          '<a target=\"_blank\" href=https://colab.research.google.com/notebooks/data_table.ipynb>data table notebook</a>'\n",
              "          + ' to learn more about interactive tables.';\n",
              "        element.innerHTML = '';\n",
              "        dataTable['output_type'] = 'display_data';\n",
              "        await google.colab.output.renderOutput(dataTable, element);\n",
              "        const docLink = document.createElement('div');\n",
              "        docLink.innerHTML = docLinkHtml;\n",
              "        element.appendChild(docLink);\n",
              "      }\n",
              "    </script>\n",
              "  </div>\n",
              "\n",
              "\n",
              "    <div id=\"df-1f1c7ed5-66e7-4587-a82d-138e3ca72192\">\n",
              "      <button class=\"colab-df-quickchart\" onclick=\"quickchart('df-1f1c7ed5-66e7-4587-a82d-138e3ca72192')\"\n",
              "                title=\"Suggest charts\"\n",
              "                style=\"display:none;\">\n",
              "\n",
              "<svg xmlns=\"http://www.w3.org/2000/svg\" height=\"24px\"viewBox=\"0 0 24 24\"\n",
              "     width=\"24px\">\n",
              "    <g>\n",
              "        <path d=\"M19 3H5c-1.1 0-2 .9-2 2v14c0 1.1.9 2 2 2h14c1.1 0 2-.9 2-2V5c0-1.1-.9-2-2-2zM9 17H7v-7h2v7zm4 0h-2V7h2v10zm4 0h-2v-4h2v4z\"/>\n",
              "    </g>\n",
              "</svg>\n",
              "      </button>\n",
              "\n",
              "<style>\n",
              "  .colab-df-quickchart {\n",
              "      --bg-color: #E8F0FE;\n",
              "      --fill-color: #1967D2;\n",
              "      --hover-bg-color: #E2EBFA;\n",
              "      --hover-fill-color: #174EA6;\n",
              "      --disabled-fill-color: #AAA;\n",
              "      --disabled-bg-color: #DDD;\n",
              "  }\n",
              "\n",
              "  [theme=dark] .colab-df-quickchart {\n",
              "      --bg-color: #3B4455;\n",
              "      --fill-color: #D2E3FC;\n",
              "      --hover-bg-color: #434B5C;\n",
              "      --hover-fill-color: #FFFFFF;\n",
              "      --disabled-bg-color: #3B4455;\n",
              "      --disabled-fill-color: #666;\n",
              "  }\n",
              "\n",
              "  .colab-df-quickchart {\n",
              "    background-color: var(--bg-color);\n",
              "    border: none;\n",
              "    border-radius: 50%;\n",
              "    cursor: pointer;\n",
              "    display: none;\n",
              "    fill: var(--fill-color);\n",
              "    height: 32px;\n",
              "    padding: 0;\n",
              "    width: 32px;\n",
              "  }\n",
              "\n",
              "  .colab-df-quickchart:hover {\n",
              "    background-color: var(--hover-bg-color);\n",
              "    box-shadow: 0 1px 2px rgba(60, 64, 67, 0.3), 0 1px 3px 1px rgba(60, 64, 67, 0.15);\n",
              "    fill: var(--button-hover-fill-color);\n",
              "  }\n",
              "\n",
              "  .colab-df-quickchart-complete:disabled,\n",
              "  .colab-df-quickchart-complete:disabled:hover {\n",
              "    background-color: var(--disabled-bg-color);\n",
              "    fill: var(--disabled-fill-color);\n",
              "    box-shadow: none;\n",
              "  }\n",
              "\n",
              "  .colab-df-spinner {\n",
              "    border: 2px solid var(--fill-color);\n",
              "    border-color: transparent;\n",
              "    border-bottom-color: var(--fill-color);\n",
              "    animation:\n",
              "      spin 1s steps(1) infinite;\n",
              "  }\n",
              "\n",
              "  @keyframes spin {\n",
              "    0% {\n",
              "      border-color: transparent;\n",
              "      border-bottom-color: var(--fill-color);\n",
              "      border-left-color: var(--fill-color);\n",
              "    }\n",
              "    20% {\n",
              "      border-color: transparent;\n",
              "      border-left-color: var(--fill-color);\n",
              "      border-top-color: var(--fill-color);\n",
              "    }\n",
              "    30% {\n",
              "      border-color: transparent;\n",
              "      border-left-color: var(--fill-color);\n",
              "      border-top-color: var(--fill-color);\n",
              "      border-right-color: var(--fill-color);\n",
              "    }\n",
              "    40% {\n",
              "      border-color: transparent;\n",
              "      border-right-color: var(--fill-color);\n",
              "      border-top-color: var(--fill-color);\n",
              "    }\n",
              "    60% {\n",
              "      border-color: transparent;\n",
              "      border-right-color: var(--fill-color);\n",
              "    }\n",
              "    80% {\n",
              "      border-color: transparent;\n",
              "      border-right-color: var(--fill-color);\n",
              "      border-bottom-color: var(--fill-color);\n",
              "    }\n",
              "    90% {\n",
              "      border-color: transparent;\n",
              "      border-bottom-color: var(--fill-color);\n",
              "    }\n",
              "  }\n",
              "</style>\n",
              "\n",
              "      <script>\n",
              "        async function quickchart(key) {\n",
              "          const quickchartButtonEl =\n",
              "            document.querySelector('#' + key + ' button');\n",
              "          quickchartButtonEl.disabled = true;  // To prevent multiple clicks.\n",
              "          quickchartButtonEl.classList.add('colab-df-spinner');\n",
              "          try {\n",
              "            const charts = await google.colab.kernel.invokeFunction(\n",
              "                'suggestCharts', [key], {});\n",
              "          } catch (error) {\n",
              "            console.error('Error during call to suggestCharts:', error);\n",
              "          }\n",
              "          quickchartButtonEl.classList.remove('colab-df-spinner');\n",
              "          quickchartButtonEl.classList.add('colab-df-quickchart-complete');\n",
              "        }\n",
              "        (() => {\n",
              "          let quickchartButtonEl =\n",
              "            document.querySelector('#df-1f1c7ed5-66e7-4587-a82d-138e3ca72192 button');\n",
              "          quickchartButtonEl.style.display =\n",
              "            google.colab.kernel.accessAllowed ? 'block' : 'none';\n",
              "        })();\n",
              "      </script>\n",
              "    </div>\n",
              "\n",
              "    </div>\n",
              "  </div>\n"
            ],
            "application/vnd.google.colaboratory.intrinsic+json": {
              "type": "dataframe",
              "variable_name": "skin_df",
              "summary": "{\n  \"name\": \"skin_df\",\n  \"rows\": 10015,\n  \"fields\": [\n    {\n      \"column\": \"lesion_id\",\n      \"properties\": {\n        \"dtype\": \"string\",\n        \"num_unique_values\": 7470,\n        \"samples\": [\n          \"HAM_0002743\",\n          \"HAM_0004142\",\n          \"HAM_0003658\"\n        ],\n        \"semantic_type\": \"\",\n        \"description\": \"\"\n      }\n    },\n    {\n      \"column\": \"image_id\",\n      \"properties\": {\n        \"dtype\": \"string\",\n        \"num_unique_values\": 10015,\n        \"samples\": [\n          \"ISIC_0033272\",\n          \"ISIC_0031923\",\n          \"ISIC_0026652\"\n        ],\n        \"semantic_type\": \"\",\n        \"description\": \"\"\n      }\n    },\n    {\n      \"column\": \"dx\",\n      \"properties\": {\n        \"dtype\": \"category\",\n        \"num_unique_values\": 7,\n        \"samples\": [\n          \"bkl\",\n          \"nv\",\n          \"bcc\"\n        ],\n        \"semantic_type\": \"\",\n        \"description\": \"\"\n      }\n    },\n    {\n      \"column\": \"dx_type\",\n      \"properties\": {\n        \"dtype\": \"category\",\n        \"num_unique_values\": 4,\n        \"samples\": [\n          \"consensus\",\n          \"follow_up\",\n          \"histo\"\n        ],\n        \"semantic_type\": \"\",\n        \"description\": \"\"\n      }\n    },\n    {\n      \"column\": \"age\",\n      \"properties\": {\n        \"dtype\": \"number\",\n        \"std\": 16.96861369249538,\n        \"min\": 0.0,\n        \"max\": 85.0,\n        \"num_unique_values\": 18,\n        \"samples\": [\n          80.0,\n          75.0,\n          50.0\n        ],\n        \"semantic_type\": \"\",\n        \"description\": \"\"\n      }\n    },\n    {\n      \"column\": \"sex\",\n      \"properties\": {\n        \"dtype\": \"category\",\n        \"num_unique_values\": 3,\n        \"samples\": [\n          \"male\",\n          \"female\",\n          \"unknown\"\n        ],\n        \"semantic_type\": \"\",\n        \"description\": \"\"\n      }\n    },\n    {\n      \"column\": \"localization\",\n      \"properties\": {\n        \"dtype\": \"category\",\n        \"num_unique_values\": 15,\n        \"samples\": [\n          \"lower extremity\",\n          \"neck\",\n          \"scalp\"\n        ],\n        \"semantic_type\": \"\",\n        \"description\": \"\"\n      }\n    },\n    {\n      \"column\": \"path\",\n      \"properties\": {\n        \"dtype\": \"string\",\n        \"num_unique_values\": 10015,\n        \"samples\": [\n          \"/content/drive/MyDrive/ImageProcessing&CV_Assignment/HAM10000_images/ISIC_0033272.jpg\",\n          \"/content/drive/MyDrive/ImageProcessing&CV_Assignment/HAM10000_images/ISIC_0031923.jpg\",\n          \"/content/drive/MyDrive/ImageProcessing&CV_Assignment/HAM10000_images/ISIC_0026652.jpg\"\n        ],\n        \"semantic_type\": \"\",\n        \"description\": \"\"\n      }\n    },\n    {\n      \"column\": \"cell_type\",\n      \"properties\": {\n        \"dtype\": \"category\",\n        \"num_unique_values\": 7,\n        \"samples\": [\n          \"Benign keratosis-like lesions \",\n          \"Melanocytic nevi\",\n          \"Basal cell carcinoma\"\n        ],\n        \"semantic_type\": \"\",\n        \"description\": \"\"\n      }\n    },\n    {\n      \"column\": \"cell_type_idx\",\n      \"properties\": {\n        \"dtype\": \"int8\",\n        \"num_unique_values\": 7,\n        \"samples\": [\n          2,\n          4,\n          1\n        ],\n        \"semantic_type\": \"\",\n        \"description\": \"\"\n      }\n    }\n  ]\n}"
            }
          },
          "metadata": {},
          "execution_count": 87
        }
      ],
      "source": [
        "skin_df.head()"
      ]
    },
    {
      "cell_type": "markdown",
      "metadata": {
        "id": "HAvr92MIwgWZ"
      },
      "source": [
        "- Duplication and Missing Values handling"
      ]
    },
    {
      "cell_type": "code",
      "execution_count": null,
      "metadata": {
        "id": "ergl6ieqwgWa",
        "colab": {
          "base_uri": "https://localhost:8080/"
        },
        "outputId": "53911d80-5031-4b8c-9e00-40be470975e7"
      },
      "outputs": [
        {
          "output_type": "execute_result",
          "data": {
            "text/plain": [
              "np.int64(0)"
            ]
          },
          "metadata": {},
          "execution_count": 88
        }
      ],
      "source": [
        "#Duplication check\n",
        "skin_df.duplicated(subset=['image_id']).sum()"
      ]
    },
    {
      "cell_type": "code",
      "source": [
        "#Missing values check\n",
        "skin_df.isnull().sum()"
      ],
      "metadata": {
        "colab": {
          "base_uri": "https://localhost:8080/",
          "height": 398
        },
        "id": "znXzjTTmQf2b",
        "outputId": "676cc6a5-bf74-4e70-d59a-950d81ab8b92"
      },
      "execution_count": null,
      "outputs": [
        {
          "output_type": "execute_result",
          "data": {
            "text/plain": [
              "lesion_id         0\n",
              "image_id          0\n",
              "dx                0\n",
              "dx_type           0\n",
              "age              57\n",
              "sex               0\n",
              "localization      0\n",
              "path              0\n",
              "cell_type         0\n",
              "cell_type_idx     0\n",
              "dtype: int64"
            ],
            "text/html": [
              "<div>\n",
              "<style scoped>\n",
              "    .dataframe tbody tr th:only-of-type {\n",
              "        vertical-align: middle;\n",
              "    }\n",
              "\n",
              "    .dataframe tbody tr th {\n",
              "        vertical-align: top;\n",
              "    }\n",
              "\n",
              "    .dataframe thead th {\n",
              "        text-align: right;\n",
              "    }\n",
              "</style>\n",
              "<table border=\"1\" class=\"dataframe\">\n",
              "  <thead>\n",
              "    <tr style=\"text-align: right;\">\n",
              "      <th></th>\n",
              "      <th>0</th>\n",
              "    </tr>\n",
              "  </thead>\n",
              "  <tbody>\n",
              "    <tr>\n",
              "      <th>lesion_id</th>\n",
              "      <td>0</td>\n",
              "    </tr>\n",
              "    <tr>\n",
              "      <th>image_id</th>\n",
              "      <td>0</td>\n",
              "    </tr>\n",
              "    <tr>\n",
              "      <th>dx</th>\n",
              "      <td>0</td>\n",
              "    </tr>\n",
              "    <tr>\n",
              "      <th>dx_type</th>\n",
              "      <td>0</td>\n",
              "    </tr>\n",
              "    <tr>\n",
              "      <th>age</th>\n",
              "      <td>57</td>\n",
              "    </tr>\n",
              "    <tr>\n",
              "      <th>sex</th>\n",
              "      <td>0</td>\n",
              "    </tr>\n",
              "    <tr>\n",
              "      <th>localization</th>\n",
              "      <td>0</td>\n",
              "    </tr>\n",
              "    <tr>\n",
              "      <th>path</th>\n",
              "      <td>0</td>\n",
              "    </tr>\n",
              "    <tr>\n",
              "      <th>cell_type</th>\n",
              "      <td>0</td>\n",
              "    </tr>\n",
              "    <tr>\n",
              "      <th>cell_type_idx</th>\n",
              "      <td>0</td>\n",
              "    </tr>\n",
              "  </tbody>\n",
              "</table>\n",
              "</div><br><label><b>dtype:</b> int64</label>"
            ]
          },
          "metadata": {},
          "execution_count": 89
        }
      ]
    },
    {
      "cell_type": "markdown",
      "metadata": {
        "id": "2JH7zDHbwgWk"
      },
      "source": [
        "Filling missing age values with mean"
      ]
    },
    {
      "cell_type": "code",
      "execution_count": null,
      "metadata": {
        "id": "VYxwY6QHwgWk",
        "colab": {
          "base_uri": "https://localhost:8080/",
          "height": 398
        },
        "outputId": "5af5a6e0-b90a-4f62-e05f-04d0daba1dda"
      },
      "outputs": [
        {
          "output_type": "execute_result",
          "data": {
            "text/plain": [
              "lesion_id        0\n",
              "image_id         0\n",
              "dx               0\n",
              "dx_type          0\n",
              "age              0\n",
              "sex              0\n",
              "localization     0\n",
              "path             0\n",
              "cell_type        0\n",
              "cell_type_idx    0\n",
              "dtype: int64"
            ],
            "text/html": [
              "<div>\n",
              "<style scoped>\n",
              "    .dataframe tbody tr th:only-of-type {\n",
              "        vertical-align: middle;\n",
              "    }\n",
              "\n",
              "    .dataframe tbody tr th {\n",
              "        vertical-align: top;\n",
              "    }\n",
              "\n",
              "    .dataframe thead th {\n",
              "        text-align: right;\n",
              "    }\n",
              "</style>\n",
              "<table border=\"1\" class=\"dataframe\">\n",
              "  <thead>\n",
              "    <tr style=\"text-align: right;\">\n",
              "      <th></th>\n",
              "      <th>0</th>\n",
              "    </tr>\n",
              "  </thead>\n",
              "  <tbody>\n",
              "    <tr>\n",
              "      <th>lesion_id</th>\n",
              "      <td>0</td>\n",
              "    </tr>\n",
              "    <tr>\n",
              "      <th>image_id</th>\n",
              "      <td>0</td>\n",
              "    </tr>\n",
              "    <tr>\n",
              "      <th>dx</th>\n",
              "      <td>0</td>\n",
              "    </tr>\n",
              "    <tr>\n",
              "      <th>dx_type</th>\n",
              "      <td>0</td>\n",
              "    </tr>\n",
              "    <tr>\n",
              "      <th>age</th>\n",
              "      <td>0</td>\n",
              "    </tr>\n",
              "    <tr>\n",
              "      <th>sex</th>\n",
              "      <td>0</td>\n",
              "    </tr>\n",
              "    <tr>\n",
              "      <th>localization</th>\n",
              "      <td>0</td>\n",
              "    </tr>\n",
              "    <tr>\n",
              "      <th>path</th>\n",
              "      <td>0</td>\n",
              "    </tr>\n",
              "    <tr>\n",
              "      <th>cell_type</th>\n",
              "      <td>0</td>\n",
              "    </tr>\n",
              "    <tr>\n",
              "      <th>cell_type_idx</th>\n",
              "      <td>0</td>\n",
              "    </tr>\n",
              "  </tbody>\n",
              "</table>\n",
              "</div><br><label><b>dtype:</b> int64</label>"
            ]
          },
          "metadata": {},
          "execution_count": 90
        }
      ],
      "source": [
        "skin_df['age'] = skin_df['age'].fillna((skin_df['age'].mean())) # Fill missing age values with the mean age\n",
        "skin_df.isnull().sum()\n",
        "\n",
        "#Dont really matter in model training but just for the sake of cleaning the dataset possibly for future implementations"
      ]
    },
    {
      "cell_type": "markdown",
      "metadata": {
        "id": "GfrovAuTwgWl"
      },
      "source": [
        "**2) Split Dataset into Training and Validation Set**"
      ]
    },
    {
      "cell_type": "code",
      "execution_count": null,
      "metadata": {
        "id": "UwIXo3mzwgWl",
        "colab": {
          "base_uri": "https://localhost:8080/"
        },
        "outputId": "68600d4e-b8a5-4ece-f083-f257644accd6"
      },
      "outputs": [
        {
          "output_type": "stream",
          "name": "stdout",
          "text": [
            "\n",
            "Performing stratified train-validation split...\n",
            "Training samples: 8012\n",
            "Validation samples: 2003\n"
          ]
        }
      ],
      "source": [
        "all_labels = skin_df['cell_type_idx'].values\n",
        "\n",
        "# Perform stratified split\n",
        "print(\"\\nPerforming stratified train-validation split...\")\n",
        "train_indices, val_indices = train_test_split(\n",
        "    np.arange(len(skin_df)),\n",
        "    test_size=1-TRAIN_SPLIT,\n",
        "    random_state=42,\n",
        "    stratify=all_labels\n",
        ")\n",
        "\n",
        "print(f\"Training samples: {len(train_indices)}\")\n",
        "print(f\"Validation samples: {len(val_indices)}\")"
      ]
    },
    {
      "cell_type": "markdown",
      "source": [
        "** **UNDERSAMPLING PROCESS**"
      ],
      "metadata": {
        "id": "5IUdoDdoH67-"
      }
    },
    {
      "cell_type": "markdown",
      "source": [
        "Undersample the majority class to the equal amount of the second highest class"
      ],
      "metadata": {
        "id": "oEJzdRx_Kwrk"
      }
    },
    {
      "cell_type": "code",
      "source": [
        "#Get training set labels using train_indices\n",
        "train_labels = skin_df['cell_type_idx'].iloc[train_indices].values\n",
        "\n",
        "# Count samples in each class\n",
        "label_counts = Counter(train_labels)\n",
        "\n",
        "#Find the majority and second-highest classes and their counts\n",
        "sorted_counts = label_counts.most_common()\n",
        "majority_class = sorted_counts[0][0]  # Class with the highest count\n",
        "second_highest_class = sorted_counts[1][0]  # Class with the second-highest count\n",
        "second_highest_count = sorted_counts[1][1]  # Count of the second-highest class\n",
        "\n",
        "# Create undersampled training indices\n",
        "undersampled_train_indices = []\n",
        "for class_label in label_counts.keys():\n",
        "    class_indices = [i for i, label in enumerate(train_labels) if label == class_label]\n",
        "\n",
        "    # Convert indices relative to train_labels back to original indices\n",
        "    original_class_indices = [train_indices[idx] for idx in class_indices]\n",
        "\n",
        "    if class_label == majority_class:\n",
        "        undersampled_train_indices.extend(random.sample(original_class_indices, second_highest_count))  #Undersample majority\n",
        "    else:\n",
        "        undersampled_train_indices.extend(original_class_indices)  #Keep other classes as they are\n",
        "\n",
        "# Randomly shuffle the undersampled training indices\n",
        "random.shuffle(undersampled_train_indices)\n",
        "\n",
        "#Ultimately, the next step is to bring undersampled_train_indices to train dataset initialization on HAM10000"
      ],
      "metadata": {
        "id": "4F8Ev66nJu2F"
      },
      "execution_count": null,
      "outputs": []
    },
    {
      "cell_type": "markdown",
      "metadata": {
        "id": "rP7giveuwgWl"
      },
      "source": [
        "**3) Create and Initialize Model**"
      ]
    },
    {
      "cell_type": "code",
      "execution_count": null,
      "metadata": {
        "id": "oTaCqJJQwgWl",
        "colab": {
          "base_uri": "https://localhost:8080/"
        },
        "outputId": "ad70e359-a8b5-4c56-c4f7-54d5fd4c16b7"
      },
      "outputs": [
        {
          "output_type": "stream",
          "name": "stdout",
          "text": [
            "\n",
            "Creating model...\n",
            "Created efficientnet_b0 with 7 output classes\n"
          ]
        }
      ],
      "source": [
        "print(\"\\nCreating model...\")\n",
        "model_name = 'efficientnet_b0'\n",
        "num_classes = 7\n",
        "model = timm.create_model(model_name, pretrained=True, num_classes=num_classes)\n",
        "\n",
        "input_size = 224\n",
        "\n",
        "# Move model to device\n",
        "model = model.to(device)\n",
        "print(f\"Created {model_name} with {num_classes} output classes\")"
      ]
    },
    {
      "cell_type": "markdown",
      "metadata": {
        "id": "PqPG8QLawgWl"
      },
      "source": [
        "**4) Data (Image) Transformation Definition**"
      ]
    },
    {
      "cell_type": "code",
      "execution_count": null,
      "metadata": {
        "id": "cqZiaddfwgWl",
        "colab": {
          "base_uri": "https://localhost:8080/"
        },
        "outputId": "6d48ef9e-2ecf-43b2-d1ad-c10031bb955d"
      },
      "outputs": [
        {
          "output_type": "stream",
          "name": "stdout",
          "text": [
            "Found 10025 images for computing normalization.\n"
          ]
        }
      ],
      "source": [
        "# Get all image paths from the HAM10000 images folder\n",
        "IMG_DIR = DATA_DIR+'/HAM10000_images'\n",
        "image_paths = glob(os.path.join(IMG_DIR, '*.jpg'))\n",
        "print(f\"Found {len(image_paths)} images for computing normalization.\")"
      ]
    },
    {
      "cell_type": "markdown",
      "metadata": {
        "id": "pdX5uf-gwgWm"
      },
      "source": [
        "- Compute normalization values from the dataset images"
      ]
    },
    {
      "cell_type": "code",
      "execution_count": null,
      "metadata": {
        "id": "vo5iJpG6wgWm"
      },
      "outputs": [],
      "source": [
        "# def compute_img_mean_std(image_paths):\n",
        "#     \"\"\"\n",
        "#     Compute the channel-wise mean and std for a list of image paths.\n",
        "#     Images are resized to 224x224 and converted from BGR to RGB when reversing order.\n",
        "#     \"\"\"\n",
        "#     img_h, img_w = 224, 224\n",
        "#     imgs = []\n",
        "\n",
        "#     for path in tqdm(image_paths, desc=\"Computing mean & std\"):\n",
        "#         img = cv2.imread(path)\n",
        "#         if img is None:\n",
        "#             continue\n",
        "#         img = cv2.resize(img, (img_h, img_w))\n",
        "#         imgs.append(img)\n",
        "\n",
        "#     # Stack images along a new axis (result: H x W x Channels x N)\n",
        "#     imgs = np.stack(imgs, axis=3)\n",
        "#     imgs = imgs.astype(np.float32) / 255.0  # scale pixels to [0,1]\n",
        "\n",
        "#     means, stdevs = [], []\n",
        "#     # Compute mean and std for each channel\n",
        "#     for i in range(3):\n",
        "#         pixels = imgs[:, :, i, :].ravel()\n",
        "#         means.append(np.mean(pixels))\n",
        "#         stdevs.append(np.std(pixels))\n",
        "\n",
        "#     # Reverse the order to go from BGR (OpenCV) to RGB\n",
        "#     means.reverse()\n",
        "#     stdevs.reverse()\n",
        "\n",
        "#     print(\"Computed normMean =\", means)\n",
        "#     print(\"Computed normStd  =\", stdevs)\n",
        "#     return means, stdevs"
      ]
    },
    {
      "cell_type": "code",
      "execution_count": null,
      "metadata": {
        "id": "mpAirDK3wgWm",
        "colab": {
          "base_uri": "https://localhost:8080/"
        },
        "outputId": "cbfc5a1c-0220-4706-b07f-c3b1c01ac3cc"
      },
      "outputs": [
        {
          "output_type": "stream",
          "name": "stdout",
          "text": [
            "computed_means:[0.7630331, 0.5456457, 0.5700467], computer standard deviation:[0.1409281, 0.15261227, 0.16997086]\n"
          ]
        }
      ],
      "source": [
        "# Compute normalization values (Mean and standard deviation of RGB channels); these will be used in transform.Normalize()\n",
        "#computed_means, computed_stds = compute_img_mean_std(image_paths)\n",
        "\n",
        "#Computed mean and standard deviation values is manually initialized here from vs code due to google colab unable to process because of RAM limitations\n",
        "\n",
        "computed_means = [0.7630331, 0.5456457, 0.5700467]\n",
        "computed_stds = [0.1409281, 0.15261227, 0.16997086]\n",
        "\n",
        "print(f\"computed_means:{computed_means}, computer standard deviation:{computed_stds}\")"
      ]
    },
    {
      "cell_type": "markdown",
      "metadata": {
        "id": "pCHFDGuDwgWm"
      },
      "source": [
        "**Image Transformation**\n",
        "- Transform input image function for loading testing or future input images in consistent form (resized, cropped, normalized) onto the EfficientNet Model for a more accurate output classification.\n",
        "\n",
        "- Augmentation transform of training image function with random image processing (Horizontal flip, vertical flip, rotation, color jitter, gaussian blur) to introduce variability and improve generalization (prevent overfitting) of images from dataset along with image normalization."
      ]
    },
    {
      "cell_type": "markdown",
      "source": [],
      "metadata": {
        "id": "OO5tJvi4AV8Y"
      }
    },
    {
      "cell_type": "code",
      "execution_count": null,
      "metadata": {
        "id": "sqKnG0xtwgWm"
      },
      "outputs": [],
      "source": [
        "def get_standard_transform(input_size, computed_means, computed_stds):\n",
        "    # Standard transformation for testing, validation, test and input\n",
        "    return transforms.Compose([\n",
        "        transforms.Resize((input_size,input_size)),\n",
        "        transforms.CenterCrop(224),\n",
        "        transforms.ToTensor(),\n",
        "        transforms.Normalize(mean=computed_means, std=computed_stds)\n",
        "    ])\n",
        "\n",
        "#Augmentation transformation are applied only to the training dataset after splitting\n",
        "def get_augmentation_transform(input_size, computed_means, computed_stds):\n",
        "        return transforms.Compose([\n",
        "            transforms.Resize((input_size,input_size)),\n",
        "            transforms.CenterCrop(224),\n",
        "            transforms.ToTensor(),\n",
        "            transforms.Normalize(mean=computed_means, std=computed_stds),\n",
        "            transforms.RandomHorizontalFlip(p=0.5),\n",
        "            transforms.RandomVerticalFlip(p=0.5),\n",
        "            transforms.RandomRotation(degrees=45),\n",
        "            transforms.RandomApply([\n",
        "                transforms.RandomChoice([\n",
        "                    transforms.ColorJitter(brightness=0.2, contrast=0.2, saturation=0.2, hue=0.1),\n",
        "                    transforms.GaussianBlur(3)\n",
        "                ]),\n",
        "            ], p=0.1)\n",
        "        ])"
      ]
    },
    {
      "cell_type": "markdown",
      "metadata": {
        "id": "VjlhXQLpwgWn"
      },
      "source": [
        "**5) HAM10000 Custom Dataset**"
      ]
    },
    {
      "cell_type": "markdown",
      "metadata": {
        "id": "lBLPwZ8bwgWn"
      },
      "source": [
        "- **Custom dataset** for loading images and labels while applying transformations and augmentations"
      ]
    },
    {
      "cell_type": "code",
      "execution_count": null,
      "metadata": {
        "id": "wQBXczxiwgWn"
      },
      "outputs": [],
      "source": [
        "class HAM10000Dataset(Dataset):\n",
        "    def __init__(self, df, transform=None):\n",
        "        \"\"\"Optimized dataset class for HAM10000\"\"\"\n",
        "        self.metadata = df.reset_index(drop=True)\n",
        "        self.transform = transform\n",
        "\n",
        "    def __len__(self):\n",
        "        return len(self.metadata)\n",
        "\n",
        "    def __getitem__(self, idx):\n",
        "        # Load data and get label\n",
        "        X = Image.open(self.metadata['path'][idx]) #Load image\n",
        "        y = torch.tensor(int(self.metadata['cell_type_idx'][idx])) #Load label\n",
        "\n",
        "        if self.transform:\n",
        "            X = self.transform(X) #Apply transformation to the loaded image if transform is provided\n",
        "\n",
        "        return X, y #Return the transformed image and label"
      ]
    },
    {
      "cell_type": "markdown",
      "metadata": {
        "id": "CWEmALf1wgWn"
      },
      "source": [
        "**6) Create Training and Validation Datasets**"
      ]
    },
    {
      "cell_type": "code",
      "execution_count": null,
      "metadata": {
        "id": "hSjZ_5ynwgWn",
        "colab": {
          "base_uri": "https://localhost:8080/"
        },
        "outputId": "64493c48-4de9-4c78-bb1f-55231655e462"
      },
      "outputs": [
        {
          "output_type": "stream",
          "name": "stdout",
          "text": [
            "Training dataset size: 3538\n",
            "Validation dataset size: 2003\n"
          ]
        }
      ],
      "source": [
        "# Training dataset with augmentation\n",
        "train_dataset = HAM10000Dataset(\n",
        "    df = skin_df.iloc[undersampled_train_indices],\n",
        "    transform=get_augmentation_transform(input_size, computed_means, computed_stds)\n",
        ")\n",
        "\n",
        "print(f\"Training dataset size: {len(train_dataset)}\")\n",
        "\n",
        "# Validation dataset\n",
        "val_dataset = HAM10000Dataset(\n",
        "    df = skin_df.iloc[val_indices],\n",
        "    transform=get_standard_transform(input_size, computed_means, computed_stds)\n",
        ")\n",
        "\n",
        "print(f\"Validation dataset size: {len(val_dataset)}\")"
      ]
    },
    {
      "cell_type": "markdown",
      "metadata": {
        "id": "YP4hu8mZwgWn"
      },
      "source": [
        "****Additional: Handle Class Imbalance with Weighted Sampling**"
      ]
    },
    {
      "cell_type": "markdown",
      "metadata": {
        "id": "D3_AmMlowgWn"
      },
      "source": [
        "Weighted sampling, also known as class weighting, is a good technique for addressing class imbalance in machine learning, as it helps the model pay more attention to the minority class by assigning higher weights to its samples during training."
      ]
    },
    {
      "cell_type": "code",
      "execution_count": null,
      "metadata": {
        "id": "TKxxPDLHwgWo"
      },
      "outputs": [],
      "source": [
        "# Define your list of class names (ensure the order matches 'cell_type_idx')\n",
        "class_names = [\n",
        "    'Melanocytic nevi',\n",
        "    'Melanoma',\n",
        "    'Benign keratosis-like lesions',\n",
        "    'Basal cell carcinoma',\n",
        "    'Actinic keratoses',\n",
        "    'Vascular lesions',\n",
        "    'Dermatofibroma'  # adjust if needed\n",
        "]\n",
        "\n",
        "# Calculate class distribution in training set\n",
        "train_labels = skin_df['cell_type_idx'].iloc[train_indices].values # Extract labels using train_indices\n",
        "class_counts = np.bincount(train_labels)  # Remove the 'bins' argument\n",
        "# Add a check to ensure all classes are represented (if needed)\n",
        "if len(class_counts) < num_classes:\n",
        "    class_counts = np.pad(class_counts, (0, num_classes - len(class_counts)), 'constant')"
      ]
    },
    {
      "cell_type": "markdown",
      "metadata": {
        "id": "2mYOxaVGwgWo"
      },
      "source": [
        "**7) Create Data Loaders**"
      ]
    },
    {
      "cell_type": "code",
      "execution_count": null,
      "metadata": {
        "id": "m1AkvsGKwgWo"
      },
      "outputs": [],
      "source": [
        "train_loader = DataLoader(\n",
        "    train_dataset,\n",
        "    batch_size=BATCH_SIZE,\n",
        "    num_workers=NUM_WORKERS,\n",
        "    pin_memory=PIN_MEMORY, #or faster GPU transfer\n",
        ")\n",
        "\n",
        "val_loader = DataLoader(\n",
        "    val_dataset,\n",
        "    batch_size=BATCH_SIZE * 2,  # Larger validation batches\n",
        "    num_workers=NUM_WORKERS,\n",
        "    pin_memory=PIN_MEMORY,\n",
        ")"
      ]
    },
    {
      "cell_type": "markdown",
      "metadata": {
        "id": "X6g3Tx1SwgWo"
      },
      "source": [
        "**8) Define Loss Function, Optimizer, Scheduler and Scaler**"
      ]
    },
    {
      "cell_type": "code",
      "execution_count": null,
      "metadata": {
        "id": "dOYDxCT1wgWo",
        "colab": {
          "base_uri": "https://localhost:8080/"
        },
        "outputId": "cd9b8ab2-8ebe-4a95-a291-0dcb79ff6217"
      },
      "outputs": [
        {
          "output_type": "stream",
          "name": "stderr",
          "text": [
            "/usr/local/lib/python3.11/dist-packages/torch/optim/lr_scheduler.py:62: UserWarning: The verbose parameter is deprecated. Please use get_last_lr() to access the learning rate.\n",
            "  warnings.warn(\n",
            "<ipython-input-102-22f7be75def7>:12: FutureWarning: `torch.cuda.amp.GradScaler(args...)` is deprecated. Please use `torch.amp.GradScaler('cuda', args...)` instead.\n",
            "  scaler = torch.cuda.amp.GradScaler(enabled=MIXED_PRECISION)\n"
          ]
        }
      ],
      "source": [
        "# Optimizer and loss function\n",
        "criterion = nn.CrossEntropyLoss().to(device)\n",
        "optimizer = optim.AdamW(model.parameters(), lr=LEARNING_RATE, weight_decay=1e-5)\n",
        "\n",
        "# Learning rate scheduler implemented due to large batch size and learning rate\n",
        "scheduler = torch.optim.lr_scheduler.ReduceLROnPlateau(\n",
        "    #ReduceLROnPlateau helps to prevent overfitting\n",
        "    optimizer, mode='min', factor=0.1, patience=3, verbose=True\n",
        ")\n",
        "\n",
        "#Gradient scaler with Mixed precision for faster training\n",
        "scaler = torch.cuda.amp.GradScaler(enabled=MIXED_PRECISION)"
      ]
    },
    {
      "cell_type": "markdown",
      "metadata": {
        "id": "W4zIFs-RwgWo"
      },
      "source": [
        "**9) Model Training**"
      ]
    },
    {
      "cell_type": "markdown",
      "metadata": {
        "id": "m2h7yBVNwgWo"
      },
      "source": [
        "Average Meter function used for training process to calculate loss and accuracy"
      ]
    },
    {
      "cell_type": "code",
      "execution_count": null,
      "metadata": {
        "id": "K5LzHqKgwgWp"
      },
      "outputs": [],
      "source": [
        "class AverageMeter(object):\n",
        "    def __init__(self):\n",
        "        self.reset()\n",
        "\n",
        "    def reset(self):\n",
        "        self.val = 0\n",
        "        self.avg = 0\n",
        "        self.sum = 0\n",
        "        self.count = 0\n",
        "\n",
        "    def update(self, val, n=1):\n",
        "        self.val = val\n",
        "        self.sum += val * n\n",
        "        self.count += n\n",
        "        self.avg = self.sum / self.count"
      ]
    },
    {
      "cell_type": "markdown",
      "metadata": {
        "id": "ab14G7gOwgWp"
      },
      "source": [
        "- Training and validation loop for Phase 1 (Backbone Freeze) & Phase 2 (Backbone Unfreeze)"
      ]
    },
    {
      "cell_type": "code",
      "execution_count": null,
      "metadata": {
        "id": "kzF8RU6dwgWp"
      },
      "outputs": [],
      "source": [
        "# Initialize history dictionary to track metrics across both phases\n",
        "history = {\n",
        "    'train_loss': [],\n",
        "    'train_acc': [],\n",
        "    'val_loss': [],\n",
        "    'val_acc': [],\n",
        "    'phase': []  # Track which phase each epoch belongs to\n",
        "}"
      ]
    },
    {
      "cell_type": "code",
      "execution_count": null,
      "metadata": {
        "id": "lEj2mzhBwgWp"
      },
      "outputs": [],
      "source": [
        "# Function that runs one training epoch with evaluation\n",
        "def train_epoch(model, train_loader, val_loader, criterion, optimizer, scaler, scheduler, epoch, phase):\n",
        "    print(f\"\\n{'='*20} EPOCH {epoch} [ phase 1 ] {'='*20}\")\n",
        "\n",
        "    # TRAINING PHASE\n",
        "    model.train()\n",
        "    train_loss = AverageMeter()\n",
        "    train_acc = AverageMeter()\n",
        "\n",
        "    for i, (images, labels) in enumerate(train_loader):\n",
        "        images = images.to(device, non_blocking=True)\n",
        "        labels = labels.to(device, non_blocking=True)\n",
        "\n",
        "        optimizer.zero_grad() # Zero the gradients\n",
        "\n",
        "        #EfficientNet loves mixed precision training (float16). Without this method, memory and compute costs are higher\n",
        "        with torch.cuda.amp.autocast(enabled=MIXED_PRECISION): # Change device_type='cuda' to enabled=MIXED_PRECISION\n",
        "            outputs = model(images)\n",
        "            loss = criterion(outputs, labels)\n",
        "\n",
        "        scaler.scale(loss).backward()\n",
        "        scaler.step(optimizer)\n",
        "        scaler.update()\n",
        "\n",
        "        _, predicted = torch.max(outputs.data, 1)\n",
        "        correct = (predicted == labels).sum().item()\n",
        "        acc = correct / labels.size(0)\n",
        "\n",
        "        train_loss.update(loss.item(), labels.size(0))\n",
        "        train_acc.update(acc, labels.size(0))\n",
        "\n",
        "    # VALIDATION PHASE\n",
        "    model.eval()\n",
        "    val_loss = AverageMeter()\n",
        "    val_acc = AverageMeter()\n",
        "\n",
        "    # Obtain latest models predictions on validation loader/dataset and corresponding true labels for those data points\n",
        "    all_predictions = []\n",
        "    all_targets = []\n",
        "\n",
        "    with torch.no_grad(): # Disable gradient calculationsd\n",
        "        for i, (images, labels) in enumerate(val_loader): #Use validation loader or test loader\n",
        "            images = images.to(device, non_blocking=True)\n",
        "            labels = labels.to(device, non_blocking=True)\n",
        "\n",
        "            outputs = model(images)\n",
        "            loss = criterion(outputs, labels)\n",
        "\n",
        "            #Get predicted class indices\n",
        "            _, predicted = torch.max(outputs.data, 1)\n",
        "            #For Val_acc, check whether the predicted equates to the actual label\n",
        "            correct = (predicted == labels).sum().item()\n",
        "            acc = correct / labels.size(0)\n",
        "\n",
        "            #For confusion matrix, which obtains total number value for every 7 prediction and label\n",
        "            all_predictions.extend(predicted.cpu().numpy()) #Move predictions to CPU\n",
        "            all_targets.extend(labels.cpu().numpy()) #Move labels to CPU\n",
        "\n",
        "\n",
        "            val_loss.update(loss.item(), labels.size(0))\n",
        "            val_acc.update(acc, labels.size(0))\n",
        "\n",
        "    #Update learning rate scheduler based on the validation loss\n",
        "    scheduler.step(val_loss.avg)\n",
        "\n",
        "    # Append the metrics for this epoch to the global history dictionary\n",
        "    history['train_loss'].append(train_loss.avg)\n",
        "    history['train_acc'].append(train_acc.avg)\n",
        "    history['val_loss'].append(val_loss.avg)\n",
        "    history['val_acc'].append(val_acc.avg)\n",
        "    history['phase'].append(phase)\n",
        "\n",
        "    print(f\"Epoch {epoch} [{phase}] Summary:\")\n",
        "    print(f\"  Train Loss: {train_loss.avg:.4f}, Train Acc: {train_acc.avg:.4f}\")\n",
        "    print(f\"  Val Loss:   {val_loss.avg:.4f}, Val Acc:   {val_acc.avg:.4f}\")\n",
        "\n",
        "    return train_loss.avg, train_acc.avg, val_loss.avg, val_acc.avg, all_predictions, all_targets"
      ]
    },
    {
      "cell_type": "markdown",
      "metadata": {
        "id": "B14cul81wgWq"
      },
      "source": [
        "\n",
        "The benefits of this approach by freezing and unfreezing backbone layers include\n",
        "\n",
        "Much Faster Initial Training:\n",
        "- Phase 1 should complete in minutes instead of hours\n",
        "- Get a reasonable model very quickly\n",
        "\n",
        "Better Optimization:\n",
        "- The classifier adapts first to the new task\n",
        "- Then the backbone adapts while keeping its pretrained knowledge\n",
        "\n",
        "Early Results:\n",
        "- Can evaluate model performance after phase 1\n",
        "- Decide if phase 2 is necessary based on phase 1 results\n",
        "\n",
        "Resource Efficiency:\n",
        "- Can test multiple hyperparameter configurations quickly in phase 1\n",
        "- Only invest time in phase 2 for promising configurations\n"
      ]
    },
    {
      "cell_type": "markdown",
      "metadata": {
        "id": "us7VMECGwgWp"
      },
      "source": [
        "- Phase 1: Classifier only (frozen backbone)"
      ]
    },
    {
      "cell_type": "markdown",
      "metadata": {
        "id": "hbw3oZUWwgWp"
      },
      "source": [
        "Basically only the parameters of last layer are updated, while others remain fixed"
      ]
    },
    {
      "cell_type": "code",
      "execution_count": null,
      "metadata": {
        "id": "MK_tQx8QwgWq",
        "colab": {
          "base_uri": "https://localhost:8080/"
        },
        "outputId": "17e185c6-d9ef-448c-a8a5-f035907324e9"
      },
      "outputs": [
        {
          "output_type": "stream",
          "name": "stdout",
          "text": [
            "\n",
            "==================================================\n",
            "PHASE 1: Training classifier only (backbone frozen)\n",
            "==================================================\n",
            "Trainable parameters: 8,967 (0.22% of total)\n",
            "\n",
            "==================== EPOCH 1 [ phase 1 ] ====================\n"
          ]
        },
        {
          "output_type": "stream",
          "name": "stderr",
          "text": [
            "<ipython-input-105-555524ca5474>:17: FutureWarning: `torch.cuda.amp.autocast(args...)` is deprecated. Please use `torch.amp.autocast('cuda', args...)` instead.\n",
            "  with torch.cuda.amp.autocast(enabled=MIXED_PRECISION): # Change device_type='cuda' to enabled=MIXED_PRECISION\n"
          ]
        },
        {
          "output_type": "stream",
          "name": "stdout",
          "text": [
            "Epoch 1 [phase 1] Summary:\n",
            "  Train Loss: 3.5908, Train Acc: 0.1950\n",
            "  Val Loss:   2.6824, Val Acc:   0.3060\n",
            "New best model saved! Val Acc: 0.3060\n",
            "\n",
            "==================== EPOCH 2 [ phase 1 ] ====================\n",
            "Epoch 2 [phase 1] Summary:\n",
            "  Train Loss: 2.7881, Train Acc: 0.2858\n",
            "  Val Loss:   2.3091, Val Acc:   0.3784\n",
            "New best model saved! Val Acc: 0.3784\n",
            "\n",
            "==================== EPOCH 3 [ phase 1 ] ====================\n",
            "Epoch 3 [phase 1] Summary:\n",
            "  Train Loss: 2.3924, Train Acc: 0.3508\n",
            "  Val Loss:   2.0455, Val Acc:   0.4428\n",
            "New best model saved! Val Acc: 0.4428\n",
            "\n",
            "==================== EPOCH 4 [ phase 1 ] ====================\n",
            "Epoch 4 [phase 1] Summary:\n",
            "  Train Loss: 2.1699, Train Acc: 0.3909\n",
            "  Val Loss:   1.8852, Val Acc:   0.4743\n",
            "New best model saved! Val Acc: 0.4743\n",
            "\n",
            "==================== EPOCH 5 [ phase 1 ] ====================\n",
            "Epoch 5 [phase 1] Summary:\n",
            "  Train Loss: 2.0507, Train Acc: 0.4158\n",
            "  Val Loss:   1.8184, Val Acc:   0.4963\n",
            "New best model saved! Val Acc: 0.4963\n",
            "\n",
            "==================== EPOCH 6 [ phase 1 ] ====================\n",
            "Epoch 6 [phase 1] Summary:\n",
            "  Train Loss: 1.9047, Train Acc: 0.4514\n",
            "  Val Loss:   1.7310, Val Acc:   0.5087\n",
            "New best model saved! Val Acc: 0.5087\n",
            "\n",
            "==================== EPOCH 7 [ phase 1 ] ====================\n",
            "Epoch 7 [phase 1] Summary:\n",
            "  Train Loss: 1.8071, Train Acc: 0.4613\n",
            "  Val Loss:   1.7329, Val Acc:   0.5082\n",
            "\n",
            "==================== EPOCH 8 [ phase 1 ] ====================\n",
            "Epoch 8 [phase 1] Summary:\n",
            "  Train Loss: 1.7374, Train Acc: 0.4782\n",
            "  Val Loss:   1.6631, Val Acc:   0.5232\n",
            "New best model saved! Val Acc: 0.5232\n",
            "\n",
            "==================== EPOCH 9 [ phase 1 ] ====================\n",
            "Epoch 9 [phase 1] Summary:\n",
            "  Train Loss: 1.6419, Train Acc: 0.4878\n",
            "  Val Loss:   1.6018, Val Acc:   0.5327\n",
            "New best model saved! Val Acc: 0.5327\n",
            "\n",
            "==================== EPOCH 10 [ phase 1 ] ====================\n",
            "Epoch 10 [phase 1] Summary:\n",
            "  Train Loss: 1.6400, Train Acc: 0.5006\n",
            "  Val Loss:   1.5471, Val Acc:   0.5467\n",
            "New best model saved! Val Acc: 0.5467\n",
            "\n",
            "==================== EPOCH 11 [ phase 1 ] ====================\n",
            "Epoch 11 [phase 1] Summary:\n",
            "  Train Loss: 1.5844, Train Acc: 0.5105\n",
            "  Val Loss:   1.5345, Val Acc:   0.5472\n",
            "New best model saved! Val Acc: 0.5472\n",
            "\n",
            "==================== EPOCH 12 [ phase 1 ] ====================\n",
            "Epoch 12 [phase 1] Summary:\n",
            "  Train Loss: 1.5326, Train Acc: 0.5124\n",
            "  Val Loss:   1.4818, Val Acc:   0.5582\n",
            "New best model saved! Val Acc: 0.5582\n",
            "\n",
            "==================== EPOCH 13 [ phase 1 ] ====================\n",
            "Epoch 13 [phase 1] Summary:\n",
            "  Train Loss: 1.5052, Train Acc: 0.5141\n",
            "  Val Loss:   1.4548, Val Acc:   0.5691\n",
            "New best model saved! Val Acc: 0.5691\n",
            "\n",
            "==================== EPOCH 14 [ phase 1 ] ====================\n",
            "Epoch 14 [phase 1] Summary:\n",
            "  Train Loss: 1.4426, Train Acc: 0.5367\n",
            "  Val Loss:   1.4648, Val Acc:   0.5612\n",
            "\n",
            "==================== EPOCH 15 [ phase 1 ] ====================\n",
            "Epoch 15 [phase 1] Summary:\n",
            "  Train Loss: 1.4159, Train Acc: 0.5382\n",
            "  Val Loss:   1.4647, Val Acc:   0.5647\n",
            "\n",
            "==================== EPOCH 16 [ phase 1 ] ====================\n",
            "Epoch 16 [phase 1] Summary:\n",
            "  Train Loss: 1.3727, Train Acc: 0.5461\n",
            "  Val Loss:   1.4427, Val Acc:   0.5681\n",
            "\n",
            "==================== EPOCH 17 [ phase 1 ] ====================\n",
            "Epoch 17 [phase 1] Summary:\n",
            "  Train Loss: 1.3551, Train Acc: 0.5509\n",
            "  Val Loss:   1.3879, Val Acc:   0.5801\n",
            "New best model saved! Val Acc: 0.5801\n",
            "\n",
            "==================== EPOCH 18 [ phase 1 ] ====================\n",
            "Epoch 18 [phase 1] Summary:\n",
            "  Train Loss: 1.3429, Train Acc: 0.5565\n",
            "  Val Loss:   1.3435, Val Acc:   0.5796\n",
            "\n",
            "==================== EPOCH 19 [ phase 1 ] ====================\n",
            "Epoch 19 [phase 1] Summary:\n",
            "  Train Loss: 1.2978, Train Acc: 0.5653\n",
            "  Val Loss:   1.3444, Val Acc:   0.5846\n",
            "New best model saved! Val Acc: 0.5846\n",
            "\n",
            "==================== EPOCH 20 [ phase 1 ] ====================\n",
            "Epoch 20 [phase 1] Summary:\n",
            "  Train Loss: 1.3415, Train Acc: 0.5531\n",
            "  Val Loss:   1.3550, Val Acc:   0.5886\n",
            "New best model saved! Val Acc: 0.5886\n"
          ]
        }
      ],
      "source": [
        "print(\"\\n\" + \"=\"*50)\n",
        "print(\"PHASE 1: Training classifier only (backbone frozen)\")\n",
        "print(\"=\"*50)\n",
        "\n",
        "# feature_extract is a boolean that defines if we are finetuning or feature extracting.\n",
        "# If feature_extract = False, the model is finetuned and all model parameters are updated.\n",
        "# If feature_extract = True, only the last layer parameters are updated, the others remain fixed.\n",
        "\n",
        "# Freeze backbone\n",
        "for name, param in model.named_parameters():\n",
        "    if 'classifier' not in name:  # For EfficientNet\n",
        "        param.requires_grad = False\n",
        "\n",
        "trainable_params = sum(p.numel() for p in model.parameters() if p.requires_grad)\n",
        "total_params = sum(p.numel() for p in model.parameters())\n",
        "print(f\"Trainable parameters: {trainable_params:,} ({trainable_params/total_params:.2%} of total)\")\n",
        "\n",
        "# Higher learning rate for classifier-only training\n",
        "optimizer_phase1 = optim.Adam(filter(lambda p: p.requires_grad, model.parameters()), lr=1e-3)\n",
        "\n",
        "#Phase 1 training\n",
        "phase = \"phase 1\"\n",
        "phase1_epochs = 20\n",
        "best_val_acc_p1 = 0\n",
        "\n",
        "for epoch in range(1, phase1_epochs + 1):\n",
        "    #Call the same training function\n",
        "    train_loss, train_acc, val_loss, val_acc, _, _ = train_epoch(\n",
        "        model, train_loader, val_loader, criterion, optimizer_phase1, scaler, scheduler, epoch, phase=\"phase 1\")\n",
        "\n",
        "    # Save the best model from phase 1\n",
        "    if val_acc > best_val_acc_p1:\n",
        "        best_val_acc_p1 = val_acc\n",
        "        torch.save({\n",
        "            'epoch': epoch,\n",
        "            'model_state_dict': model.state_dict(),\n",
        "            'optimizer_state_dict': optimizer_phase1.state_dict(),\n",
        "            'val_acc': val_acc,\n",
        "        }, DATA_DIR + \"/trained_model/phase1_best(undersampled).pth\")\n",
        "        print(f\"New best model saved! Val Acc: {val_acc:.4f}\")"
      ]
    },
    {
      "cell_type": "markdown",
      "metadata": {
        "id": "3x8R0CMRwgWq"
      },
      "source": [
        "- Phase 2: Fine-tuning (full model)"
      ]
    },
    {
      "cell_type": "code",
      "execution_count": null,
      "metadata": {
        "id": "1c7cV-newgWq",
        "colab": {
          "base_uri": "https://localhost:8080/"
        },
        "outputId": "f12cae73-da4b-4e69-d194-b6c7b80435d1"
      },
      "outputs": [
        {
          "output_type": "stream",
          "name": "stdout",
          "text": [
            "\n",
            "==================================================\n",
            "PHASE 2: Fine-tuning entire model\n",
            "==================================================\n",
            "Trainable parameters: 4,016,515 (100% of total)\n",
            "\n",
            "==================== EPOCH 1 [ phase 1 ] ====================\n"
          ]
        },
        {
          "output_type": "stream",
          "name": "stderr",
          "text": [
            "<ipython-input-105-555524ca5474>:17: FutureWarning: `torch.cuda.amp.autocast(args...)` is deprecated. Please use `torch.amp.autocast('cuda', args...)` instead.\n",
            "  with torch.cuda.amp.autocast(enabled=MIXED_PRECISION): # Change device_type='cuda' to enabled=MIXED_PRECISION\n"
          ]
        },
        {
          "output_type": "stream",
          "name": "stdout",
          "text": [
            "Epoch 1 [Phase 2] Summary:\n",
            "  Train Loss: 1.2844, Train Acc: 0.5670\n",
            "  Val Loss:   1.3289, Val Acc:   0.5966\n",
            "New best model saved! Val Acc: 0.5966\n",
            "\n",
            "==================== EPOCH 2 [ phase 1 ] ====================\n",
            "Epoch 2 [Phase 2] Summary:\n",
            "  Train Loss: 1.2161, Train Acc: 0.5845\n",
            "  Val Loss:   1.2866, Val Acc:   0.6101\n",
            "New best model saved! Val Acc: 0.6101\n",
            "\n",
            "==================== EPOCH 3 [ phase 1 ] ====================\n",
            "Epoch 3 [Phase 2] Summary:\n",
            "  Train Loss: 1.2111, Train Acc: 0.5904\n",
            "  Val Loss:   1.2680, Val Acc:   0.6136\n",
            "New best model saved! Val Acc: 0.6136\n",
            "\n",
            "==================== EPOCH 4 [ phase 1 ] ====================\n",
            "Epoch 4 [Phase 2] Summary:\n",
            "  Train Loss: 1.1756, Train Acc: 0.5986\n",
            "  Val Loss:   1.2255, Val Acc:   0.6186\n",
            "New best model saved! Val Acc: 0.6186\n",
            "\n",
            "==================== EPOCH 5 [ phase 1 ] ====================\n",
            "Epoch 5 [Phase 2] Summary:\n",
            "  Train Loss: 1.1174, Train Acc: 0.6116\n",
            "  Val Loss:   1.2075, Val Acc:   0.6226\n",
            "New best model saved! Val Acc: 0.6226\n",
            "\n",
            "==================== EPOCH 6 [ phase 1 ] ====================\n",
            "Epoch 6 [Phase 2] Summary:\n",
            "  Train Loss: 1.1204, Train Acc: 0.6131\n",
            "  Val Loss:   1.1940, Val Acc:   0.6271\n",
            "New best model saved! Val Acc: 0.6271\n",
            "\n",
            "==================== EPOCH 7 [ phase 1 ] ====================\n",
            "Epoch 7 [Phase 2] Summary:\n",
            "  Train Loss: 1.0981, Train Acc: 0.6176\n",
            "  Val Loss:   1.1879, Val Acc:   0.6291\n",
            "New best model saved! Val Acc: 0.6291\n",
            "\n",
            "==================== EPOCH 8 [ phase 1 ] ====================\n",
            "Epoch 8 [Phase 2] Summary:\n",
            "  Train Loss: 1.0715, Train Acc: 0.6280\n",
            "  Val Loss:   1.1514, Val Acc:   0.6390\n",
            "New best model saved! Val Acc: 0.6390\n",
            "\n",
            "==================== EPOCH 9 [ phase 1 ] ====================\n",
            "Epoch 9 [Phase 2] Summary:\n",
            "  Train Loss: 1.0438, Train Acc: 0.6453\n",
            "  Val Loss:   1.1457, Val Acc:   0.6410\n",
            "New best model saved! Val Acc: 0.6410\n",
            "\n",
            "==================== EPOCH 10 [ phase 1 ] ====================\n",
            "Epoch 10 [Phase 2] Summary:\n",
            "  Train Loss: 1.0386, Train Acc: 0.6376\n",
            "  Val Loss:   1.1221, Val Acc:   0.6440\n",
            "New best model saved! Val Acc: 0.6440\n",
            "\n",
            "==================== EPOCH 11 [ phase 1 ] ====================\n",
            "Epoch 11 [Phase 2] Summary:\n",
            "  Train Loss: 0.9809, Train Acc: 0.6625\n",
            "  Val Loss:   1.1095, Val Acc:   0.6480\n",
            "New best model saved! Val Acc: 0.6480\n",
            "\n",
            "==================== EPOCH 12 [ phase 1 ] ====================\n",
            "Epoch 12 [Phase 2] Summary:\n",
            "  Train Loss: 0.9807, Train Acc: 0.6608\n",
            "  Val Loss:   1.0922, Val Acc:   0.6525\n",
            "New best model saved! Val Acc: 0.6525\n",
            "\n",
            "==================== EPOCH 13 [ phase 1 ] ====================\n",
            "Epoch 13 [Phase 2] Summary:\n",
            "  Train Loss: 0.9434, Train Acc: 0.6628\n",
            "  Val Loss:   1.0683, Val Acc:   0.6630\n",
            "New best model saved! Val Acc: 0.6630\n",
            "\n",
            "==================== EPOCH 14 [ phase 1 ] ====================\n",
            "Epoch 14 [Phase 2] Summary:\n",
            "  Train Loss: 0.9364, Train Acc: 0.6608\n",
            "  Val Loss:   1.0592, Val Acc:   0.6575\n",
            "\n",
            "==================== EPOCH 15 [ phase 1 ] ====================\n",
            "Epoch 15 [Phase 2] Summary:\n",
            "  Train Loss: 0.8802, Train Acc: 0.6854\n",
            "  Val Loss:   1.0304, Val Acc:   0.6665\n",
            "New best model saved! Val Acc: 0.6665\n",
            "\n",
            "==================== EPOCH 16 [ phase 1 ] ====================\n",
            "Epoch 16 [Phase 2] Summary:\n",
            "  Train Loss: 0.9060, Train Acc: 0.6767\n",
            "  Val Loss:   1.0160, Val Acc:   0.6670\n",
            "New best model saved! Val Acc: 0.6670\n",
            "\n",
            "==================== EPOCH 17 [ phase 1 ] ====================\n",
            "Epoch 17 [Phase 2] Summary:\n",
            "  Train Loss: 0.8888, Train Acc: 0.6823\n",
            "  Val Loss:   1.0177, Val Acc:   0.6740\n",
            "New best model saved! Val Acc: 0.6740\n",
            "\n",
            "==================== EPOCH 18 [ phase 1 ] ====================\n",
            "Epoch 18 [Phase 2] Summary:\n",
            "  Train Loss: 0.8870, Train Acc: 0.6857\n",
            "  Val Loss:   1.0049, Val Acc:   0.6780\n",
            "New best model saved! Val Acc: 0.6780\n",
            "\n",
            "==================== EPOCH 19 [ phase 1 ] ====================\n",
            "Epoch 19 [Phase 2] Summary:\n",
            "  Train Loss: 0.8417, Train Acc: 0.6953\n",
            "  Val Loss:   1.0053, Val Acc:   0.6765\n",
            "\n",
            "==================== EPOCH 20 [ phase 1 ] ====================\n",
            "Epoch 20 [Phase 2] Summary:\n",
            "  Train Loss: 0.8387, Train Acc: 0.6947\n",
            "  Val Loss:   0.9914, Val Acc:   0.6750\n",
            "\n",
            "==================== EPOCH 21 [ phase 1 ] ====================\n",
            "Epoch 21 [Phase 2] Summary:\n",
            "  Train Loss: 0.8097, Train Acc: 0.7162\n",
            "  Val Loss:   0.9750, Val Acc:   0.6820\n",
            "New best model saved! Val Acc: 0.6820\n",
            "\n",
            "==================== EPOCH 22 [ phase 1 ] ====================\n",
            "Epoch 22 [Phase 2] Summary:\n",
            "  Train Loss: 0.8053, Train Acc: 0.7103\n",
            "  Val Loss:   0.9678, Val Acc:   0.6850\n",
            "New best model saved! Val Acc: 0.6850\n",
            "\n",
            "==================== EPOCH 23 [ phase 1 ] ====================\n",
            "Epoch 23 [Phase 2] Summary:\n",
            "  Train Loss: 0.8016, Train Acc: 0.7106\n",
            "  Val Loss:   0.9572, Val Acc:   0.6850\n",
            "\n",
            "==================== EPOCH 24 [ phase 1 ] ====================\n",
            "Epoch 24 [Phase 2] Summary:\n",
            "  Train Loss: 0.7543, Train Acc: 0.7318\n",
            "  Val Loss:   0.9459, Val Acc:   0.6895\n",
            "New best model saved! Val Acc: 0.6895\n",
            "\n",
            "==================== EPOCH 25 [ phase 1 ] ====================\n",
            "Epoch 25 [Phase 2] Summary:\n",
            "  Train Loss: 0.7731, Train Acc: 0.7174\n",
            "  Val Loss:   0.9404, Val Acc:   0.6895\n",
            "\n",
            "==================== EPOCH 26 [ phase 1 ] ====================\n",
            "Epoch 26 [Phase 2] Summary:\n",
            "  Train Loss: 0.7429, Train Acc: 0.7292\n",
            "  Val Loss:   0.9244, Val Acc:   0.6940\n",
            "New best model saved! Val Acc: 0.6940\n",
            "\n",
            "==================== EPOCH 27 [ phase 1 ] ====================\n",
            "Epoch 27 [Phase 2] Summary:\n",
            "  Train Loss: 0.7366, Train Acc: 0.7349\n",
            "  Val Loss:   0.9282, Val Acc:   0.6945\n",
            "New best model saved! Val Acc: 0.6945\n",
            "\n",
            "==================== EPOCH 28 [ phase 1 ] ====================\n",
            "Epoch 28 [Phase 2] Summary:\n",
            "  Train Loss: 0.7116, Train Acc: 0.7419\n",
            "  Val Loss:   0.9178, Val Acc:   0.7000\n",
            "New best model saved! Val Acc: 0.7000\n",
            "\n",
            "==================== EPOCH 29 [ phase 1 ] ====================\n",
            "Epoch 29 [Phase 2] Summary:\n",
            "  Train Loss: 0.7047, Train Acc: 0.7397\n",
            "  Val Loss:   0.9019, Val Acc:   0.6995\n",
            "\n",
            "==================== EPOCH 30 [ phase 1 ] ====================\n",
            "Epoch 30 [Phase 2] Summary:\n",
            "  Train Loss: 0.6924, Train Acc: 0.7578\n",
            "  Val Loss:   0.8974, Val Acc:   0.7014\n",
            "New best model saved! Val Acc: 0.7014\n",
            "\n",
            "==================== EPOCH 31 [ phase 1 ] ====================\n",
            "Epoch 31 [Phase 2] Summary:\n",
            "  Train Loss: 0.6835, Train Acc: 0.7487\n",
            "  Val Loss:   0.8983, Val Acc:   0.7000\n",
            "\n",
            "==================== EPOCH 32 [ phase 1 ] ====================\n",
            "Epoch 32 [Phase 2] Summary:\n",
            "  Train Loss: 0.6742, Train Acc: 0.7547\n",
            "  Val Loss:   0.8779, Val Acc:   0.7089\n",
            "New best model saved! Val Acc: 0.7089\n",
            "\n",
            "==================== EPOCH 33 [ phase 1 ] ====================\n",
            "Epoch 33 [Phase 2] Summary:\n",
            "  Train Loss: 0.6550, Train Acc: 0.7671\n",
            "  Val Loss:   0.8806, Val Acc:   0.7059\n",
            "\n",
            "==================== EPOCH 34 [ phase 1 ] ====================\n",
            "Epoch 34 [Phase 2] Summary:\n",
            "  Train Loss: 0.6609, Train Acc: 0.7549\n",
            "  Val Loss:   0.8730, Val Acc:   0.7104\n",
            "New best model saved! Val Acc: 0.7104\n",
            "\n",
            "==================== EPOCH 35 [ phase 1 ] ====================\n",
            "Epoch 35 [Phase 2] Summary:\n",
            "  Train Loss: 0.6487, Train Acc: 0.7606\n",
            "  Val Loss:   0.8668, Val Acc:   0.7129\n",
            "New best model saved! Val Acc: 0.7129\n",
            "\n",
            "==================== EPOCH 36 [ phase 1 ] ====================\n",
            "Epoch 36 [Phase 2] Summary:\n",
            "  Train Loss: 0.6406, Train Acc: 0.7634\n",
            "  Val Loss:   0.8625, Val Acc:   0.7144\n",
            "New best model saved! Val Acc: 0.7144\n",
            "\n",
            "==================== EPOCH 37 [ phase 1 ] ====================\n",
            "Epoch 37 [Phase 2] Summary:\n",
            "  Train Loss: 0.6252, Train Acc: 0.7764\n",
            "  Val Loss:   0.8438, Val Acc:   0.7169\n",
            "New best model saved! Val Acc: 0.7169\n",
            "\n",
            "==================== EPOCH 38 [ phase 1 ] ====================\n",
            "Epoch 38 [Phase 2] Summary:\n",
            "  Train Loss: 0.5976, Train Acc: 0.7852\n",
            "  Val Loss:   0.8530, Val Acc:   0.7169\n",
            "\n",
            "==================== EPOCH 39 [ phase 1 ] ====================\n",
            "Epoch 39 [Phase 2] Summary:\n",
            "  Train Loss: 0.5989, Train Acc: 0.7815\n",
            "  Val Loss:   0.8323, Val Acc:   0.7229\n",
            "New best model saved! Val Acc: 0.7229\n",
            "\n",
            "==================== EPOCH 40 [ phase 1 ] ====================\n",
            "Epoch 40 [Phase 2] Summary:\n",
            "  Train Loss: 0.5834, Train Acc: 0.7784\n",
            "  Val Loss:   0.8355, Val Acc:   0.7239\n",
            "New best model saved! Val Acc: 0.7239\n",
            "\n",
            "==================== EPOCH 41 [ phase 1 ] ====================\n",
            "Epoch 41 [Phase 2] Summary:\n",
            "  Train Loss: 0.5825, Train Acc: 0.7852\n",
            "  Val Loss:   0.8287, Val Acc:   0.7239\n",
            "\n",
            "==================== EPOCH 42 [ phase 1 ] ====================\n",
            "Epoch 42 [Phase 2] Summary:\n",
            "  Train Loss: 0.5346, Train Acc: 0.8061\n",
            "  Val Loss:   0.8305, Val Acc:   0.7254\n",
            "New best model saved! Val Acc: 0.7254\n",
            "\n",
            "==================== EPOCH 43 [ phase 1 ] ====================\n",
            "Epoch 43 [Phase 2] Summary:\n",
            "  Train Loss: 0.5563, Train Acc: 0.7942\n",
            "  Val Loss:   0.8241, Val Acc:   0.7244\n",
            "\n",
            "==================== EPOCH 44 [ phase 1 ] ====================\n",
            "Epoch 44 [Phase 2] Summary:\n",
            "  Train Loss: 0.5639, Train Acc: 0.7954\n",
            "  Val Loss:   0.8254, Val Acc:   0.7239\n",
            "\n",
            "==================== EPOCH 45 [ phase 1 ] ====================\n",
            "Epoch 45 [Phase 2] Summary:\n",
            "  Train Loss: 0.5504, Train Acc: 0.7934\n",
            "  Val Loss:   0.8140, Val Acc:   0.7279\n",
            "New best model saved! Val Acc: 0.7279\n",
            "\n",
            "==================== EPOCH 46 [ phase 1 ] ====================\n",
            "Epoch 46 [Phase 2] Summary:\n",
            "  Train Loss: 0.5322, Train Acc: 0.8010\n",
            "  Val Loss:   0.8129, Val Acc:   0.7289\n",
            "New best model saved! Val Acc: 0.7289\n",
            "\n",
            "==================== EPOCH 47 [ phase 1 ] ====================\n",
            "Epoch 47 [Phase 2] Summary:\n",
            "  Train Loss: 0.5460, Train Acc: 0.8061\n",
            "  Val Loss:   0.8234, Val Acc:   0.7269\n",
            "\n",
            "==================== EPOCH 48 [ phase 1 ] ====================\n",
            "Epoch 48 [Phase 2] Summary:\n",
            "  Train Loss: 0.5012, Train Acc: 0.8163\n",
            "  Val Loss:   0.8105, Val Acc:   0.7304\n",
            "New best model saved! Val Acc: 0.7304\n",
            "\n",
            "==================== EPOCH 49 [ phase 1 ] ====================\n",
            "Epoch 49 [Phase 2] Summary:\n",
            "  Train Loss: 0.4818, Train Acc: 0.8154\n",
            "  Val Loss:   0.8020, Val Acc:   0.7319\n",
            "New best model saved! Val Acc: 0.7319\n",
            "\n",
            "==================== EPOCH 50 [ phase 1 ] ====================\n",
            "Epoch 50 [Phase 2] Summary:\n",
            "  Train Loss: 0.5004, Train Acc: 0.8151\n",
            "  Val Loss:   0.7961, Val Acc:   0.7314\n",
            "\n",
            "==================== EPOCH 51 [ phase 1 ] ====================\n",
            "Epoch 51 [Phase 2] Summary:\n",
            "  Train Loss: 0.4865, Train Acc: 0.8197\n",
            "  Val Loss:   0.7937, Val Acc:   0.7364\n",
            "New best model saved! Val Acc: 0.7364\n",
            "\n",
            "==================== EPOCH 52 [ phase 1 ] ====================\n",
            "Epoch 52 [Phase 2] Summary:\n",
            "  Train Loss: 0.5026, Train Acc: 0.8163\n",
            "  Val Loss:   0.7960, Val Acc:   0.7364\n",
            "\n",
            "==================== EPOCH 53 [ phase 1 ] ====================\n",
            "Epoch 53 [Phase 2] Summary:\n",
            "  Train Loss: 0.4710, Train Acc: 0.8231\n",
            "  Val Loss:   0.8009, Val Acc:   0.7349\n",
            "\n",
            "==================== EPOCH 54 [ phase 1 ] ====================\n",
            "Epoch 54 [Phase 2] Summary:\n",
            "  Train Loss: 0.4621, Train Acc: 0.8259\n",
            "  Val Loss:   0.8047, Val Acc:   0.7354\n",
            "\n",
            "==================== EPOCH 55 [ phase 1 ] ====================\n",
            "Epoch 55 [Phase 2] Summary:\n",
            "  Train Loss: 0.4529, Train Acc: 0.8361\n",
            "  Val Loss:   0.8009, Val Acc:   0.7349\n",
            "\n",
            "==================== EPOCH 56 [ phase 1 ] ====================\n",
            "Epoch 56 [Phase 2] Summary:\n",
            "  Train Loss: 0.4138, Train Acc: 0.8417\n",
            "  Val Loss:   0.7910, Val Acc:   0.7404\n",
            "New best model saved! Val Acc: 0.7404\n",
            "\n",
            "==================== EPOCH 57 [ phase 1 ] ====================\n",
            "Epoch 57 [Phase 2] Summary:\n",
            "  Train Loss: 0.4445, Train Acc: 0.8344\n",
            "  Val Loss:   0.7961, Val Acc:   0.7404\n",
            "\n",
            "==================== EPOCH 58 [ phase 1 ] ====================\n",
            "Epoch 58 [Phase 2] Summary:\n",
            "  Train Loss: 0.4455, Train Acc: 0.8369\n",
            "  Val Loss:   0.7924, Val Acc:   0.7414\n",
            "New best model saved! Val Acc: 0.7414\n",
            "\n",
            "==================== EPOCH 59 [ phase 1 ] ====================\n",
            "Epoch 59 [Phase 2] Summary:\n",
            "  Train Loss: 0.4231, Train Acc: 0.8451\n",
            "  Val Loss:   0.7872, Val Acc:   0.7469\n",
            "New best model saved! Val Acc: 0.7469\n",
            "\n",
            "==================== EPOCH 60 [ phase 1 ] ====================\n",
            "Epoch 60 [Phase 2] Summary:\n",
            "  Train Loss: 0.3974, Train Acc: 0.8570\n",
            "  Val Loss:   0.7833, Val Acc:   0.7444\n",
            "\n",
            "==================== EPOCH 61 [ phase 1 ] ====================\n",
            "Epoch 61 [Phase 2] Summary:\n",
            "  Train Loss: 0.4222, Train Acc: 0.8477\n",
            "  Val Loss:   0.7729, Val Acc:   0.7454\n",
            "\n",
            "==================== EPOCH 62 [ phase 1 ] ====================\n",
            "Epoch 62 [Phase 2] Summary:\n",
            "  Train Loss: 0.4076, Train Acc: 0.8522\n",
            "  Val Loss:   0.7832, Val Acc:   0.7424\n",
            "\n",
            "==================== EPOCH 63 [ phase 1 ] ====================\n",
            "Epoch 63 [Phase 2] Summary:\n",
            "  Train Loss: 0.4108, Train Acc: 0.8527\n",
            "  Val Loss:   0.7737, Val Acc:   0.7479\n",
            "New best model saved! Val Acc: 0.7479\n",
            "\n",
            "==================== EPOCH 64 [ phase 1 ] ====================\n",
            "Epoch 64 [Phase 2] Summary:\n",
            "  Train Loss: 0.3793, Train Acc: 0.8621\n",
            "  Val Loss:   0.7651, Val Acc:   0.7474\n",
            "\n",
            "==================== EPOCH 65 [ phase 1 ] ====================\n",
            "Epoch 65 [Phase 2] Summary:\n",
            "  Train Loss: 0.3882, Train Acc: 0.8553\n",
            "  Val Loss:   0.7689, Val Acc:   0.7509\n",
            "New best model saved! Val Acc: 0.7509\n",
            "\n",
            "==================== EPOCH 66 [ phase 1 ] ====================\n",
            "Epoch 66 [Phase 2] Summary:\n",
            "  Train Loss: 0.3891, Train Acc: 0.8587\n",
            "  Val Loss:   0.7662, Val Acc:   0.7474\n",
            "\n",
            "==================== EPOCH 67 [ phase 1 ] ====================\n",
            "Epoch 67 [Phase 2] Summary:\n",
            "  Train Loss: 0.3743, Train Acc: 0.8643\n",
            "  Val Loss:   0.7600, Val Acc:   0.7519\n",
            "New best model saved! Val Acc: 0.7519\n",
            "\n",
            "==================== EPOCH 68 [ phase 1 ] ====================\n",
            "Epoch 68 [Phase 2] Summary:\n",
            "  Train Loss: 0.3879, Train Acc: 0.8559\n",
            "  Val Loss:   0.7612, Val Acc:   0.7494\n",
            "\n",
            "==================== EPOCH 69 [ phase 1 ] ====================\n",
            "Epoch 69 [Phase 2] Summary:\n",
            "  Train Loss: 0.3561, Train Acc: 0.8739\n",
            "  Val Loss:   0.7557, Val Acc:   0.7484\n",
            "\n",
            "==================== EPOCH 70 [ phase 1 ] ====================\n",
            "Epoch 70 [Phase 2] Summary:\n",
            "  Train Loss: 0.3725, Train Acc: 0.8691\n",
            "  Val Loss:   0.7439, Val Acc:   0.7529\n",
            "New best model saved! Val Acc: 0.7529\n",
            "\n",
            "==================== EPOCH 71 [ phase 1 ] ====================\n",
            "Epoch 71 [Phase 2] Summary:\n",
            "  Train Loss: 0.3693, Train Acc: 0.8652\n",
            "  Val Loss:   0.7534, Val Acc:   0.7529\n",
            "\n",
            "==================== EPOCH 72 [ phase 1 ] ====================\n",
            "Epoch 72 [Phase 2] Summary:\n",
            "  Train Loss: 0.3616, Train Acc: 0.8680\n",
            "  Val Loss:   0.7405, Val Acc:   0.7584\n",
            "New best model saved! Val Acc: 0.7584\n",
            "\n",
            "==================== EPOCH 73 [ phase 1 ] ====================\n",
            "Epoch 73 [Phase 2] Summary:\n",
            "  Train Loss: 0.3432, Train Acc: 0.8737\n",
            "  Val Loss:   0.7481, Val Acc:   0.7564\n",
            "\n",
            "==================== EPOCH 74 [ phase 1 ] ====================\n",
            "Epoch 74 [Phase 2] Summary:\n",
            "  Train Loss: 0.3364, Train Acc: 0.8776\n",
            "  Val Loss:   0.7318, Val Acc:   0.7609\n",
            "New best model saved! Val Acc: 0.7609\n",
            "\n",
            "==================== EPOCH 75 [ phase 1 ] ====================\n",
            "Epoch 75 [Phase 2] Summary:\n",
            "  Train Loss: 0.3263, Train Acc: 0.8901\n",
            "  Val Loss:   0.7431, Val Acc:   0.7579\n",
            "\n",
            "==================== EPOCH 76 [ phase 1 ] ====================\n",
            "Epoch 76 [Phase 2] Summary:\n",
            "  Train Loss: 0.3361, Train Acc: 0.8819\n",
            "  Val Loss:   0.7482, Val Acc:   0.7564\n",
            "\n",
            "==================== EPOCH 77 [ phase 1 ] ====================\n",
            "Epoch 77 [Phase 2] Summary:\n",
            "  Train Loss: 0.3211, Train Acc: 0.8884\n",
            "  Val Loss:   0.7389, Val Acc:   0.7569\n",
            "\n",
            "==================== EPOCH 78 [ phase 1 ] ====================\n",
            "Epoch 78 [Phase 2] Summary:\n",
            "  Train Loss: 0.3002, Train Acc: 0.8982\n",
            "  Val Loss:   0.7298, Val Acc:   0.7639\n",
            "New best model saved! Val Acc: 0.7639\n",
            "\n",
            "==================== EPOCH 79 [ phase 1 ] ====================\n",
            "Epoch 79 [Phase 2] Summary:\n",
            "  Train Loss: 0.3095, Train Acc: 0.8963\n",
            "  Val Loss:   0.7323, Val Acc:   0.7688\n",
            "New best model saved! Val Acc: 0.7688\n",
            "\n",
            "==================== EPOCH 80 [ phase 1 ] ====================\n",
            "Epoch 80 [Phase 2] Summary:\n",
            "  Train Loss: 0.3081, Train Acc: 0.8909\n",
            "  Val Loss:   0.7379, Val Acc:   0.7634\n",
            "\n",
            "==================== EPOCH 81 [ phase 1 ] ====================\n",
            "Epoch 81 [Phase 2] Summary:\n",
            "  Train Loss: 0.3061, Train Acc: 0.8932\n",
            "  Val Loss:   0.7240, Val Acc:   0.7678\n",
            "\n",
            "==================== EPOCH 82 [ phase 1 ] ====================\n",
            "Epoch 82 [Phase 2] Summary:\n",
            "  Train Loss: 0.2900, Train Acc: 0.9011\n",
            "  Val Loss:   0.7263, Val Acc:   0.7649\n",
            "\n",
            "==================== EPOCH 83 [ phase 1 ] ====================\n",
            "Epoch 83 [Phase 2] Summary:\n",
            "  Train Loss: 0.3075, Train Acc: 0.8909\n",
            "  Val Loss:   0.7376, Val Acc:   0.7654\n",
            "\n",
            "==================== EPOCH 84 [ phase 1 ] ====================\n",
            "Epoch 84 [Phase 2] Summary:\n",
            "  Train Loss: 0.2824, Train Acc: 0.8940\n",
            "  Val Loss:   0.7394, Val Acc:   0.7639\n",
            "\n",
            "==================== EPOCH 85 [ phase 1 ] ====================\n",
            "Epoch 85 [Phase 2] Summary:\n",
            "  Train Loss: 0.2724, Train Acc: 0.9011\n",
            "  Val Loss:   0.7290, Val Acc:   0.7708\n",
            "New best model saved! Val Acc: 0.7708\n",
            "\n",
            "==================== EPOCH 86 [ phase 1 ] ====================\n",
            "Epoch 86 [Phase 2] Summary:\n",
            "  Train Loss: 0.2684, Train Acc: 0.9127\n",
            "  Val Loss:   0.7431, Val Acc:   0.7644\n",
            "\n",
            "==================== EPOCH 87 [ phase 1 ] ====================\n",
            "Epoch 87 [Phase 2] Summary:\n",
            "  Train Loss: 0.2787, Train Acc: 0.9016\n",
            "  Val Loss:   0.7324, Val Acc:   0.7673\n",
            "\n",
            "==================== EPOCH 88 [ phase 1 ] ====================\n",
            "Epoch 88 [Phase 2] Summary:\n",
            "  Train Loss: 0.2772, Train Acc: 0.9050\n",
            "  Val Loss:   0.7364, Val Acc:   0.7664\n",
            "\n",
            "==================== EPOCH 89 [ phase 1 ] ====================\n",
            "Epoch 89 [Phase 2] Summary:\n",
            "  Train Loss: 0.2764, Train Acc: 0.9033\n",
            "  Val Loss:   0.7487, Val Acc:   0.7639\n",
            "\n",
            "==================== EPOCH 90 [ phase 1 ] ====================\n",
            "Epoch 90 [Phase 2] Summary:\n",
            "  Train Loss: 0.2869, Train Acc: 0.9022\n",
            "  Val Loss:   0.7329, Val Acc:   0.7708\n",
            "\n",
            "==================== EPOCH 91 [ phase 1 ] ====================\n",
            "Epoch 91 [Phase 2] Summary:\n",
            "  Train Loss: 0.2670, Train Acc: 0.9093\n",
            "  Val Loss:   0.7250, Val Acc:   0.7738\n",
            "New best model saved! Val Acc: 0.7738\n",
            "\n",
            "==================== EPOCH 92 [ phase 1 ] ====================\n",
            "Epoch 92 [Phase 2] Summary:\n",
            "  Train Loss: 0.2604, Train Acc: 0.9101\n",
            "  Val Loss:   0.7198, Val Acc:   0.7763\n",
            "New best model saved! Val Acc: 0.7763\n",
            "\n",
            "==================== EPOCH 93 [ phase 1 ] ====================\n",
            "Epoch 93 [Phase 2] Summary:\n",
            "  Train Loss: 0.2608, Train Acc: 0.9121\n",
            "  Val Loss:   0.7198, Val Acc:   0.7738\n",
            "\n",
            "==================== EPOCH 94 [ phase 1 ] ====================\n",
            "Epoch 94 [Phase 2] Summary:\n",
            "  Train Loss: 0.2425, Train Acc: 0.9209\n",
            "  Val Loss:   0.7319, Val Acc:   0.7673\n",
            "\n",
            "==================== EPOCH 95 [ phase 1 ] ====================\n",
            "Epoch 95 [Phase 2] Summary:\n",
            "  Train Loss: 0.2271, Train Acc: 0.9194\n",
            "  Val Loss:   0.7193, Val Acc:   0.7733\n",
            "\n",
            "==================== EPOCH 96 [ phase 1 ] ====================\n",
            "Epoch 96 [Phase 2] Summary:\n",
            "  Train Loss: 0.2512, Train Acc: 0.9124\n",
            "  Val Loss:   0.7223, Val Acc:   0.7758\n",
            "\n",
            "==================== EPOCH 97 [ phase 1 ] ====================\n",
            "Epoch 97 [Phase 2] Summary:\n",
            "  Train Loss: 0.2333, Train Acc: 0.9172\n",
            "  Val Loss:   0.7254, Val Acc:   0.7728\n",
            "\n",
            "==================== EPOCH 98 [ phase 1 ] ====================\n",
            "Epoch 98 [Phase 2] Summary:\n",
            "  Train Loss: 0.2437, Train Acc: 0.9144\n",
            "  Val Loss:   0.7211, Val Acc:   0.7788\n",
            "New best model saved! Val Acc: 0.7788\n",
            "\n",
            "==================== EPOCH 99 [ phase 1 ] ====================\n",
            "Epoch 99 [Phase 2] Summary:\n",
            "  Train Loss: 0.2301, Train Acc: 0.9206\n",
            "  Val Loss:   0.7273, Val Acc:   0.7763\n",
            "\n",
            "==================== EPOCH 100 [ phase 1 ] ====================\n",
            "Epoch 100 [Phase 2] Summary:\n",
            "  Train Loss: 0.2186, Train Acc: 0.9240\n",
            "  Val Loss:   0.7312, Val Acc:   0.7743\n",
            "\n",
            "==================== EPOCH 101 [ phase 1 ] ====================\n",
            "Epoch 101 [Phase 2] Summary:\n",
            "  Train Loss: 0.2122, Train Acc: 0.9265\n",
            "  Val Loss:   0.7250, Val Acc:   0.7768\n",
            "\n",
            "==================== EPOCH 102 [ phase 1 ] ====================\n",
            "Epoch 102 [Phase 2] Summary:\n",
            "  Train Loss: 0.2264, Train Acc: 0.9240\n",
            "  Val Loss:   0.7172, Val Acc:   0.7778\n",
            "\n",
            "==================== EPOCH 103 [ phase 1 ] ====================\n",
            "Epoch 103 [Phase 2] Summary:\n",
            "  Train Loss: 0.2239, Train Acc: 0.9259\n",
            "  Val Loss:   0.7155, Val Acc:   0.7763\n",
            "\n",
            "==================== EPOCH 104 [ phase 1 ] ====================\n",
            "Epoch 104 [Phase 2] Summary:\n",
            "  Train Loss: 0.2062, Train Acc: 0.9364\n",
            "  Val Loss:   0.7157, Val Acc:   0.7798\n",
            "New best model saved! Val Acc: 0.7798\n",
            "\n",
            "==================== EPOCH 105 [ phase 1 ] ====================\n",
            "Epoch 105 [Phase 2] Summary:\n",
            "  Train Loss: 0.2109, Train Acc: 0.9282\n",
            "  Val Loss:   0.7225, Val Acc:   0.7733\n",
            "\n",
            "==================== EPOCH 106 [ phase 1 ] ====================\n",
            "Epoch 106 [Phase 2] Summary:\n",
            "  Train Loss: 0.2133, Train Acc: 0.9319\n",
            "  Val Loss:   0.7215, Val Acc:   0.7768\n",
            "\n",
            "==================== EPOCH 107 [ phase 1 ] ====================\n",
            "Epoch 107 [Phase 2] Summary:\n",
            "  Train Loss: 0.2067, Train Acc: 0.9333\n",
            "  Val Loss:   0.7138, Val Acc:   0.7813\n",
            "New best model saved! Val Acc: 0.7813\n",
            "\n",
            "==================== EPOCH 108 [ phase 1 ] ====================\n",
            "Epoch 108 [Phase 2] Summary:\n",
            "  Train Loss: 0.1862, Train Acc: 0.9423\n",
            "  Val Loss:   0.7260, Val Acc:   0.7738\n",
            "\n",
            "==================== EPOCH 109 [ phase 1 ] ====================\n",
            "Epoch 109 [Phase 2] Summary:\n",
            "  Train Loss: 0.2079, Train Acc: 0.9361\n",
            "  Val Loss:   0.7288, Val Acc:   0.7783\n",
            "\n",
            "==================== EPOCH 110 [ phase 1 ] ====================\n",
            "Epoch 110 [Phase 2] Summary:\n",
            "  Train Loss: 0.2009, Train Acc: 0.9310\n",
            "  Val Loss:   0.7245, Val Acc:   0.7778\n",
            "\n",
            "==================== EPOCH 111 [ phase 1 ] ====================\n",
            "Epoch 111 [Phase 2] Summary:\n",
            "  Train Loss: 0.1943, Train Acc: 0.9358\n",
            "  Val Loss:   0.7139, Val Acc:   0.7808\n",
            "\n",
            "==================== EPOCH 112 [ phase 1 ] ====================\n",
            "Epoch 112 [Phase 2] Summary:\n",
            "  Train Loss: 0.1918, Train Acc: 0.9392\n",
            "  Val Loss:   0.7199, Val Acc:   0.7768\n",
            "\n",
            "==================== EPOCH 113 [ phase 1 ] ====================\n",
            "Epoch 113 [Phase 2] Summary:\n",
            "  Train Loss: 0.2008, Train Acc: 0.9347\n",
            "  Val Loss:   0.7187, Val Acc:   0.7803\n",
            "\n",
            "==================== EPOCH 114 [ phase 1 ] ====================\n",
            "Epoch 114 [Phase 2] Summary:\n",
            "  Train Loss: 0.1994, Train Acc: 0.9364\n",
            "  Val Loss:   0.7081, Val Acc:   0.7843\n",
            "New best model saved! Val Acc: 0.7843\n",
            "\n",
            "==================== EPOCH 115 [ phase 1 ] ====================\n",
            "Epoch 115 [Phase 2] Summary:\n",
            "  Train Loss: 0.1883, Train Acc: 0.9375\n",
            "  Val Loss:   0.7230, Val Acc:   0.7783\n",
            "\n",
            "==================== EPOCH 116 [ phase 1 ] ====================\n",
            "Epoch 116 [Phase 2] Summary:\n",
            "  Train Loss: 0.1857, Train Acc: 0.9398\n",
            "  Val Loss:   0.7169, Val Acc:   0.7813\n",
            "\n",
            "==================== EPOCH 117 [ phase 1 ] ====================\n",
            "Epoch 117 [Phase 2] Summary:\n",
            "  Train Loss: 0.1900, Train Acc: 0.9364\n",
            "  Val Loss:   0.7217, Val Acc:   0.7803\n",
            "\n",
            "==================== EPOCH 118 [ phase 1 ] ====================\n",
            "Epoch 118 [Phase 2] Summary:\n",
            "  Train Loss: 0.1793, Train Acc: 0.9460\n",
            "  Val Loss:   0.7155, Val Acc:   0.7823\n",
            "\n",
            "==================== EPOCH 119 [ phase 1 ] ====================\n",
            "Epoch 119 [Phase 2] Summary:\n",
            "  Train Loss: 0.1816, Train Acc: 0.9421\n",
            "  Val Loss:   0.7172, Val Acc:   0.7838\n",
            "\n",
            "==================== EPOCH 120 [ phase 1 ] ====================\n",
            "Epoch 120 [Phase 2] Summary:\n",
            "  Train Loss: 0.1672, Train Acc: 0.9454\n",
            "  Val Loss:   0.7197, Val Acc:   0.7818\n",
            "\n",
            "==================== EPOCH 121 [ phase 1 ] ====================\n",
            "Epoch 121 [Phase 2] Summary:\n",
            "  Train Loss: 0.1624, Train Acc: 0.9471\n",
            "  Val Loss:   0.7202, Val Acc:   0.7813\n",
            "\n",
            "==================== EPOCH 122 [ phase 1 ] ====================\n",
            "Epoch 122 [Phase 2] Summary:\n",
            "  Train Loss: 0.1645, Train Acc: 0.9469\n",
            "  Val Loss:   0.7313, Val Acc:   0.7808\n",
            "\n",
            "==================== EPOCH 123 [ phase 1 ] ====================\n",
            "Epoch 123 [Phase 2] Summary:\n",
            "  Train Loss: 0.1664, Train Acc: 0.9454\n",
            "  Val Loss:   0.7346, Val Acc:   0.7858\n",
            "New best model saved! Val Acc: 0.7858\n",
            "\n",
            "==================== EPOCH 124 [ phase 1 ] ====================\n",
            "Epoch 124 [Phase 2] Summary:\n",
            "  Train Loss: 0.1763, Train Acc: 0.9418\n",
            "  Val Loss:   0.7243, Val Acc:   0.7843\n",
            "\n",
            "==================== EPOCH 125 [ phase 1 ] ====================\n",
            "Epoch 125 [Phase 2] Summary:\n",
            "  Train Loss: 0.1790, Train Acc: 0.9443\n",
            "  Val Loss:   0.7261, Val Acc:   0.7818\n",
            "\n",
            "==================== EPOCH 126 [ phase 1 ] ====================\n",
            "Epoch 126 [Phase 2] Summary:\n",
            "  Train Loss: 0.1620, Train Acc: 0.9469\n",
            "  Val Loss:   0.7169, Val Acc:   0.7868\n",
            "New best model saved! Val Acc: 0.7868\n",
            "\n",
            "==================== EPOCH 127 [ phase 1 ] ====================\n",
            "Epoch 127 [Phase 2] Summary:\n",
            "  Train Loss: 0.1638, Train Acc: 0.9477\n",
            "  Val Loss:   0.7145, Val Acc:   0.7883\n",
            "New best model saved! Val Acc: 0.7883\n",
            "\n",
            "==================== EPOCH 128 [ phase 1 ] ====================\n",
            "Epoch 128 [Phase 2] Summary:\n",
            "  Train Loss: 0.1542, Train Acc: 0.9528\n",
            "  Val Loss:   0.7311, Val Acc:   0.7853\n",
            "\n",
            "==================== EPOCH 129 [ phase 1 ] ====================\n",
            "Epoch 129 [Phase 2] Summary:\n",
            "  Train Loss: 0.1580, Train Acc: 0.9531\n",
            "  Val Loss:   0.7337, Val Acc:   0.7818\n",
            "\n",
            "==================== EPOCH 130 [ phase 1 ] ====================\n",
            "Epoch 130 [Phase 2] Summary:\n",
            "  Train Loss: 0.1687, Train Acc: 0.9454\n",
            "  Val Loss:   0.7316, Val Acc:   0.7833\n",
            "\n",
            "==================== EPOCH 131 [ phase 1 ] ====================\n",
            "Epoch 131 [Phase 2] Summary:\n",
            "  Train Loss: 0.1516, Train Acc: 0.9534\n",
            "  Val Loss:   0.7198, Val Acc:   0.7863\n",
            "\n",
            "==================== EPOCH 132 [ phase 1 ] ====================\n",
            "Epoch 132 [Phase 2] Summary:\n",
            "  Train Loss: 0.1604, Train Acc: 0.9494\n",
            "  Val Loss:   0.7315, Val Acc:   0.7843\n",
            "\n",
            "==================== EPOCH 133 [ phase 1 ] ====================\n",
            "Epoch 133 [Phase 2] Summary:\n",
            "  Train Loss: 0.1572, Train Acc: 0.9520\n",
            "  Val Loss:   0.7343, Val Acc:   0.7868\n",
            "\n",
            "==================== EPOCH 134 [ phase 1 ] ====================\n",
            "Epoch 134 [Phase 2] Summary:\n",
            "  Train Loss: 0.1443, Train Acc: 0.9570\n",
            "  Val Loss:   0.7409, Val Acc:   0.7848\n",
            "\n",
            "==================== EPOCH 135 [ phase 1 ] ====================\n",
            "Epoch 135 [Phase 2] Summary:\n",
            "  Train Loss: 0.1472, Train Acc: 0.9508\n",
            "  Val Loss:   0.7373, Val Acc:   0.7863\n",
            "\n",
            "==================== EPOCH 136 [ phase 1 ] ====================\n",
            "Epoch 136 [Phase 2] Summary:\n",
            "  Train Loss: 0.1492, Train Acc: 0.9505\n",
            "  Val Loss:   0.7289, Val Acc:   0.7868\n",
            "\n",
            "==================== EPOCH 137 [ phase 1 ] ====================\n",
            "Epoch 137 [Phase 2] Summary:\n",
            "  Train Loss: 0.1490, Train Acc: 0.9486\n",
            "  Val Loss:   0.7248, Val Acc:   0.7883\n",
            "\n",
            "==================== EPOCH 138 [ phase 1 ] ====================\n",
            "Epoch 138 [Phase 2] Summary:\n",
            "  Train Loss: 0.1461, Train Acc: 0.9585\n",
            "  Val Loss:   0.7301, Val Acc:   0.7878\n",
            "\n",
            "==================== EPOCH 139 [ phase 1 ] ====================\n",
            "Epoch 139 [Phase 2] Summary:\n",
            "  Train Loss: 0.1490, Train Acc: 0.9525\n",
            "  Val Loss:   0.7221, Val Acc:   0.7858\n",
            "Early stopping triggered! No improvement in 12 epochs.\n"
          ]
        }
      ],
      "source": [
        "print(\"\\n\" + \"=\"*50)\n",
        "print(\"PHASE 2: Fine-tuning entire model\")\n",
        "print(\"=\"*50)\n",
        "\n",
        "# Unfreeze all layers\n",
        "for param in model.parameters():\n",
        "    param.requires_grad = True\n",
        "\n",
        "trainable_params = sum(p.numel() for p in model.parameters() if p.requires_grad)\n",
        "print(f\"Trainable parameters: {trainable_params:,} (100% of total)\")\n",
        "\n",
        "# Lower learning rate for fine-tuning\n",
        "optimizer_phase2 = optim.Adam(model.parameters(), lr=1e-5)\n",
        "\n",
        "# Early stopping parameters\n",
        "patience = 12 #Number of epochs to wait for improvement\n",
        "best_val_loss = float('inf') #Initialize with a very large value\n",
        "epochs_without_improvement = 0\n",
        "\n",
        "# Phase 2 training\n",
        "phase2_epochs = 150\n",
        "training_counter = 0\n",
        "best_val_acc_p2 = best_val_acc_p1 #Start from the best accuracy from phase 1\n",
        "\n",
        "for epoch in range(1, phase2_epochs + 1):\n",
        "    training_counter += 1\n",
        "\n",
        "    # Call the same training function again\n",
        "    train_loss, train_acc, val_loss, val_acc, predictions, targets = train_epoch(\n",
        "        model, train_loader, val_loader, criterion, optimizer_phase2, scaler, scheduler, epoch, phase='Phase 2')\n",
        "\n",
        "    # Save the best model from phase 2 ONLY after early stopping, based on accuracy\n",
        "    if val_acc > best_val_acc_p2:  # Change condition to check for accuracy improvement\n",
        "        best_val_acc_p2 = val_acc\n",
        "        epochs_without_improvement = 0\n",
        "\n",
        "        all_predictions, all_targets = predictions, targets\n",
        "\n",
        "        # Save the model here since it's the best so far\n",
        "        torch.save({\n",
        "            'epoch': epoch,\n",
        "            'model_state_dict': model.state_dict(),\n",
        "            'optimizer_state_dict': optimizer_phase2.state_dict(),\n",
        "            'val_acc': val_acc,\n",
        "        }, DATA_DIR + \"/trained_model/phase2_best(undersampled).pth\")\n",
        "        print(f\"New best model saved! Val Acc: {val_acc:.4f}\")\n",
        "    else:\n",
        "        epochs_without_improvement += 1\n",
        "        if epochs_without_improvement >= patience:\n",
        "            print(f\"Early stopping triggered! No improvement in {patience} epochs.\")\n",
        "            break # Exit training loop"
      ]
    },
    {
      "cell_type": "markdown",
      "metadata": {
        "id": "jsJ0jxklwgWq"
      },
      "source": [
        "- Overall Phase 1 and 2 Accuracy Results"
      ]
    },
    {
      "cell_type": "code",
      "execution_count": null,
      "metadata": {
        "id": "F00yJIaKwgWq",
        "colab": {
          "base_uri": "https://localhost:8080/"
        },
        "outputId": "f93b39ae-8f68-4860-f70d-641b339e83f3"
      },
      "outputs": [
        {
          "output_type": "stream",
          "name": "stdout",
          "text": [
            "\n",
            "Training complete!\n",
            "Phase 1 best val accuracy: 0.5886\n",
            "Phase 2 best val accuracy: 0.7883\n",
            "Improvement: 0.1997\n"
          ]
        }
      ],
      "source": [
        "print(\"\\nTraining complete!\")\n",
        "print(f\"Phase 1 best val accuracy: {best_val_acc_p1:.4f}\")\n",
        "print(f\"Phase 2 best val accuracy: {best_val_acc_p2:.4f}\")\n",
        "print(f\"Improvement: {best_val_acc_p2 - best_val_acc_p1:.4f}\")"
      ]
    },
    {
      "cell_type": "markdown",
      "metadata": {
        "id": "tijeOBnkwgWr"
      },
      "source": [
        "**13) Model Evaluation**"
      ]
    },
    {
      "cell_type": "code",
      "execution_count": null,
      "metadata": {
        "id": "2khVg5tCwgWr",
        "colab": {
          "base_uri": "https://localhost:8080/",
          "height": 397
        },
        "outputId": "5c6f6e9a-3275-4ce0-b437-4d80b0c911e6"
      },
      "outputs": [
        {
          "output_type": "display_data",
          "data": {
            "text/plain": [
              "<Figure size 1500x500 with 2 Axes>"
            ],
            "image/png": "[encoded data removed]"
          },
          "metadata": {}
        }
      ],
      "source": [
        "plt.figure(figsize=(15, 5))\n",
        "\n",
        "# Plot training and validation loss\n",
        "plt.subplot(1, 2, 1)\n",
        "plt.plot(history['train_loss'], label='Train Loss')\n",
        "plt.plot(history['val_loss'], label='Val Loss')\n",
        "plt.xlabel('Epoch')\n",
        "plt.ylabel('Loss')\n",
        "plt.legend()\n",
        "plt.title('Loss Curves')\n",
        "\n",
        "# Plot training and validation accuracy\n",
        "plt.subplot(1, 2, 2)\n",
        "plt.plot(history['train_acc'], label='Train Acc')\n",
        "plt.plot(history['val_acc'], label='Val Acc')\n",
        "plt.xlabel('Epoch')\n",
        "plt.ylabel('Accuracy')\n",
        "plt.legend()\n",
        "plt.title('Accuracy Curves')\n",
        "\n",
        "plt.tight_layout()\n",
        "plt.show()"
      ]
    },
    {
      "cell_type": "markdown",
      "metadata": {
        "id": "diYObGDTwgWr"
      },
      "source": [
        "**14) Generate Final Evaluation Metrics: Confusion Matrix**"
      ]
    },
    {
      "cell_type": "code",
      "execution_count": null,
      "metadata": {
        "id": "lAaGDRo3wgWr",
        "colab": {
          "base_uri": "https://localhost:8080/",
          "height": 1000
        },
        "outputId": "413bd255-090d-497a-c73c-6f8590aa657a"
      },
      "outputs": [
        {
          "output_type": "display_data",
          "data": {
            "text/plain": [
              "<Figure size 1000x800 with 2 Axes>"
            ],
            "image/png": "[encoded data removed]"
          },
          "metadata": {}
        },
        {
          "output_type": "stream",
          "name": "stdout",
          "text": [
            "\n",
            "Classification Report:\n",
            "                                precision    recall  f1-score   support\n",
            "\n",
            "             Actinic keratoses       0.62      0.72      0.67        65\n",
            "          Basal cell carcinoma       0.64      0.81      0.72       103\n",
            "Benign keratosis-like lesions        0.59      0.74      0.65       220\n",
            "                Dermatofibroma       0.83      0.65      0.73        23\n",
            "              Melanocytic nevi       0.96      0.81      0.88      1341\n",
            "                      Melanoma       0.47      0.70      0.56       223\n",
            "              Vascular lesions       0.83      0.86      0.84        28\n",
            "\n",
            "                      accuracy                           0.79      2003\n",
            "                     macro avg       0.70      0.76      0.72      2003\n",
            "                  weighted avg       0.83      0.79      0.80      2003\n",
            "\n"
          ]
        }
      ],
      "source": [
        "# Create confusion matrix from sklearn\n",
        "cm = confusion_matrix(all_targets, all_predictions)\n",
        "\n",
        "# Find class name, \"cell_type\" that corresponds from cell_type_idx which is the label (y) in HAM10000Dataset\n",
        "# Get the categories (cell_type names) in the order of cell_type_idx\n",
        "class_names = list(pd.Categorical(skin_df['cell_type']).categories)\n",
        "\n",
        "plt.figure(figsize=(10, 8))\n",
        "sns.heatmap(cm, annot=True, fmt='d', cmap='Blues', xticklabels=class_names, yticklabels=class_names)\n",
        "plt.xlabel('Predicted')\n",
        "plt.ylabel('Actual')\n",
        "plt.title('Confusion Matrix')\n",
        "plt.tight_layout()\n",
        "plt.show()\n",
        "\n",
        "# Print classification report\n",
        "print(\"\\nClassification Report:\")\n",
        "print(classification_report(all_targets, all_predictions, target_names=class_names))"
      ]
    }
  ],
  "metadata": {
    "accelerator": "GPU",
    "colab": {
      "gpuType": "A100",
      "provenance": []
    },
    "kernelspec": {
      "display_name": "Python 3",
      "name": "python3"
    },
    "language_info": {
      "codemirror_mode": {
        "name": "ipython",
        "version": 3
      },
      "file_extension": ".py",
      "mimetype": "text/x-python",
      "name": "python",
      "nbconvert_exporter": "python",
      "pygments_lexer": "ipython3",
      "version": "3.11.5"
    }
  },
  "nbformat": 4,
  "nbformat_minor": 0
}